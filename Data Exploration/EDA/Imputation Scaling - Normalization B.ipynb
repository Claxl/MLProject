{
 "cells": [
  {
   "cell_type": "code",
   "execution_count": 1,
   "id": "ae99bf4d",
   "metadata": {},
   "outputs": [],
   "source": [
    "import pandas as pd\n",
    "import numpy as np\n",
    "import matplotlib.pyplot as plt"
   ]
  },
  {
   "cell_type": "code",
   "execution_count": 22,
   "id": "fc3b1064",
   "metadata": {},
   "outputs": [],
   "source": [
    "df_train_est_A = pd.read_csv('train_est_B.csv')\n",
    "df_train_obs_A = pd.read_csv('train_obs_B.csv')\n",
    "df_test_A = pd.read_csv('X_test_B.csv')\n",
    "df_train_est_A = df_train_est_A.rename(columns={'Unnamed: 0': 'date_forecast'})\n",
    "\n",
    "df_train_obs_A = df_train_obs_A.rename(columns={'Unnamed: 0': 'date_forecast'})\n",
    "\n",
    "df_test_A = df_test_A.rename(columns={'Unnamed: 0': 'date_forecast'})\n",
    "\n",
    "df_train_est_A.set_index('date_forecast', inplace=True)\n",
    "df_train_obs_A.set_index('date_forecast', inplace=True)\n",
    "df_test_A.set_index('date_forecast', inplace=True)\n",
    "df_train_obs_A.index = pd.to_datetime(df_train_obs_A.index)\n",
    "df_train_obs_A.index = pd.to_datetime(df_train_obs_A.index)"
   ]
  },
  {
   "cell_type": "code",
   "execution_count": 23,
   "id": "7b0d3a9d",
   "metadata": {},
   "outputs": [],
   "source": [
    "df = pd.concat([df_train_obs_A,df_train_est_A])\n",
    "df = df.drop(columns = 'date_calc', axis = 1)\n",
    "df_test_A = df_test_A.drop(columns = 'date_calc', axis = 1)"
   ]
  },
  {
   "cell_type": "code",
   "execution_count": 24,
   "id": "fc0849d5",
   "metadata": {},
   "outputs": [
    {
     "data": {
      "text/plain": [
       "(absolute_humidity_2m:gm3             24\n",
       " air_density_2m:kgm3                  24\n",
       " ceiling_height_agl:m               5183\n",
       " clear_sky_energy_1h:J                24\n",
       " clear_sky_rad:W                      24\n",
       " cloud_base_agl:m                   2196\n",
       " dew_or_rime:idx                      24\n",
       " dew_point_2m:K                       24\n",
       " diffuse_rad:W                        24\n",
       " diffuse_rad_1h:J                     24\n",
       " direct_rad:W                         24\n",
       " direct_rad_1h:J                      24\n",
       " effective_cloud_cover:p              24\n",
       " elevation:m                          24\n",
       " fresh_snow_12h:cm                    24\n",
       " fresh_snow_1h:cm                     24\n",
       " fresh_snow_24h:cm                    24\n",
       " fresh_snow_3h:cm                     24\n",
       " fresh_snow_6h:cm                     24\n",
       " is_day:idx                           24\n",
       " is_in_shadow:idx                     24\n",
       " msl_pressure:hPa                     24\n",
       " precip_5min:mm                       24\n",
       " precip_type_5min:idx                 24\n",
       " pressure_100m:hPa                    24\n",
       " pressure_50m:hPa                     24\n",
       " prob_rime:p                          24\n",
       " rain_water:kgm2                      24\n",
       " relative_humidity_1000hPa:p          24\n",
       " sfc_pressure:hPa                     24\n",
       " snow_density:kgm3                 31241\n",
       " snow_depth:cm                        24\n",
       " snow_drift:idx                       24\n",
       " snow_melt_10min:mm                   24\n",
       " snow_water:kgm2                      24\n",
       " sun_azimuth:d                        24\n",
       " sun_elevation:d                      24\n",
       " super_cooled_liquid_water:kgm2       24\n",
       " t_1000hPa:K                          24\n",
       " total_cloud_cover:p                  24\n",
       " visibility:m                         24\n",
       " wind_speed_10m:ms                    24\n",
       " wind_speed_u_10m:ms                  24\n",
       " wind_speed_v_10m:ms                  24\n",
       " wind_speed_w_1000hPa:ms              24\n",
       " pv_measurement                        4\n",
       " dtype: int64,\n",
       " (32847, 46))"
      ]
     },
     "execution_count": 24,
     "metadata": {},
     "output_type": "execute_result"
    }
   ],
   "source": [
    "df.isna().sum(), df.shape"
   ]
  },
  {
   "cell_type": "code",
   "execution_count": 25,
   "id": "c9073f1c",
   "metadata": {},
   "outputs": [
    {
     "data": {
      "text/plain": [
       "count    27664.000000\n",
       "mean      2735.589765\n",
       "std       2425.728099\n",
       "min         27.849998\n",
       "25%       1065.837500\n",
       "50%       1806.575000\n",
       "75%       3627.556250\n",
       "max      12285.775000\n",
       "Name: ceiling_height_agl:m, dtype: float64"
      ]
     },
     "execution_count": 25,
     "metadata": {},
     "output_type": "execute_result"
    }
   ],
   "source": [
    "df['ceiling_height_agl:m'].describe()"
   ]
  },
  {
   "cell_type": "code",
   "execution_count": 26,
   "id": "cb562fc8",
   "metadata": {},
   "outputs": [
    {
     "data": {
      "text/plain": [
       "count    30651.000000\n",
       "mean      1728.566279\n",
       "std       1730.413540\n",
       "min         27.975000\n",
       "25%        636.800000\n",
       "50%       1204.000000\n",
       "75%       2075.412500\n",
       "max      11673.725000\n",
       "Name: cloud_base_agl:m, dtype: float64"
      ]
     },
     "execution_count": 26,
     "metadata": {},
     "output_type": "execute_result"
    }
   ],
   "source": [
    "df['cloud_base_agl:m'].describe()"
   ]
  },
  {
   "cell_type": "markdown",
   "id": "7b6174ef",
   "metadata": {},
   "source": [
    "250 means settled snow"
   ]
  },
  {
   "cell_type": "code",
   "execution_count": 27,
   "id": "90f00c68",
   "metadata": {},
   "outputs": [
    {
     "data": {
      "text/plain": [
       "count    1606.0\n",
       "mean      250.0\n",
       "std         0.0\n",
       "min       250.0\n",
       "25%       250.0\n",
       "50%       250.0\n",
       "75%       250.0\n",
       "max       250.0\n",
       "Name: snow_density:kgm3, dtype: float64"
      ]
     },
     "execution_count": 27,
     "metadata": {},
     "output_type": "execute_result"
    }
   ],
   "source": [
    "df['snow_density:kgm3'].describe()"
   ]
  },
  {
   "cell_type": "code",
   "execution_count": 28,
   "id": "594f3ff7",
   "metadata": {},
   "outputs": [],
   "source": [
    "import re\n",
    "df = df.rename(columns = lambda x:re.sub('[^A-Za-z0-9_]+', '', x))"
   ]
  },
  {
   "cell_type": "code",
   "execution_count": 29,
   "id": "08b10b05",
   "metadata": {},
   "outputs": [],
   "source": [
    "df_nandrop = df\n",
    "df_nandrop = df_nandrop.drop(columns= ['snow_densitykgm3'],axis = 1)\n",
    "df_nandrop = df_nandrop.dropna()\n",
    "\n",
    "df_nan0 = df.fillna(0)\n",
    "df_nanmedian = df.fillna(df.median())"
   ]
  },
  {
   "cell_type": "code",
   "execution_count": null,
   "id": "4d093d85",
   "metadata": {},
   "outputs": [],
   "source": [
    "from sklearn.impute import KNNImputer\n",
    "imputer = KNNImputer(n_neighbors=5)\n",
    "# Imputa i valori mancanti\n",
    "df_knn =pd.DataFrame(imputer.fit_transform(df),columns = df.columns, index = df.index)"
   ]
  },
  {
   "cell_type": "code",
   "execution_count": 37,
   "id": "64ca8a20",
   "metadata": {},
   "outputs": [],
   "source": [
    "df_dict = {\n",
    "    'drop' : df_nandrop,\n",
    "    'zero' : df_nan0,\n",
    "    'median' : df_nanmedian,\n",
    "    'knn' : df_knn,\n",
    "}"
   ]
  },
  {
   "cell_type": "code",
   "execution_count": 38,
   "id": "966afb24",
   "metadata": {},
   "outputs": [],
   "source": [
    "from sklearn.model_selection import TimeSeriesSplit, cross_val_score\n",
    "from sklearn.metrics import mean_absolute_error\n",
    "# Define the number of splits (e.g., 5 for 80-20 train-test splits)\n",
    "n_splits = 3\n",
    "# Initialize the TimeSeriesSplit\n",
    "tscv = TimeSeriesSplit(n_splits=n_splits)"
   ]
  },
  {
   "cell_type": "code",
   "execution_count": 39,
   "id": "98133c44",
   "metadata": {},
   "outputs": [],
   "source": [
    "import lightgbm as lgb\n",
    "param = {'verbose' :-1}\n",
    "\n",
    "model = lgb.LGBMRegressor(**param)"
   ]
  },
  {
   "cell_type": "code",
   "execution_count": 40,
   "id": "5f4c36b2",
   "metadata": {},
   "outputs": [],
   "source": [
    "def test(df_dict):\n",
    "    mean_mae_list = []\n",
    "    for key in df_dict:\n",
    "        print(key)\n",
    "        data = df_dict[key]\n",
    "        maelist = []\n",
    "        for train_index, test_index in tscv.split(data):\n",
    "            train_data = data.iloc[train_index]\n",
    "            test_data = data.iloc[test_index]\n",
    "\n",
    "            # Extract target variable for training and testing data\n",
    "            y_train = train_data['pv_measurement']\n",
    "            y_test = test_data['pv_measurement']\n",
    "\n",
    "            # Extract features for training and testing data\n",
    "            X_train = train_data.drop(columns = 'pv_measurement')\n",
    "            X_test = test_data.drop(columns = 'pv_measurement')\n",
    "\n",
    "            # Train the XGBoost model\n",
    "            model.fit(X_train, y_train,eval_set=[(X_test,y_test)])\n",
    "\n",
    "            # Make predictions on the test data\n",
    "            y_pred = model.predict(X_test)\n",
    "\n",
    "            # Evaluate the model using Mean Absolute Error (MAE)\n",
    "            mae = mean_absolute_error(y_test, y_pred)\n",
    "            print(\"Mean Absolute Error:\", mae)\n",
    "            maelist.append(mae)\n",
    "        # Return MAE\n",
    "        mean_mae = np.average(maelist,weights=[1,2,3])\n",
    "        print(\"Mean MAE: \",mean_mae )\n",
    "        mean_mae_list.append(mean_mae)\n",
    "    return mean_mae_list"
   ]
  },
  {
   "cell_type": "code",
   "execution_count": 41,
   "id": "2275de57",
   "metadata": {},
   "outputs": [
    {
     "name": "stdout",
     "output_type": "stream",
     "text": [
      "drop\n",
      "Mean Absolute Error: 58.1216513495905\n",
      "Mean Absolute Error: 58.79769498360033\n",
      "Mean Absolute Error: 21.260812865288816\n",
      "Mean MAE:  39.91657998544293\n",
      "zero\n",
      "Mean Absolute Error: 61.666629114794375\n",
      "Mean Absolute Error: 61.64201403120569\n",
      "Mean Absolute Error: 25.271109835252506\n",
      "Mean MAE:  43.460664447160546\n",
      "median\n",
      "Mean Absolute Error: 61.19238067397233\n",
      "Mean Absolute Error: 62.176562632539635\n",
      "Mean Absolute Error: 24.971669782797626\n",
      "Mean MAE:  43.41008588124075\n",
      "knn\n",
      "Mean Absolute Error: 61.8435176692509\n",
      "Mean Absolute Error: 62.070886175829806\n",
      "Mean Absolute Error: 24.777432110880927\n",
      "Mean MAE:  43.38626439225888\n"
     ]
    },
    {
     "data": {
      "text/plain": [
       "[39.91657998544293, 43.460664447160546, 43.41008588124075, 43.38626439225888]"
      ]
     },
     "execution_count": 41,
     "metadata": {},
     "output_type": "execute_result"
    }
   ],
   "source": [
    "test(df_dict)"
   ]
  },
  {
   "cell_type": "code",
   "execution_count": 42,
   "id": "5107fee9",
   "metadata": {},
   "outputs": [],
   "source": [
    "columns = df_nandrop.drop(columns = 'pv_measurement').columns\n"
   ]
  },
  {
   "cell_type": "code",
   "execution_count": 46,
   "id": "90fb19e0",
   "metadata": {},
   "outputs": [],
   "source": [
    "import numpy as np\n",
    "import pandas as pd\n",
    "from sklearn.preprocessing import MinMaxScaler\n",
    "\n",
    "# Crea un oggetto MinMaxScaler\n",
    "scaler = MinMaxScaler()\n",
    "\n",
    "# Normalizza il DataFrame\n",
    "df_normalized = pd.DataFrame(scaler.fit_transform(df_nandrop[columns]),columns = df_nandrop[columns].columns, index = df_nandrop[columns].index)\n",
    "df_normalized['pv_measurement'] = df_nandrop[ 'pv_measurement']"
   ]
  },
  {
   "cell_type": "code",
   "execution_count": 47,
   "id": "02dc13c2",
   "metadata": {},
   "outputs": [],
   "source": [
    "import numpy as np\n",
    "import pandas as pd\n",
    "from sklearn.preprocessing import StandardScaler\n",
    "# Crea un oggetto StandardScaler\n",
    "scaler = StandardScaler()\n",
    "\n",
    "# Standardizza il DataFrame\n",
    "df_scaled = pd.DataFrame(scaler.fit_transform(df_nandrop[columns]),columns = df_nandrop[columns].columns, index = df_nandrop[columns].index)\n",
    "df_scaled['pv_measurement'] = df_nandrop[ 'pv_measurement']"
   ]
  },
  {
   "cell_type": "code",
   "execution_count": 48,
   "id": "897fd7dc",
   "metadata": {},
   "outputs": [],
   "source": [
    "def z_score_standardization(data):\n",
    "  mean = np.mean(data)\n",
    "  std = np.std(data)\n",
    "  standardized_data = (data - mean) / std\n",
    "  return standardized_data\n",
    "\n",
    "def z_score_standardization_dataframe(df):\n",
    "    standardized_df = pd.DataFrame()\n",
    "    for column in df.columns:\n",
    "        standardized_df[column] = z_score_standardization(df[column])\n",
    "    return standardized_df\n",
    "\n",
    "# Esempio di utilizzo della funzione:\n",
    "\n",
    "df_zscore = df_nandrop[columns]\n",
    "\n",
    "df_zscore = z_score_standardization_dataframe(df_zscore)\n",
    "df_zscore['pv_measurement'] = df_nandrop[ 'pv_measurement']"
   ]
  },
  {
   "cell_type": "code",
   "execution_count": 49,
   "id": "cc616f79",
   "metadata": {},
   "outputs": [],
   "source": [
    "df_scaled_norm = {\n",
    "    'norm' : df_normalized,\n",
    "    'scaled' : df_scaled,\n",
    "    'zscore' : df_zscore,\n",
    "}"
   ]
  },
  {
   "cell_type": "code",
   "execution_count": 50,
   "id": "25d7d496",
   "metadata": {},
   "outputs": [
    {
     "name": "stdout",
     "output_type": "stream",
     "text": [
      "norm\n",
      "Mean Absolute Error: 57.50500452677472\n",
      "Mean Absolute Error: 58.799405865373\n",
      "Mean Absolute Error: 21.463545639987125\n",
      "Mean MAE:  39.91574219624702\n",
      "scaled\n",
      "Mean Absolute Error: 57.745511156238265\n",
      "Mean Absolute Error: 59.48216270329596\n",
      "Mean Absolute Error: 21.435341798558014\n",
      "Mean MAE:  40.16931032641737\n",
      "zscore\n",
      "Mean Absolute Error: 57.74498542323928\n",
      "Mean Absolute Error: 59.48216270329596\n",
      "Mean Absolute Error: 21.435341798558014\n",
      "Mean MAE:  40.16922270425087\n"
     ]
    },
    {
     "data": {
      "text/plain": [
       "[39.91574219624702, 40.16931032641737, 40.16922270425087]"
      ]
     },
     "execution_count": 50,
     "metadata": {},
     "output_type": "execute_result"
    }
   ],
   "source": [
    "test(df_scaled_norm)"
   ]
  },
  {
   "cell_type": "code",
   "execution_count": null,
   "id": "2241d6b3",
   "metadata": {},
   "outputs": [],
   "source": [
    "df_normalized['direct_radW'].plot()"
   ]
  },
  {
   "cell_type": "code",
   "execution_count": null,
   "id": "a9526078",
   "metadata": {},
   "outputs": [],
   "source": [
    "df_scaled['direct_radW'].plot()"
   ]
  },
  {
   "cell_type": "code",
   "execution_count": null,
   "id": "73efdaf7",
   "metadata": {},
   "outputs": [],
   "source": [
    "df_zscore['direct_radW'].plot()"
   ]
  }
 ],
 "metadata": {
  "kernelspec": {
   "display_name": "Python 3 (ipykernel)",
   "language": "python",
   "name": "python3"
  },
  "language_info": {
   "codemirror_mode": {
    "name": "ipython",
    "version": 3
   },
   "file_extension": ".py",
   "mimetype": "text/x-python",
   "name": "python",
   "nbconvert_exporter": "python",
   "pygments_lexer": "ipython3",
   "version": "3.11.4"
  }
 },
 "nbformat": 4,
 "nbformat_minor": 5
}
