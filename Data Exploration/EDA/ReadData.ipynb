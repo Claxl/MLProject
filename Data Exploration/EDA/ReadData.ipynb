{
 "cells": [
  {
   "cell_type": "code",
   "execution_count": 1,
   "id": "5f939221",
   "metadata": {},
   "outputs": [],
   "source": [
    "import pandas as pd\n",
    "import numpy as np\n",
    "import warnings\n",
    "warnings.filterwarnings(\"ignore\", category=DeprecationWarning)"
   ]
  },
  {
   "cell_type": "code",
   "execution_count": 2,
   "id": "5ddb3613",
   "metadata": {},
   "outputs": [],
   "source": [
    "def readData(location):\n",
    "  if(location == 1):\n",
    "    y_train_obs_A = pd.read_parquet('data/A/train_targets.parquet')\n",
    "    X_test_est_A = pd.read_parquet('data/A/X_test_estimated.parquet')\n",
    "    X_train_est_A = pd.read_parquet('data/A/X_train_estimated.parquet')\n",
    "    X_train_obs_A = pd.read_parquet('data/A/X_train_observed.parquet')\n",
    "    return y_train_obs_A, X_test_est_A, X_train_est_A, X_train_obs_A\n",
    "  elif(location == 2):\n",
    "    y_train_obs_B = pd.read_parquet('data/B/train_targets.parquet')\n",
    "    X_test_est_B = pd.read_parquet('data/B/X_test_estimated.parquet' )\n",
    "    X_train_est_B = pd.read_parquet('data/B/X_train_estimated.parquet')\n",
    "    X_train_obs_B = pd.read_parquet('data/B/X_train_observed.parquet')\n",
    "    return y_train_obs_B, X_test_est_B , X_train_est_B, X_train_obs_B\n",
    "  else:\n",
    "    y_train_obs_C = pd.read_parquet('data/C/train_targets.parquet')\n",
    "    X_test_est_C = pd.read_parquet('data/C/X_test_estimated.parquet')\n",
    "    X_train_est_C = pd.read_parquet('data/C/X_train_estimated.parquet')\n",
    "    X_train_obs_C = pd.read_parquet('data/C/X_train_observed.parquet')\n",
    "    X_c = pd.concat([X_train_est_C, X_train_obs_C])\n",
    "    return y_train_obs_C, X_test_est_C, X_train_est_C, X_train_obs_C"
   ]
  },
  {
   "cell_type": "code",
   "execution_count": 12,
   "id": "f91e1b4d",
   "metadata": {},
   "outputs": [],
   "source": [
    "y_a, X_test_A, X_train_A_est, X_train_A_obs = readData(1)\n",
    "\n",
    "y_b, X_test_B, X_train_B_est, X_train_B_obs = readData(2)\n",
    "y_c, X_test_C, X_train_C_est, X_train_C_obs = readData(3)"
   ]
  },
  {
   "cell_type": "code",
   "execution_count": 13,
   "id": "b6a96799",
   "metadata": {},
   "outputs": [
    {
     "data": {
      "text/plain": [
       "(2880, 46)"
      ]
     },
     "execution_count": 13,
     "metadata": {},
     "output_type": "execute_result"
    }
   ],
   "source": [
    "X_train_A_obs.set_index('date_forecast', inplace=True)\n",
    "\n",
    "X_train_A_est.set_index('date_forecast', inplace=True)\n",
    "\n",
    "X_test_A.set_index('date_forecast', inplace=True)\n",
    "\n",
    "y_a.set_index('time', inplace=True)\n",
    "X_test_A.shape"
   ]
  },
  {
   "cell_type": "code",
   "execution_count": 14,
   "id": "10b5a6ad",
   "metadata": {},
   "outputs": [
    {
     "data": {
      "text/plain": [
       "(2880, 46)"
      ]
     },
     "execution_count": 14,
     "metadata": {},
     "output_type": "execute_result"
    }
   ],
   "source": [
    "X_train_B_obs.set_index('date_forecast', inplace=True)\n",
    "\n",
    "X_train_B_est.set_index('date_forecast', inplace=True)\n",
    "\n",
    "X_test_B.set_index('date_forecast', inplace=True)\n",
    "\n",
    "y_b.set_index('time', inplace=True)\n",
    "X_test_B.shape"
   ]
  },
  {
   "cell_type": "code",
   "execution_count": 15,
   "id": "91dbc33d",
   "metadata": {},
   "outputs": [
    {
     "data": {
      "text/plain": [
       "(2880, 46)"
      ]
     },
     "execution_count": 15,
     "metadata": {},
     "output_type": "execute_result"
    }
   ],
   "source": [
    "X_train_C_obs.set_index('date_forecast', inplace=True)\n",
    "\n",
    "X_train_C_est.set_index('date_forecast', inplace=True)\n",
    "\n",
    "X_test_C.set_index('date_forecast', inplace=True)\n",
    "\n",
    "y_c.set_index('time', inplace=True)\n",
    "X_test_C.shape"
   ]
  },
  {
   "cell_type": "code",
   "execution_count": 16,
   "id": "4a042f9b",
   "metadata": {},
   "outputs": [
    {
     "data": {
      "text/plain": [
       "date_calc                         0.000000\n",
       "absolute_humidity_2m:gm3          0.000000\n",
       "air_density_2m:kgm3               0.000000\n",
       "ceiling_height_agl:m              0.275347\n",
       "clear_sky_energy_1h:J             0.000000\n",
       "clear_sky_rad:W                   0.000000\n",
       "cloud_base_agl:m                  0.103472\n",
       "dew_or_rime:idx                   0.000000\n",
       "dew_point_2m:K                    0.000000\n",
       "diffuse_rad:W                     0.000000\n",
       "diffuse_rad_1h:J                  0.000000\n",
       "direct_rad:W                      0.000000\n",
       "direct_rad_1h:J                   0.000000\n",
       "effective_cloud_cover:p           0.000000\n",
       "elevation:m                       0.000000\n",
       "fresh_snow_12h:cm                 0.000000\n",
       "fresh_snow_1h:cm                  0.000000\n",
       "fresh_snow_24h:cm                 0.000000\n",
       "fresh_snow_3h:cm                  0.000000\n",
       "fresh_snow_6h:cm                  0.000000\n",
       "is_day:idx                        0.000000\n",
       "is_in_shadow:idx                  0.000000\n",
       "msl_pressure:hPa                  0.000000\n",
       "precip_5min:mm                    0.000000\n",
       "precip_type_5min:idx              0.000000\n",
       "pressure_100m:hPa                 0.000000\n",
       "pressure_50m:hPa                  0.000000\n",
       "prob_rime:p                       0.000000\n",
       "rain_water:kgm2                   0.000000\n",
       "relative_humidity_1000hPa:p       0.000000\n",
       "sfc_pressure:hPa                  0.000000\n",
       "snow_density:kgm3                 1.000000\n",
       "snow_depth:cm                     0.000000\n",
       "snow_drift:idx                    0.000000\n",
       "snow_melt_10min:mm                0.000000\n",
       "snow_water:kgm2                   0.000000\n",
       "sun_azimuth:d                     0.000000\n",
       "sun_elevation:d                   0.000000\n",
       "super_cooled_liquid_water:kgm2    0.000000\n",
       "t_1000hPa:K                       0.000000\n",
       "total_cloud_cover:p               0.000000\n",
       "visibility:m                      0.000000\n",
       "wind_speed_10m:ms                 0.000000\n",
       "wind_speed_u_10m:ms               0.000000\n",
       "wind_speed_v_10m:ms               0.000000\n",
       "wind_speed_w_1000hPa:ms           0.000000\n",
       "dtype: float64"
      ]
     },
     "execution_count": 16,
     "metadata": {},
     "output_type": "execute_result"
    }
   ],
   "source": [
    "X_test_A.isnull().mean()"
   ]
  },
  {
   "cell_type": "code",
   "execution_count": 17,
   "id": "0de2290a",
   "metadata": {},
   "outputs": [],
   "source": [
    "def make_hourly(unsampled_df, target_df):\n",
    "    sampled_df = unsampled_df.resample('H').mean()\n",
    "    sampled_df.index = sampled_df.index.floor('H')\n",
    "    merged_df = sampled_df.merge(target_df, left_index=True, right_index=True, how='inner')\n",
    "    return merged_df"
   ]
  },
  {
   "cell_type": "markdown",
   "id": "93b2f68f",
   "metadata": {},
   "source": [
    "### A"
   ]
  },
  {
   "cell_type": "code",
   "execution_count": 18,
   "id": "f293d5bd",
   "metadata": {},
   "outputs": [
    {
     "name": "stdout",
     "output_type": "stream",
     "text": [
      "(29667, 46)\n",
      "(4418, 46)\n"
     ]
    },
    {
     "name": "stderr",
     "output_type": "stream",
     "text": [
      "C:\\Users\\claxl\\AppData\\Local\\Temp\\ipykernel_81440\\3041205111.py:2: FutureWarning: The default value of numeric_only in DataFrameGroupBy.mean is deprecated. In a future version, numeric_only will default to False. Either specify numeric_only or select only columns which should be valid for the function.\n",
      "  sampled_df = unsampled_df.resample('H').mean()\n"
     ]
    }
   ],
   "source": [
    "merged_df_train_obs_A = make_hourly(X_train_A_obs, y_a)\n",
    "# Reimposta l'indice se lo desideri\n",
    "merged_df_train_est_A = make_hourly(X_train_A_est, y_a)\n",
    "print(merged_df_train_obs_A.shape)\n",
    "print(merged_df_train_est_A.shape)\n"
   ]
  },
  {
   "cell_type": "code",
   "execution_count": 19,
   "id": "01320a2f",
   "metadata": {},
   "outputs": [],
   "source": [
    "for col in X_train_A_obs.columns:\n",
    "    merged_df_train_est_A[col] = merged_df_train_est_A[col].replace(np.NaN, merged_df_train_est_A[col].median())\n",
    "    merged_df_train_obs_A[col] = merged_df_train_obs_A[col].replace(np.NaN, merged_df_train_obs_A[col].median())\n",
    "    X_test_A[col] = X_test_A[col].replace(np.NaN, X_test_A[col].median())\n",
    "X_test_A = X_test_A.fillna(0)"
   ]
  },
  {
   "cell_type": "code",
   "execution_count": 20,
   "id": "d52291f9",
   "metadata": {},
   "outputs": [
    {
     "name": "stderr",
     "output_type": "stream",
     "text": [
      "C:\\Users\\claxl\\AppData\\Local\\Temp\\ipykernel_81440\\137791388.py:1: FutureWarning: The default value of numeric_only in DataFrameGroupBy.mean is deprecated. In a future version, numeric_only will default to False. Either specify numeric_only or select only columns which should be valid for the function.\n",
      "  X_test_A = X_test_A.resample('H').mean()\n"
     ]
    },
    {
     "data": {
      "text/plain": [
       "(720, 45)"
      ]
     },
     "execution_count": 20,
     "metadata": {},
     "output_type": "execute_result"
    }
   ],
   "source": [
    "X_test_A = X_test_A.resample('H').mean()\n",
    "X_test_A.index = X_test_A.index.floor('H')\n",
    "X_test_A = X_test_A.dropna()\n",
    "X_test_A.shape"
   ]
  },
  {
   "cell_type": "markdown",
   "id": "5559f08f",
   "metadata": {},
   "source": [
    "### B"
   ]
  },
  {
   "cell_type": "code",
   "execution_count": 21,
   "id": "39c671de",
   "metadata": {},
   "outputs": [
    {
     "name": "stdout",
     "output_type": "stream",
     "text": [
      "(29222, 46)\n",
      "(3625, 46)\n"
     ]
    },
    {
     "name": "stderr",
     "output_type": "stream",
     "text": [
      "C:\\Users\\claxl\\AppData\\Local\\Temp\\ipykernel_81440\\3041205111.py:2: FutureWarning: The default value of numeric_only in DataFrameGroupBy.mean is deprecated. In a future version, numeric_only will default to False. Either specify numeric_only or select only columns which should be valid for the function.\n",
      "  sampled_df = unsampled_df.resample('H').mean()\n"
     ]
    }
   ],
   "source": [
    "merged_df_train_obs_B = make_hourly(X_train_B_obs, y_b)\n",
    "merged_df_train_est_B = make_hourly(X_train_B_est, y_b)\n",
    "print(merged_df_train_obs_B.shape)\n",
    "print(merged_df_train_est_B.shape)\n"
   ]
  },
  {
   "cell_type": "code",
   "execution_count": 22,
   "id": "59165172",
   "metadata": {},
   "outputs": [],
   "source": [
    "for col in X_train_B_obs.columns:\n",
    "    X_train_B_obs[col] = X_train_B_obs[col].replace(np.NaN, X_train_B_obs[col].median())\n",
    "    X_train_B_est[col] = X_train_B_est[col].replace(np.NaN, X_train_B_est[col].median())\n",
    "    X_test_B[col] = X_test_B[col].replace(np.NaN, X_test_B[col].median())\n",
    "\n",
    "X_test_B=X_test_B.fillna(0)"
   ]
  },
  {
   "cell_type": "code",
   "execution_count": 23,
   "id": "0272b711",
   "metadata": {},
   "outputs": [
    {
     "name": "stderr",
     "output_type": "stream",
     "text": [
      "C:\\Users\\claxl\\AppData\\Local\\Temp\\ipykernel_81440\\232956314.py:1: FutureWarning: The default value of numeric_only in DataFrameGroupBy.mean is deprecated. In a future version, numeric_only will default to False. Either specify numeric_only or select only columns which should be valid for the function.\n",
      "  X_test_B = X_test_B.resample('H').mean()\n"
     ]
    },
    {
     "data": {
      "text/plain": [
       "(720, 45)"
      ]
     },
     "execution_count": 23,
     "metadata": {},
     "output_type": "execute_result"
    }
   ],
   "source": [
    "X_test_B = X_test_B.resample('H').mean()\n",
    "X_test_B.index = X_test_B.index.floor('H')\n",
    "X_test_B = X_test_B.dropna()\n",
    "X_test_B.shape"
   ]
  },
  {
   "cell_type": "markdown",
   "id": "37f06c9d",
   "metadata": {},
   "source": [
    "### C"
   ]
  },
  {
   "cell_type": "code",
   "execution_count": 24,
   "id": "2828262c",
   "metadata": {},
   "outputs": [
    {
     "name": "stdout",
     "output_type": "stream",
     "text": [
      "(29200, 46)\n",
      "(2954, 46)\n"
     ]
    },
    {
     "name": "stderr",
     "output_type": "stream",
     "text": [
      "C:\\Users\\claxl\\AppData\\Local\\Temp\\ipykernel_81440\\3041205111.py:2: FutureWarning: The default value of numeric_only in DataFrameGroupBy.mean is deprecated. In a future version, numeric_only will default to False. Either specify numeric_only or select only columns which should be valid for the function.\n",
      "  sampled_df = unsampled_df.resample('H').mean()\n"
     ]
    }
   ],
   "source": [
    "merged_df_train_obs_C = make_hourly(X_train_C_obs, y_c)\n",
    "merged_df_train_est_C = make_hourly(X_train_C_est, y_c)\n",
    "print(merged_df_train_obs_C.shape)\n",
    "print(merged_df_train_est_C.shape)\n"
   ]
  },
  {
   "cell_type": "code",
   "execution_count": 25,
   "id": "283fee20",
   "metadata": {},
   "outputs": [],
   "source": [
    "for col in X_train_C_obs.columns:\n",
    "    merged_df_train_obs_C[col] = merged_df_train_obs_C[col].replace(np.NaN, merged_df_train_obs_C[col].median())\n",
    "    merged_df_train_est_C[col] = merged_df_train_est_C[col].replace(np.NaN, merged_df_train_est_C[col].median())\n",
    "    X_test_C[col] = X_test_C[col].replace(np.NaN, X_test_C[col].median())\n",
    "X_test_C = X_test_C.fillna(0)"
   ]
  },
  {
   "cell_type": "code",
   "execution_count": 26,
   "id": "691813e7",
   "metadata": {},
   "outputs": [
    {
     "name": "stderr",
     "output_type": "stream",
     "text": [
      "C:\\Users\\claxl\\AppData\\Local\\Temp\\ipykernel_81440\\2244421397.py:1: FutureWarning: The default value of numeric_only in DataFrameGroupBy.mean is deprecated. In a future version, numeric_only will default to False. Either specify numeric_only or select only columns which should be valid for the function.\n",
      "  X_test_C = X_test_C.resample('H').mean()\n"
     ]
    },
    {
     "data": {
      "text/plain": [
       "(720, 45)"
      ]
     },
     "execution_count": 26,
     "metadata": {},
     "output_type": "execute_result"
    }
   ],
   "source": [
    "X_test_C = X_test_C.resample('H').mean()\n",
    "X_test_C.index = X_test_C.index.floor('H')\n",
    "X_test_C = X_test_C.dropna()\n",
    "X_test_C.shape"
   ]
  },
  {
   "cell_type": "markdown",
   "id": "02444e75",
   "metadata": {},
   "source": [
    "### SAVE"
   ]
  },
  {
   "cell_type": "code",
   "execution_count": 27,
   "id": "ad284039",
   "metadata": {},
   "outputs": [],
   "source": [
    "base = \"/Users/claxl/Documents/GitHub/MLProject/Data Exploration/EDA/clearData/\""
   ]
  },
  {
   "cell_type": "code",
   "execution_count": 28,
   "id": "44819293",
   "metadata": {},
   "outputs": [],
   "source": [
    "merged_df_train_obs_A.to_csv(base + 'A/train_obs_A.csv',index = True)\n",
    "merged_df_train_est_A.to_csv(base + 'A/train_est_A.csv',index = True)\n",
    "X_test_A.to_csv(base + 'X_test_A.csv',index = True)"
   ]
  },
  {
   "cell_type": "code",
   "execution_count": 29,
   "id": "d5629fde",
   "metadata": {},
   "outputs": [],
   "source": [
    "merged_df_train_obs_B.to_csv(base + 'B/train_obs_B.csv',index = True)\n",
    "merged_df_train_est_B.to_csv(base + 'B/train_est_B.csv',index = True)\n",
    "X_test_B.to_csv(base + 'B/X_test_B.csv',index = True)"
   ]
  },
  {
   "cell_type": "code",
   "execution_count": 30,
   "id": "803665ae",
   "metadata": {},
   "outputs": [],
   "source": [
    "merged_df_train_obs_C.to_csv(base + 'C/train_obs_C.csv',index = True)\n",
    "merged_df_train_est_C.to_csv(base + 'C/train_est_C.csv',index = True)\n",
    "X_test_C.to_csv(base + 'C/X_test_C.csv',index = True)"
   ]
  },
  {
   "cell_type": "code",
   "execution_count": null,
   "id": "c5bea507",
   "metadata": {},
   "outputs": [],
   "source": []
  }
 ],
 "metadata": {
  "kernelspec": {
   "display_name": "Python 3 (ipykernel)",
   "language": "python",
   "name": "python3"
  },
  "language_info": {
   "codemirror_mode": {
    "name": "ipython",
    "version": 3
   },
   "file_extension": ".py",
   "mimetype": "text/x-python",
   "name": "python",
   "nbconvert_exporter": "python",
   "pygments_lexer": "ipython3",
   "version": "3.11.4"
  }
 },
 "nbformat": 4,
 "nbformat_minor": 5
}
