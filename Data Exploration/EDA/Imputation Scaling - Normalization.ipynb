{
 "cells": [
  {
   "cell_type": "code",
   "execution_count": 169,
   "id": "ae99bf4d",
   "metadata": {},
   "outputs": [],
   "source": [
    "import pandas as pd\n",
    "import numpy as np\n",
    "import matplotlib.pyplot as plt"
   ]
  },
  {
   "cell_type": "code",
   "execution_count": 170,
   "id": "fc3b1064",
   "metadata": {},
   "outputs": [],
   "source": [
    "df_train_est_A = pd.read_csv('train_est_A.csv')\n",
    "df_train_obs_A = pd.read_csv('train_obs_A.csv')\n",
    "df_test_A = pd.read_csv('X_test_A.csv')\n",
    "df_train_est_A = df_train_est_A.rename(columns={'Unnamed: 0': 'date_forecast'})\n",
    "\n",
    "df_train_obs_A = df_train_obs_A.rename(columns={'Unnamed: 0': 'date_forecast'})\n",
    "\n",
    "df_test_A = df_test_A.rename(columns={'Unnamed: 0': 'date_forecast'})\n",
    "\n",
    "df_train_est_A.set_index('date_forecast', inplace=True)\n",
    "df_train_obs_A.set_index('date_forecast', inplace=True)\n",
    "df_test_A.set_index('date_forecast', inplace=True)\n",
    "df_train_obs_A.index = pd.to_datetime(df_train_obs_A.index)\n",
    "df_train_obs_A.index = pd.to_datetime(df_train_obs_A.index)"
   ]
  },
  {
   "cell_type": "code",
   "execution_count": 171,
   "id": "7b0d3a9d",
   "metadata": {},
   "outputs": [],
   "source": [
    "df = pd.concat([df_train_obs_A,df_train_est_A])\n",
    "df = df.drop(columns = 'date_calc', axis = 1)\n",
    "df_test_A = df_test_A.drop(columns = 'date_calc', axis = 1)"
   ]
  },
  {
   "cell_type": "code",
   "execution_count": 172,
   "id": "fc0849d5",
   "metadata": {},
   "outputs": [
    {
     "data": {
      "text/plain": [
       "(absolute_humidity_2m:gm3             24\n",
       " air_density_2m:kgm3                  24\n",
       " ceiling_height_agl:m               6151\n",
       " clear_sky_energy_1h:J                24\n",
       " clear_sky_rad:W                      24\n",
       " cloud_base_agl:m                   2387\n",
       " dew_or_rime:idx                      24\n",
       " dew_point_2m:K                       24\n",
       " diffuse_rad:W                        24\n",
       " diffuse_rad_1h:J                     24\n",
       " direct_rad:W                         24\n",
       " direct_rad_1h:J                      24\n",
       " effective_cloud_cover:p              24\n",
       " elevation:m                          24\n",
       " fresh_snow_12h:cm                    24\n",
       " fresh_snow_1h:cm                     24\n",
       " fresh_snow_24h:cm                    24\n",
       " fresh_snow_3h:cm                     24\n",
       " fresh_snow_6h:cm                     24\n",
       " is_day:idx                           24\n",
       " is_in_shadow:idx                     24\n",
       " msl_pressure:hPa                     24\n",
       " precip_5min:mm                       24\n",
       " precip_type_5min:idx                 24\n",
       " pressure_100m:hPa                    24\n",
       " pressure_50m:hPa                     24\n",
       " prob_rime:p                          24\n",
       " rain_water:kgm2                      24\n",
       " relative_humidity_1000hPa:p          24\n",
       " sfc_pressure:hPa                     24\n",
       " snow_density:kgm3                 32945\n",
       " snow_depth:cm                        24\n",
       " snow_drift:idx                       24\n",
       " snow_melt_10min:mm                   24\n",
       " snow_water:kgm2                      24\n",
       " sun_azimuth:d                        24\n",
       " sun_elevation:d                      24\n",
       " super_cooled_liquid_water:kgm2       24\n",
       " t_1000hPa:K                          24\n",
       " total_cloud_cover:p                  24\n",
       " visibility:m                         24\n",
       " wind_speed_10m:ms                    24\n",
       " wind_speed_u_10m:ms                  24\n",
       " wind_speed_v_10m:ms                  24\n",
       " wind_speed_w_1000hPa:ms              24\n",
       " pv_measurement                        0\n",
       " dtype: int64,\n",
       " (34085, 46))"
      ]
     },
     "execution_count": 172,
     "metadata": {},
     "output_type": "execute_result"
    }
   ],
   "source": [
    "df.isna().sum(), df.shape"
   ]
  },
  {
   "cell_type": "code",
   "execution_count": 173,
   "id": "c9073f1c",
   "metadata": {},
   "outputs": [
    {
     "data": {
      "text/plain": [
       "count    27934.000000\n",
       "mean      2974.149133\n",
       "std       2564.641899\n",
       "min         27.849998\n",
       "25%       1126.050000\n",
       "50%       1978.900000\n",
       "75%       4174.150000\n",
       "max      12294.901000\n",
       "Name: ceiling_height_agl:m, dtype: float64"
      ]
     },
     "execution_count": 173,
     "metadata": {},
     "output_type": "execute_result"
    }
   ],
   "source": [
    "df['ceiling_height_agl:m'].describe()"
   ]
  },
  {
   "cell_type": "code",
   "execution_count": 174,
   "id": "cb562fc8",
   "metadata": {},
   "outputs": [
    {
     "data": {
      "text/plain": [
       "count    31698.000000\n",
       "mean      1728.923473\n",
       "std       1807.137823\n",
       "min         27.800000\n",
       "25%        582.918750\n",
       "50%       1150.162500\n",
       "75%       2084.781250\n",
       "max      11673.625000\n",
       "Name: cloud_base_agl:m, dtype: float64"
      ]
     },
     "execution_count": 174,
     "metadata": {},
     "output_type": "execute_result"
    }
   ],
   "source": [
    "df['cloud_base_agl:m'].describe()"
   ]
  },
  {
   "cell_type": "markdown",
   "id": "7b6174ef",
   "metadata": {},
   "source": [
    "250 means settled snow"
   ]
  },
  {
   "cell_type": "code",
   "execution_count": 175,
   "id": "90f00c68",
   "metadata": {},
   "outputs": [
    {
     "data": {
      "text/plain": [
       "count    1140.0\n",
       "mean      250.0\n",
       "std         0.0\n",
       "min       250.0\n",
       "25%       250.0\n",
       "50%       250.0\n",
       "75%       250.0\n",
       "max       250.0\n",
       "Name: snow_density:kgm3, dtype: float64"
      ]
     },
     "execution_count": 175,
     "metadata": {},
     "output_type": "execute_result"
    }
   ],
   "source": [
    "df['snow_density:kgm3'].describe()"
   ]
  },
  {
   "cell_type": "code",
   "execution_count": 176,
   "id": "594f3ff7",
   "metadata": {},
   "outputs": [],
   "source": [
    "import re\n",
    "df = df.rename(columns = lambda x:re.sub('[^A-Za-z0-9_]+', '', x))"
   ]
  },
  {
   "cell_type": "code",
   "execution_count": 177,
   "id": "08b10b05",
   "metadata": {},
   "outputs": [],
   "source": [
    "df_nandrop = df\n",
    "df_nandrop = df_nandrop.drop(columns= ['snow_densitykgm3'],axis = 1)\n",
    "df_nandrop = df_nandrop.dropna()\n",
    "\n",
    "df_nan0 = df.fillna(0)\n",
    "df_nanmedian = df.fillna(df.median())\n",
    "df_rolling2 = df.fillna(df.rolling(2).mean())\n",
    "df_rolling4 = df.fillna(df.rolling(720).mean())"
   ]
  },
  {
   "cell_type": "code",
   "execution_count": 178,
   "id": "4d093d85",
   "metadata": {},
   "outputs": [],
   "source": [
    "from sklearn.impute import KNNImputer\n",
    "imputer = KNNImputer(n_neighbors=5)\n",
    "# Imputa i valori mancanti\n",
    "df_knn =pd.DataFrame(imputer.fit_transform(df),columns = df.columns, index = df.index)"
   ]
  },
  {
   "cell_type": "code",
   "execution_count": 179,
   "id": "64ca8a20",
   "metadata": {},
   "outputs": [],
   "source": [
    "df_dict = {\n",
    "    'nan':df,\n",
    "    'drop' : df_nandrop,\n",
    "    'zero' : df_nan0,\n",
    "    'median' : df_nanmedian,\n",
    "    'knn' : df_knn,\n",
    "    'rolling2' : df_rolling2,\n",
    "    'rolling4' : df_rolling4,\n",
    "}"
   ]
  },
  {
   "cell_type": "code",
   "execution_count": 180,
   "id": "966afb24",
   "metadata": {},
   "outputs": [],
   "source": [
    "from sklearn.model_selection import TimeSeriesSplit, cross_val_score\n",
    "from sklearn.metrics import mean_absolute_error\n",
    "# Define the number of splits (e.g., 5 for 80-20 train-test splits)\n",
    "n_splits = 3\n",
    "# Initialize the TimeSeriesSplit\n",
    "tscv = TimeSeriesSplit(n_splits=n_splits)"
   ]
  },
  {
   "cell_type": "code",
   "execution_count": 181,
   "id": "98133c44",
   "metadata": {},
   "outputs": [],
   "source": [
    "import lightgbm as lgb\n",
    "param = {'verbose' :-1}\n",
    "\n",
    "model = lgb.LGBMRegressor(**param)"
   ]
  },
  {
   "cell_type": "code",
   "execution_count": 182,
   "id": "5f4c36b2",
   "metadata": {},
   "outputs": [],
   "source": [
    "def test(df_dict):\n",
    "    mean_mae_list = []\n",
    "    for key in df_dict:\n",
    "        print(key)\n",
    "        data = df_dict[key]\n",
    "        maelist = []\n",
    "        for train_index, test_index in tscv.split(data):\n",
    "            train_data = data.iloc[train_index]\n",
    "            test_data = data.iloc[test_index]\n",
    "\n",
    "            # Extract target variable for training and testing data\n",
    "            y_train = train_data['pv_measurement']\n",
    "            y_test = test_data['pv_measurement']\n",
    "\n",
    "            # Extract features for training and testing data\n",
    "            X_train = train_data.drop(columns = 'pv_measurement')\n",
    "            X_test = test_data.drop(columns = 'pv_measurement')\n",
    "\n",
    "            # Train the XGBoost model\n",
    "            model.fit(X_train, y_train,eval_set=[(X_test,y_test)])\n",
    "\n",
    "            # Make predictions on the test data\n",
    "            y_pred = model.predict(X_test)\n",
    "\n",
    "            # Evaluate the model using Mean Absolute Error (MAE)\n",
    "            mae = mean_absolute_error(y_test, y_pred)\n",
    "            print(\"Mean Absolute Error:\", mae)\n",
    "            maelist.append(mae)\n",
    "        # Return MAE\n",
    "        mean_mae = np.average(maelist,weights=[1,2,3])\n",
    "        print(\"Mean MAE: \",mean_mae )\n",
    "        mean_mae_list.append(mean_mae)\n",
    "    return mean_mae_list"
   ]
  },
  {
   "cell_type": "code",
   "execution_count": 183,
   "id": "2275de57",
   "metadata": {},
   "outputs": [
    {
     "name": "stdout",
     "output_type": "stream",
     "text": [
      "nan\n",
      "Mean Absolute Error: 226.060213393433\n",
      "Mean Absolute Error: 198.99612725717907\n",
      "Mean Absolute Error: 192.46365603252025\n",
      "Mean MAE:  200.24057266755867\n",
      "drop\n",
      "Mean Absolute Error: 243.60612056525966\n",
      "Mean Absolute Error: 205.26797439820447\n",
      "Mean Absolute Error: 191.66291954886827\n",
      "Mean MAE:  204.85513800137892\n",
      "zero\n",
      "Mean Absolute Error: 224.97592067579524\n",
      "Mean Absolute Error: 200.71542122835228\n",
      "Mean Absolute Error: 194.37340234648647\n",
      "Mean MAE:  201.5878283619932\n",
      "median\n",
      "Mean Absolute Error: 226.04145522432125\n",
      "Mean Absolute Error: 200.4419415696115\n",
      "Mean Absolute Error: 194.9832019709297\n",
      "Mean MAE:  201.97915737938888\n",
      "knn\n",
      "Mean Absolute Error: 223.19331177215196\n",
      "Mean Absolute Error: 198.97744281281123\n",
      "Mean Absolute Error: 193.66461855451942\n",
      "Mean MAE:  200.35700884355546\n",
      "rolling2\n",
      "Mean Absolute Error: 226.060213393433\n",
      "Mean Absolute Error: 198.99612725717907\n",
      "Mean Absolute Error: 192.46365603252025\n",
      "Mean MAE:  200.24057266755867\n",
      "rolling4\n",
      "Mean Absolute Error: 226.060213393433\n",
      "Mean Absolute Error: 198.99612725717907\n",
      "Mean Absolute Error: 192.46365603252025\n",
      "Mean MAE:  200.24057266755867\n"
     ]
    },
    {
     "data": {
      "text/plain": [
       "[200.24057266755867,\n",
       " 204.85513800137892,\n",
       " 201.5878283619932,\n",
       " 201.97915737938888,\n",
       " 200.35700884355546,\n",
       " 200.24057266755867,\n",
       " 200.24057266755867]"
      ]
     },
     "execution_count": 183,
     "metadata": {},
     "output_type": "execute_result"
    }
   ],
   "source": [
    "test(df_dict)"
   ]
  },
  {
   "cell_type": "code",
   "execution_count": 184,
   "id": "5107fee9",
   "metadata": {},
   "outputs": [],
   "source": [
    "columns = df_rolling4.drop(columns = 'pv_measurement').columns\n"
   ]
  },
  {
   "cell_type": "code",
   "execution_count": 185,
   "id": "90fb19e0",
   "metadata": {},
   "outputs": [],
   "source": [
    "import numpy as np\n",
    "import pandas as pd\n",
    "from sklearn.preprocessing import MinMaxScaler\n",
    "\n",
    "# Crea un oggetto MinMaxScaler\n",
    "scaler = MinMaxScaler()\n",
    "\n",
    "# Normalizza il DataFrame\n",
    "df_normalized = pd.DataFrame(scaler.fit_transform(df_rolling2[columns]),columns = df_rolling2[columns].columns, index = df_rolling2[columns].index)\n",
    "df_normalized['pv_measurement'] = df_rolling4[ 'pv_measurement']"
   ]
  },
  {
   "cell_type": "code",
   "execution_count": 186,
   "id": "02dc13c2",
   "metadata": {},
   "outputs": [],
   "source": [
    "import numpy as np\n",
    "import pandas as pd\n",
    "from sklearn.preprocessing import StandardScaler\n",
    "# Crea un oggetto StandardScaler\n",
    "scaler = StandardScaler()\n",
    "\n",
    "# Standardizza il DataFrame\n",
    "df_scaled = pd.DataFrame(scaler.fit_transform(df_rolling2[columns]),columns = df_rolling2[columns].columns, index = df_rolling2[columns].index)\n",
    "df_scaled['pv_measurement'] = df_rolling4[ 'pv_measurement']"
   ]
  },
  {
   "cell_type": "code",
   "execution_count": 187,
   "id": "897fd7dc",
   "metadata": {},
   "outputs": [],
   "source": [
    "def z_score_standardization(data):\n",
    "  mean = np.mean(data)\n",
    "  std = np.std(data)\n",
    "  standardized_data = (data - mean) / std\n",
    "  return standardized_data\n",
    "\n",
    "def z_score_standardization_dataframe(df):\n",
    "    standardized_df = pd.DataFrame()\n",
    "    for column in df.columns:\n",
    "        standardized_df[column] = z_score_standardization(df[column])\n",
    "    return standardized_df\n",
    "\n",
    "# Esempio di utilizzo della funzione:\n",
    "\n",
    "df_zscore = df_rolling2[columns]\n",
    "\n",
    "df_zscore = z_score_standardization_dataframe(df_zscore)\n",
    "df_zscore['pv_measurement'] = df_rolling4[ 'pv_measurement']"
   ]
  },
  {
   "cell_type": "code",
   "execution_count": 188,
   "id": "cc616f79",
   "metadata": {},
   "outputs": [],
   "source": [
    "df_scaled_norm = {\n",
    "    'norm' : df_normalized,\n",
    "    'scaled' : df_scaled,\n",
    "    'zscore' : df_zscore,\n",
    "}"
   ]
  },
  {
   "cell_type": "code",
   "execution_count": 189,
   "id": "25d7d496",
   "metadata": {},
   "outputs": [
    {
     "name": "stdout",
     "output_type": "stream",
     "text": [
      "norm\n",
      "Mean Absolute Error: 225.58002032045815\n",
      "Mean Absolute Error: 197.41867945069134\n",
      "Mean Absolute Error: 193.68892364188426\n",
      "Mean MAE:  200.2473583579156\n",
      "scaled\n",
      "Mean Absolute Error: 226.78366529021184\n",
      "Mean Absolute Error: 199.10849704688923\n",
      "Mean Absolute Error: 195.08377257675673\n",
      "Mean MAE:  201.70866285237676\n",
      "zscore\n",
      "Mean Absolute Error: 226.78366529021184\n",
      "Mean Absolute Error: 199.10836617795113\n",
      "Mean Absolute Error: 195.00550965538517\n",
      "Mean MAE:  201.66948776871163\n"
     ]
    },
    {
     "data": {
      "text/plain": [
       "[200.2473583579156, 201.70866285237676, 201.66948776871163]"
      ]
     },
     "execution_count": 189,
     "metadata": {},
     "output_type": "execute_result"
    }
   ],
   "source": [
    "test(df_scaled_norm)"
   ]
  },
  {
   "cell_type": "code",
   "execution_count": 190,
   "id": "2241d6b3",
   "metadata": {},
   "outputs": [
    {
     "data": {
      "text/plain": [
       "<Axes: xlabel='date_forecast'>"
      ]
     },
     "execution_count": 190,
     "metadata": {},
     "output_type": "execute_result"
    },
    {
     "data": {
      "image/png": "[encoded data removed]",
      "text/plain": [
       "<Figure size 640x480 with 1 Axes>"
      ]
     },
     "metadata": {},
     "output_type": "display_data"
    }
   ],
   "source": [
    "df_normalized['direct_radW'].plot()"
   ]
  },
  {
   "cell_type": "code",
   "execution_count": 191,
   "id": "a9526078",
   "metadata": {},
   "outputs": [
    {
     "data": {
      "text/plain": [
       "<Axes: xlabel='date_forecast'>"
      ]
     },
     "execution_count": 191,
     "metadata": {},
     "output_type": "execute_result"
    },
    {
     "data": {
      "image/png": "[encoded data removed]",
      "text/plain": [
       "<Figure size 640x480 with 1 Axes>"
      ]
     },
     "metadata": {},
     "output_type": "display_data"
    }
   ],
   "source": [
    "df_scaled['direct_radW'].plot()"
   ]
  },
  {
   "cell_type": "code",
   "execution_count": 192,
   "id": "73efdaf7",
   "metadata": {},
   "outputs": [
    {
     "data": {
      "text/plain": [
       "<Axes: xlabel='date_forecast'>"
      ]
     },
     "execution_count": 192,
     "metadata": {},
     "output_type": "execute_result"
    },
    {
     "data": {
      "image/png": "[encoded data removed]",
      "text/plain": [
       "<Figure size 640x480 with 1 Axes>"
      ]
     },
     "metadata": {},
     "output_type": "display_data"
    }
   ],
   "source": [
    "df_zscore['direct_radW'].plot()"
   ]
  },
  {
   "cell_type": "code",
   "execution_count": null,
   "id": "0dd70a19",
   "metadata": {},
   "outputs": [],
   "source": []
  }
 ],
 "metadata": {
  "kernelspec": {
   "display_name": "Python 3 (ipykernel)",
   "language": "python",
   "name": "python3"
  },
  "language_info": {
   "codemirror_mode": {
    "name": "ipython",
    "version": 3
   },
   "file_extension": ".py",
   "mimetype": "text/x-python",
   "name": "python",
   "nbconvert_exporter": "python",
   "pygments_lexer": "ipython3",
   "version": "3.11.4"
  }
 },
 "nbformat": 4,
 "nbformat_minor": 5
}
