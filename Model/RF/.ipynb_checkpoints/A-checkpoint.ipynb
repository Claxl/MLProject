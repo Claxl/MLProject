{
 "cells": [
  {
   "cell_type": "code",
   "execution_count": 1,
   "id": "e829b2a1",
   "metadata": {},
   "outputs": [],
   "source": [
    "import pandas as pd\n",
    "import numpy as np\n",
    "import matplotlib.pyplot as plt\n",
    "from sklearn.ensemble import RandomForestRegressor\n",
    "%timeit"
   ]
  },
  {
   "cell_type": "code",
   "execution_count": 2,
   "id": "ec4afa2f",
   "metadata": {},
   "outputs": [],
   "source": [
    "df_train_est_A = pd.read_csv('train_est_A.csv')\n",
    "df_train_obs_A = pd.read_csv('train_obs_A.csv')\n",
    "df_test_A = pd.read_csv('X_test_A.csv')\n",
    "df_train_est_A = df_train_est_A.rename(columns={'Unnamed: 0': 'date_forecast'})\n",
    "\n",
    "df_train_obs_A = df_train_obs_A.rename(columns={'Unnamed: 0': 'date_forecast'})\n",
    "\n",
    "df_test_A = df_test_A.rename(columns={'Unnamed: 0': 'date_forecast'})\n",
    "\n",
    "df_train_est_A.set_index('date_forecast', inplace=True)\n",
    "df_train_obs_A.set_index('date_forecast', inplace=True)\n",
    "df_test_A.set_index('date_forecast', inplace=True)\n",
    "df_train_obs_A.index = pd.to_datetime(df_train_obs_A.index)\n",
    "df_train_obs_A.index = pd.to_datetime(df_train_obs_A.index)\n",
    "df_train_est_A=df_train_est_A.drop(columns=['date_calc'])\n",
    "df_test_A=df_test_A.drop(columns=['date_calc'])\n",
    "df = pd.concat([df_train_obs_A,df_train_est_A])"
   ]
  },
  {
   "cell_type": "code",
   "execution_count": 3,
   "id": "ac1992aa",
   "metadata": {},
   "outputs": [],
   "source": [
    "from sklearn.impute import KNNImputer\n",
    "imputer = KNNImputer(n_neighbors=5)\n",
    "# Imputa i valori mancanti\n",
    "df_knn =pd.DataFrame(imputer.fit_transform(df),columns = df.columns, index = df.index)"
   ]
  },
  {
   "cell_type": "code",
   "execution_count": 4,
   "id": "df9927ad",
   "metadata": {},
   "outputs": [],
   "source": [
    "columns = df.drop(columns = 'pv_measurement').columns"
   ]
  },
  {
   "cell_type": "code",
   "execution_count": 5,
   "id": "f502d492",
   "metadata": {},
   "outputs": [],
   "source": [
    "from sklearn.preprocessing import MinMaxScaler\n",
    "# Crea un oggetto MinMaaxScaler\n",
    "scaler = MinMaxScaler()\n",
    "# Normalizza il DataFrame\n",
    "df_normalized = pd.DataFrame(scaler.fit_transform(df_knn[columns]),columns = df_knn[columns].columns, index = df_knn[columns].index)\n",
    "df_normalized['pv_measurement'] = df[ 'pv_measurement']"
   ]
  },
  {
   "cell_type": "code",
   "execution_count": 6,
   "id": "898ec0ab",
   "metadata": {},
   "outputs": [],
   "source": [
    "df = df_normalized"
   ]
  },
  {
   "cell_type": "code",
   "execution_count": 7,
   "id": "9b133f00",
   "metadata": {},
   "outputs": [],
   "source": [
    "df.index = pd.to_datetime(df.index)\n",
    "df['hours'] = df.index.hour\n",
    "df['day'] = df.index.day\n",
    "df['month'] = df.index.month\n",
    "df_test_A.index = pd.to_datetime(df_test_A.index)\n",
    "df_test_A['hours'] = df_test_A.index.hour\n",
    "df_test_A['day'] = df_test_A.index.day\n",
    "df_test_A['month'] = df_test_A.index.month\n",
    "df['hour_cos'] = np.cos(df['hours'] * (2. * np.pi / 24))\n",
    "df['month_cos'] = np.cos(df['month'] * (2. * np.pi / 12))\n",
    "df['hour_sin'] = np.sin(df['hours'] * (2. * np.pi / 24))\n",
    "df['month_sin'] = np.sin(df['month'] * (2. * np.pi / 12))\n",
    "df['hour_cos'] = np.cos(df['hours'] * (2. * np.pi / 24))\n",
    "df['month_cos'] = np.cos(df['month'] * (2. * np.pi / 12))\n",
    "df['hour_sin'] = np.sin(df['hours'] * (2. * np.pi / 24))\n",
    "df['month_sin'] = np.sin(df['month'] * (2. * np.pi / 12))"
   ]
  },
  {
   "cell_type": "code",
   "execution_count": 8,
   "id": "0846d23f",
   "metadata": {},
   "outputs": [],
   "source": [
    "import pandas as pd\n",
    "import math\n",
    "\n",
    "# Function to calculate solar zenith angle\n",
    "def calculate_solar_zenith(row):\n",
    "    t = row['hours']\n",
    "    Az = row['sun_azimuth:d']\n",
    "    \n",
    "    # Calculate the solar zenith angle (θ) using a simplified model\n",
    "    solar_zenith_angle = 90 - abs(t - 12) * (90 / 6)  # Assumes the sun is highest at noon\n",
    "    \n",
    "    # Ensure the solar zenith angle is between 0 and 90 degrees\n",
    "    solar_zenith_angle = max(0, min(90, solar_zenith_angle))\n",
    "    \n",
    "    return solar_zenith_angle\n",
    "\n",
    "# Apply the function to each row in the DataFrame\n",
    "df_test_A['Solar Zenith Angle (degrees)'] = df_test_A.apply(calculate_solar_zenith, axis=1)\n",
    "\n",
    "# Display the updated DataFrame\n",
    "# Apply the function to each row in the DataFrame\n",
    "df['Solar Zenith Angle (degrees)'] = df.apply(calculate_solar_zenith, axis=1)\n"
   ]
  },
  {
   "cell_type": "code",
   "execution_count": 9,
   "id": "8d0f1541",
   "metadata": {},
   "outputs": [],
   "source": [
    "def calculate_total_radiation(row):\n",
    "    DNI = row['direct_rad:W']\n",
    "    solar_zenith_angle = row['Solar Zenith Angle (degrees)']\n",
    "    DHI = row['diffuse_rad:W']\n",
    "    # Calculate total solar radiation (G) using the formula\n",
    "    G = DNI * math.cos(math.radians(solar_zenith_angle)) + DHI\n",
    "    \n",
    "    return G\n",
    "\n",
    "# Apply the function to each row in the DataFrame\n",
    "df_test_A['Total Solar Radiation (W/m²)'] = df_test_A.apply(calculate_total_radiation, axis=1)\n",
    "df['Total Solar Radiation (W/m²)'] = df.apply(calculate_total_radiation, axis=1)\n"
   ]
  },
  {
   "cell_type": "code",
   "execution_count": 10,
   "id": "043f2294",
   "metadata": {},
   "outputs": [],
   "source": [
    "data = df"
   ]
  },
  {
   "cell_type": "code",
   "execution_count": 14,
   "id": "5378d01a",
   "metadata": {},
   "outputs": [],
   "source": [
    "param = {'n_jobs' : -1}"
   ]
  },
  {
   "cell_type": "code",
   "execution_count": 15,
   "id": "bc59abc9-2568-418c-abc8-077814c3f5b9",
   "metadata": {},
   "outputs": [],
   "source": [
    "model = RandomForestRegressor(**param)"
   ]
  },
  {
   "cell_type": "code",
   "execution_count": 16,
   "id": "3686b0a9-8b38-440c-b17c-57a1230718a7",
   "metadata": {},
   "outputs": [],
   "source": [
    "X_train = data.drop(columns = 'pv_measurement')\n",
    "y_train = data['pv_measurement']"
   ]
  },
  {
   "cell_type": "code",
   "execution_count": 17,
   "id": "1cc57365-a844-427a-8658-674c589480d7",
   "metadata": {},
   "outputs": [
    {
     "data": {
      "text/html": [
       "<style>#sk-container-id-1 {color: black;}#sk-container-id-1 pre{padding: 0;}#sk-container-id-1 div.sk-toggleable {background-color: white;}#sk-container-id-1 label.sk-toggleable__label {cursor: pointer;display: block;width: 100%;margin-bottom: 0;padding: 0.3em;box-sizing: border-box;text-align: center;}#sk-container-id-1 label.sk-toggleable__label-arrow:before {content: \"▸\";float: left;margin-right: 0.25em;color: #696969;}#sk-container-id-1 label.sk-toggleable__label-arrow:hover:before {color: black;}#sk-container-id-1 div.sk-estimator:hover label.sk-toggleable__label-arrow:before {color: black;}#sk-container-id-1 div.sk-toggleable__content {max-height: 0;max-width: 0;overflow: hidden;text-align: left;background-color: #f0f8ff;}#sk-container-id-1 div.sk-toggleable__content pre {margin: 0.2em;color: black;border-radius: 0.25em;background-color: #f0f8ff;}#sk-container-id-1 input.sk-toggleable__control:checked~div.sk-toggleable__content {max-height: 200px;max-width: 100%;overflow: auto;}#sk-container-id-1 input.sk-toggleable__control:checked~label.sk-toggleable__label-arrow:before {content: \"▾\";}#sk-container-id-1 div.sk-estimator input.sk-toggleable__control:checked~label.sk-toggleable__label {background-color: #d4ebff;}#sk-container-id-1 div.sk-label input.sk-toggleable__control:checked~label.sk-toggleable__label {background-color: #d4ebff;}#sk-container-id-1 input.sk-hidden--visually {border: 0;clip: rect(1px 1px 1px 1px);clip: rect(1px, 1px, 1px, 1px);height: 1px;margin: -1px;overflow: hidden;padding: 0;position: absolute;width: 1px;}#sk-container-id-1 div.sk-estimator {font-family: monospace;background-color: #f0f8ff;border: 1px dotted black;border-radius: 0.25em;box-sizing: border-box;margin-bottom: 0.5em;}#sk-container-id-1 div.sk-estimator:hover {background-color: #d4ebff;}#sk-container-id-1 div.sk-parallel-item::after {content: \"\";width: 100%;border-bottom: 1px solid gray;flex-grow: 1;}#sk-container-id-1 div.sk-label:hover label.sk-toggleable__label {background-color: #d4ebff;}#sk-container-id-1 div.sk-serial::before {content: \"\";position: absolute;border-left: 1px solid gray;box-sizing: border-box;top: 0;bottom: 0;left: 50%;z-index: 0;}#sk-container-id-1 div.sk-serial {display: flex;flex-direction: column;align-items: center;background-color: white;padding-right: 0.2em;padding-left: 0.2em;position: relative;}#sk-container-id-1 div.sk-item {position: relative;z-index: 1;}#sk-container-id-1 div.sk-parallel {display: flex;align-items: stretch;justify-content: center;background-color: white;position: relative;}#sk-container-id-1 div.sk-item::before, #sk-container-id-1 div.sk-parallel-item::before {content: \"\";position: absolute;border-left: 1px solid gray;box-sizing: border-box;top: 0;bottom: 0;left: 50%;z-index: -1;}#sk-container-id-1 div.sk-parallel-item {display: flex;flex-direction: column;z-index: 1;position: relative;background-color: white;}#sk-container-id-1 div.sk-parallel-item:first-child::after {align-self: flex-end;width: 50%;}#sk-container-id-1 div.sk-parallel-item:last-child::after {align-self: flex-start;width: 50%;}#sk-container-id-1 div.sk-parallel-item:only-child::after {width: 0;}#sk-container-id-1 div.sk-dashed-wrapped {border: 1px dashed gray;margin: 0 0.4em 0.5em 0.4em;box-sizing: border-box;padding-bottom: 0.4em;background-color: white;}#sk-container-id-1 div.sk-label label {font-family: monospace;font-weight: bold;display: inline-block;line-height: 1.2em;}#sk-container-id-1 div.sk-label-container {text-align: center;}#sk-container-id-1 div.sk-container {/* jupyter's `normalize.less` sets `[hidden] { display: none; }` but bootstrap.min.css set `[hidden] { display: none !important; }` so we also need the `!important` here to be able to override the default hidden behavior on the sphinx rendered scikit-learn.org. See: https://github.com/scikit-learn/scikit-learn/issues/21755 */display: inline-block !important;position: relative;}#sk-container-id-1 div.sk-text-repr-fallback {display: none;}</style><div id=\"sk-container-id-1\" class=\"sk-top-container\"><div class=\"sk-text-repr-fallback\"><pre>RandomForestRegressor(n_jobs=-1)</pre><b>In a Jupyter environment, please rerun this cell to show the HTML representation or trust the notebook. <br />On GitHub, the HTML representation is unable to render, please try loading this page with nbviewer.org.</b></div><div class=\"sk-container\" hidden><div class=\"sk-item\"><div class=\"sk-estimator sk-toggleable\"><input class=\"sk-toggleable__control sk-hidden--visually\" id=\"sk-estimator-id-1\" type=\"checkbox\" checked><label for=\"sk-estimator-id-1\" class=\"sk-toggleable__label sk-toggleable__label-arrow\">RandomForestRegressor</label><div class=\"sk-toggleable__content\"><pre>RandomForestRegressor(n_jobs=-1)</pre></div></div></div></div></div>"
      ],
      "text/plain": [
       "RandomForestRegressor(n_jobs=-1)"
      ]
     },
     "execution_count": 17,
     "metadata": {},
     "output_type": "execute_result"
    }
   ],
   "source": [
    "model.fit(X_train,y_train)"
   ]
  },
  {
   "cell_type": "code",
   "execution_count": 19,
   "id": "2364517a",
   "metadata": {},
   "outputs": [
    {
     "name": "stdout",
     "output_type": "stream",
     "text": [
      "Le migliori 41 feature sono:\n",
      "Feature 'direct_rad:W': Importance 0.7098836681764593\n",
      "Feature 'Total Solar Radiation (W/m²)': Importance 0.11303688642488768\n",
      "Feature 'sun_azimuth:d': Importance 0.01472282228018649\n",
      "Feature 'clear_sky_rad:W': Importance 0.012264864319573089\n",
      "Feature 'wind_speed_u_10m:ms': Importance 0.008499420615562121\n",
      "Feature 'diffuse_rad:W': Importance 0.008392612867781849\n",
      "Feature 'wind_speed_v_10m:ms': Importance 0.007565487659211639\n",
      "Feature 'ceiling_height_agl:m': Importance 0.006697207358949819\n",
      "Feature 'wind_speed_10m:ms': Importance 0.006456051750563552\n",
      "Feature 'total_cloud_cover:p': Importance 0.006404692424529867\n",
      "Feature 'cloud_base_agl:m': Importance 0.006399765343549924\n",
      "Feature 'direct_rad_1h:J': Importance 0.006296282641549732\n",
      "Feature 'clear_sky_energy_1h:J': Importance 0.006128248167228791\n",
      "Feature 'effective_cloud_cover:p': Importance 0.0060584502617394426\n",
      "Feature 'visibility:m': Importance 0.005994212711162128\n",
      "Feature 'sun_elevation:d': Importance 0.005988958865276768\n",
      "Feature 'relative_humidity_1000hPa:p': Importance 0.005548534848072265\n",
      "Feature 'air_density_2m:kgm3': Importance 0.005471358801847959\n",
      "Feature 'day': Importance 0.005448494093927699\n",
      "Feature 't_1000hPa:K': Importance 0.005300517547159319\n",
      "Feature 'diffuse_rad_1h:J': Importance 0.00504232291792578\n",
      "Feature 'month_cos': Importance 0.004368455689240372\n",
      "Feature 'dew_point_2m:K': Importance 0.00400405235617887\n",
      "Feature 'absolute_humidity_2m:gm3': Importance 0.0038728864990593\n",
      "Feature 'month': Importance 0.0032350244850711724\n",
      "Feature 'pressure_100m:hPa': Importance 0.0030956935158911974\n",
      "Feature 'precip_5min:mm': Importance 0.0029934927702638344\n",
      "Feature 'msl_pressure:hPa': Importance 0.0029427915612865105\n",
      "Feature 'sfc_pressure:hPa': Importance 0.002878684240362826\n",
      "Feature 'pressure_50m:hPa': Importance 0.0024695629022400004\n",
      "Feature 'super_cooled_liquid_water:kgm2': Importance 0.0023626843798858982\n",
      "Feature 'hour_sin': Importance 0.00205535906636137\n",
      "Feature 'snow_water:kgm2': Importance 0.001643852243118034\n",
      "Feature 'hours': Importance 0.0014324388002011326\n",
      "Feature 'precip_type_5min:idx': Importance 0.001215681129651054\n",
      "Feature 'month_sin': Importance 0.0009203940745444271\n",
      "Feature 'Solar Zenith Angle (degrees)': Importance 0.0007786906250846485\n",
      "Feature 'hour_cos': Importance 0.0007728665192070266\n",
      "Feature 'fresh_snow_24h:cm': Importance 0.0007639361870260609\n",
      "Feature 'rain_water:kgm2': Importance 0.00032267138417641335\n",
      "Feature 'fresh_snow_12h:cm': Importance 0.00012319335478031665\n"
     ]
    }
   ],
   "source": [
    "feature_importance = model.feature_importances_\n",
    "# Ottieni i nomi delle colonne dalle feature\n",
    "feature_names = X_train.columns if isinstance(X_train, pd.DataFrame) else range(X_train.shape[1])\n",
    "\n",
    "# Crea una lista di tuple (nome della feature, importanza della feature)\n",
    "feature_importance_list = list(zip(feature_names, feature_importance))\n",
    "\n",
    "# Ordina la lista in base all'importanza della feature\n",
    "feature_importance_list = sorted(feature_importance_list, key=lambda x: x[1], reverse=True)\n",
    "\n",
    "# Stampa le prime n feature con l'importanza maggiore\n",
    "n_top_features =41  # Imposta il numero di top feature da stampare\n",
    "print(f\"Le migliori {n_top_features} feature sono:\")\n",
    "feature_name_list = []\n",
    "for i in range(n_top_features):\n",
    "    feature_name, importance = feature_importance_list[i]\n",
    "    print(f\"Feature '{feature_name}': Importance {importance}\")\n",
    "    feature_name_list.append(feature_name)"
   ]
  },
  {
   "cell_type": "code",
   "execution_count": 20,
   "id": "099dd3da",
   "metadata": {},
   "outputs": [],
   "source": [
    "feature_test = feature_name_list\n",
    "target = 'pv_measurement'\n"
   ]
  },
  {
   "cell_type": "code",
   "execution_count": 21,
   "id": "21f931ee",
   "metadata": {},
   "outputs": [
    {
     "data": {
      "text/plain": [
       "['direct_rad:W',\n",
       " 'Total Solar Radiation (W/m²)',\n",
       " 'sun_azimuth:d',\n",
       " 'clear_sky_rad:W',\n",
       " 'wind_speed_u_10m:ms',\n",
       " 'diffuse_rad:W',\n",
       " 'wind_speed_v_10m:ms',\n",
       " 'ceiling_height_agl:m',\n",
       " 'wind_speed_10m:ms',\n",
       " 'total_cloud_cover:p',\n",
       " 'cloud_base_agl:m',\n",
       " 'direct_rad_1h:J',\n",
       " 'clear_sky_energy_1h:J',\n",
       " 'effective_cloud_cover:p',\n",
       " 'visibility:m',\n",
       " 'sun_elevation:d',\n",
       " 'relative_humidity_1000hPa:p',\n",
       " 'air_density_2m:kgm3',\n",
       " 'day',\n",
       " 't_1000hPa:K',\n",
       " 'diffuse_rad_1h:J',\n",
       " 'month_cos',\n",
       " 'dew_point_2m:K',\n",
       " 'absolute_humidity_2m:gm3',\n",
       " 'month',\n",
       " 'pressure_100m:hPa',\n",
       " 'precip_5min:mm',\n",
       " 'msl_pressure:hPa',\n",
       " 'sfc_pressure:hPa',\n",
       " 'pressure_50m:hPa',\n",
       " 'super_cooled_liquid_water:kgm2',\n",
       " 'hour_sin',\n",
       " 'snow_water:kgm2',\n",
       " 'hours',\n",
       " 'precip_type_5min:idx',\n",
       " 'month_sin',\n",
       " 'Solar Zenith Angle (degrees)',\n",
       " 'hour_cos',\n",
       " 'fresh_snow_24h:cm',\n",
       " 'rain_water:kgm2',\n",
       " 'fresh_snow_12h:cm']"
      ]
     },
     "execution_count": 21,
     "metadata": {},
     "output_type": "execute_result"
    }
   ],
   "source": [
    "feature_test "
   ]
  },
  {
   "cell_type": "code",
   "execution_count": 29,
   "id": "1856dc1e",
   "metadata": {},
   "outputs": [],
   "source": [
    "import pandas as pd\n",
    "from sklearn.model_selection import TimeSeriesSplit, cross_val_score\n",
    "from sklearn.metrics import mean_absolute_error\n",
    "\n",
    "# Sample DataFrame (replace this with your own dataset)\n",
    "data = data[feature_name_list]\n",
    "data[target] = df[target]\n",
    "# Define the number of splits (e.g., 5 for 80-20 train-test splits)\n",
    "n_splits = 5\n",
    "\n",
    "\n",
    "# Initialize the TimeSeriesSplit\n",
    "tscv = TimeSeriesSplit(n_splits=n_splits,test_size= 720)"
   ]
  },
  {
   "cell_type": "code",
   "execution_count": 30,
   "id": "75af461a",
   "metadata": {},
   "outputs": [
    {
     "data": {
      "text/plain": [
       "TimeSeriesSplit(gap=0, max_train_size=None, n_splits=5, test_size=720)"
      ]
     },
     "execution_count": 30,
     "metadata": {},
     "output_type": "execute_result"
    }
   ],
   "source": [
    "tscv"
   ]
  },
  {
   "cell_type": "code",
   "execution_count": null,
   "id": "488da66a",
   "metadata": {},
   "outputs": [
    {
     "name": "stdout",
     "output_type": "stream",
     "text": [
      "Fitting 5 folds for each of 10 candidates, totalling 50 fits\n"
     ]
    }
   ],
   "source": [
    "from sklearn.ensemble import RandomForestRegressor\n",
    "from sklearn.model_selection import RandomizedSearchCV\n",
    "from sklearn.datasets import make_regression\n",
    "\n",
    "# Genera un dataset di esempio (sostituisci con i tuoi dati)\n",
    "X, y = data[feature_test], data[target]\n",
    "\n",
    "# Definisci una lista di valori da testare per ciascun iperparametro\n",
    "param_grid = {\n",
    "    'n_estimators': [10, 50, 100, 200],\n",
    "    'max_depth': [None, 10, 20, 30],\n",
    "    'min_samples_split': [2, 5, 10],\n",
    "    'min_samples_leaf': [1, 2, 4],\n",
    "    'n_jobs' : [-1],\n",
    "}\n",
    "\n",
    "# Inizializza il modello Random Forest\n",
    "rf = RandomForestRegressor()\n",
    "\n",
    "# Inizializza GridSearchCV con il modello, il parametro da ottimizzare e la cross-validation\n",
    "grid_search = RandomizedSearchCV(rf, param_grid, cv=tscv, scoring='neg_mean_absolute_error', n_jobs = -1, verbose = 3)\n",
    "\n",
    "# Esegui la ricerca degli iperparametri ottimali\n",
    "grid_search.fit(X, y)\n",
    "\n",
    "# Ottieni i migliori iperparametri trovati\n",
    "best_params = grid_search.best_params_\n",
    "best_mae = -grid_search.best_score_  # Negativo MAE, quindi invertiamo il segno\n",
    "\n",
    "print(\"Migliori iperparametri:\", best_params)\n",
    "print(\"Miglior MAE:\", best_mae)\n"
   ]
  },
  {
   "cell_type": "code",
   "execution_count": 11,
   "id": "e39e62c4-d842-4e6e-a67f-da452a79e678",
   "metadata": {},
   "outputs": [],
   "source": [
    "param = {}"
   ]
  },
  {
   "cell_type": "code",
   "execution_count": 25,
   "id": "7a5d7bb0-91cb-4cc5-862d-025e403cf6c9",
   "metadata": {},
   "outputs": [],
   "source": [
    "model_A = RandomForestRegressor(**param)"
   ]
  },
  {
   "cell_type": "code",
   "execution_count": 26,
   "id": "88cb0791-4848-49f6-bbc3-03518bc4f94d",
   "metadata": {},
   "outputs": [],
   "source": [
    "X_train = data.drop(columns = 'pv_measurement')\n",
    "y_train = data['pv_measurement']"
   ]
  },
  {
   "cell_type": "code",
   "execution_count": 27,
   "id": "871b3461-0ce0-4353-bf3f-207d6ed0c79f",
   "metadata": {},
   "outputs": [],
   "source": [
    "model_A.fit(X_train,y_train)\n",
    "df_test_A = df_test_A\n",
    "y_pred_A = model_A.predict(df_test_A)"
   ]
  },
  {
   "cell_type": "code",
   "execution_count": 28,
   "id": "9e6ab7b3-fdcb-492b-bac4-890a12480f9d",
   "metadata": {},
   "outputs": [
    {
     "data": {
      "image/png": "[encoded data removed]",
      "text/plain": [
       "<Figure size 640x480 with 1 Axes>"
      ]
     },
     "metadata": {},
     "output_type": "display_data"
    }
   ],
   "source": [
    "plt.plot(range(len(y_pred_A)), y_pred_A, label='Predizione', color='red', linestyle='-')\n",
    "\n",
    "# Aggiungi una legenda\n",
    "plt.legend()\n",
    "\n",
    "# Aggiungi etichette agli assi\n",
    "plt.ylabel('Valori y')\n",
    "\n",
    "# Titolo del grafico\n",
    "plt.title('Grafico di Predizione')\n",
    "\n",
    "# Mostra il grafico\n",
    "plt.show()"
   ]
  },
  {
   "cell_type": "code",
   "execution_count": 29,
   "id": "006f3c40-6b7b-41a6-bf5d-decb0321db8b",
   "metadata": {},
   "outputs": [],
   "source": [
    "df = pd.DataFrame({'Prediction':y_pred_A})"
   ]
  },
  {
   "cell_type": "code",
   "execution_count": 44,
   "id": "c340aac0-1709-4090-a725-e58f968cff11",
   "metadata": {},
   "outputs": [],
   "source": [
    "threshold = 0.05\n",
    "df['Prediction'] = df['Prediction'].apply(lambda x: 0 if x < threshold else x)"
   ]
  },
  {
   "cell_type": "code",
   "execution_count": 45,
   "id": "33dac465-12c8-4234-9328-0639f338f50e",
   "metadata": {},
   "outputs": [],
   "source": [
    "df.to_csv('A.csv')"
   ]
  },
  {
   "cell_type": "code",
   "execution_count": 30,
   "id": "3e111b97",
   "metadata": {},
   "outputs": [
    {
     "data": {
      "text/html": [
       "<div>\n",
       "<style scoped>\n",
       "    .dataframe tbody tr th:only-of-type {\n",
       "        vertical-align: middle;\n",
       "    }\n",
       "\n",
       "    .dataframe tbody tr th {\n",
       "        vertical-align: top;\n",
       "    }\n",
       "\n",
       "    .dataframe thead th {\n",
       "        text-align: right;\n",
       "    }\n",
       "</style>\n",
       "<table border=\"1\" class=\"dataframe\">\n",
       "  <thead>\n",
       "    <tr style=\"text-align: right;\">\n",
       "      <th></th>\n",
       "      <th>Prediction</th>\n",
       "    </tr>\n",
       "  </thead>\n",
       "  <tbody>\n",
       "    <tr>\n",
       "      <th>0</th>\n",
       "      <td>0.0000</td>\n",
       "    </tr>\n",
       "    <tr>\n",
       "      <th>1</th>\n",
       "      <td>0.0000</td>\n",
       "    </tr>\n",
       "    <tr>\n",
       "      <th>2</th>\n",
       "      <td>0.0000</td>\n",
       "    </tr>\n",
       "    <tr>\n",
       "      <th>3</th>\n",
       "      <td>3844.4648</td>\n",
       "    </tr>\n",
       "    <tr>\n",
       "      <th>4</th>\n",
       "      <td>3844.4648</td>\n",
       "    </tr>\n",
       "    <tr>\n",
       "      <th>...</th>\n",
       "      <td>...</td>\n",
       "    </tr>\n",
       "    <tr>\n",
       "      <th>715</th>\n",
       "      <td>2180.0152</td>\n",
       "    </tr>\n",
       "    <tr>\n",
       "      <th>716</th>\n",
       "      <td>2489.1482</td>\n",
       "    </tr>\n",
       "    <tr>\n",
       "      <th>717</th>\n",
       "      <td>2155.2014</td>\n",
       "    </tr>\n",
       "    <tr>\n",
       "      <th>718</th>\n",
       "      <td>0.0000</td>\n",
       "    </tr>\n",
       "    <tr>\n",
       "      <th>719</th>\n",
       "      <td>0.0000</td>\n",
       "    </tr>\n",
       "  </tbody>\n",
       "</table>\n",
       "<p>720 rows × 1 columns</p>\n",
       "</div>"
      ],
      "text/plain": [
       "     Prediction\n",
       "0        0.0000\n",
       "1        0.0000\n",
       "2        0.0000\n",
       "3     3844.4648\n",
       "4     3844.4648\n",
       "..          ...\n",
       "715   2180.0152\n",
       "716   2489.1482\n",
       "717   2155.2014\n",
       "718      0.0000\n",
       "719      0.0000\n",
       "\n",
       "[720 rows x 1 columns]"
      ]
     },
     "execution_count": 30,
     "metadata": {},
     "output_type": "execute_result"
    }
   ],
   "source": [
    "df"
   ]
  },
  {
   "cell_type": "code",
   "execution_count": null,
   "id": "682b18d4",
   "metadata": {},
   "outputs": [],
   "source": [
    "target = 'pv_measurement'"
   ]
  }
 ],
 "metadata": {
  "environment": {
   "kernel": "python3",
   "name": "common-cpu.m112",
   "type": "gcloud",
   "uri": "gcr.io/deeplearning-platform-release/base-cpu:m112"
  },
  "kernelspec": {
   "display_name": "Python 3 (ipykernel)",
   "language": "python",
   "name": "python3"
  },
  "language_info": {
   "codemirror_mode": {
    "name": "ipython",
    "version": 3
   },
   "file_extension": ".py",
   "mimetype": "text/x-python",
   "name": "python",
   "nbconvert_exporter": "python",
   "pygments_lexer": "ipython3",
   "version": "3.11.4"
  }
 },
 "nbformat": 4,
 "nbformat_minor": 5
}
