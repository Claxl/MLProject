{
 "cells": [
  {
   "cell_type": "code",
   "execution_count": 1,
   "id": "e829b2a1",
   "metadata": {},
   "outputs": [],
   "source": [
    "import pandas as pd\n",
    "import numpy as np\n",
    "import matplotlib.pyplot as plt\n",
    "from sklearn.ensemble import RandomForestRegressor\n",
    "%timeit"
   ]
  },
  {
   "cell_type": "code",
   "execution_count": 2,
   "id": "ec4afa2f",
   "metadata": {},
   "outputs": [],
   "source": [
    "df_train_est_A = pd.read_csv('train_est_A.csv')\n",
    "df_train_obs_A = pd.read_csv('train_obs_A.csv')\n",
    "df_test_A = pd.read_csv('X_test_A.csv')\n",
    "df_train_est_A = df_train_est_A.rename(columns={'Unnamed: 0': 'date_forecast'})\n",
    "\n",
    "df_train_obs_A = df_train_obs_A.rename(columns={'Unnamed: 0': 'date_forecast'})\n",
    "\n",
    "df_test_A = df_test_A.rename(columns={'Unnamed: 0': 'date_forecast'})\n",
    "\n",
    "df_train_est_A.set_index('date_forecast', inplace=True)\n",
    "df_train_obs_A.set_index('date_forecast', inplace=True)\n",
    "df_test_A.set_index('date_forecast', inplace=True)\n",
    "df_train_obs_A.index = pd.to_datetime(df_train_obs_A.index)\n",
    "df_train_obs_A.index = pd.to_datetime(df_train_obs_A.index)\n",
    "df_train_est_A=df_train_est_A.drop(columns=['date_calc'])\n",
    "df_test_A=df_test_A.drop(columns=['date_calc'])\n",
    "df = pd.concat([df_train_obs_A,df_train_est_A])"
   ]
  },
  {
   "cell_type": "code",
   "execution_count": 3,
   "id": "ac1992aa",
   "metadata": {},
   "outputs": [],
   "source": [
    "from sklearn.impute import KNNImputer\n",
    "imputer = KNNImputer(n_neighbors=5)\n",
    "# Imputa i valori mancanti\n",
    "df_knn =pd.DataFrame(imputer.fit_transform(df),columns = df.columns, index = df.index)"
   ]
  },
  {
   "cell_type": "code",
   "execution_count": 4,
   "id": "df9927ad",
   "metadata": {},
   "outputs": [],
   "source": [
    "columns = df.drop(columns = 'pv_measurement').columns"
   ]
  },
  {
   "cell_type": "code",
   "execution_count": 5,
   "id": "f502d492",
   "metadata": {},
   "outputs": [],
   "source": [
    "from sklearn.preprocessing import RobustScaler\n",
    "# Crea un oggetto MinMaaxScaler\n",
    "scaler = RobustScaler()\n",
    "# Normalizza il DataFrame\n",
    "df_normalized = pd.DataFrame(scaler.fit_transform(df_knn[columns]),columns = df_knn[columns].columns, index = df_knn[columns].index)\n",
    "df_normalized['pv_measurement'] = df[ 'pv_measurement']"
   ]
  },
  {
   "cell_type": "code",
   "execution_count": 6,
   "id": "9b133f00",
   "metadata": {},
   "outputs": [],
   "source": [
    "df_normalized.index = pd.to_datetime(df_normalized.index)\n",
    "df_normalized['hours'] = df_normalized.index.hour\n",
    "df_normalized['day'] = df_normalized.index.day\n",
    "df_normalized['month'] = df_normalized.index.month\n",
    "df_test_A.index = pd.to_datetime(df_test_A.index)\n",
    "df_test_A['hours'] = df_test_A.index.hour\n",
    "df_test_A['day'] = df_test_A.index.day\n",
    "df_test_A['month'] = df_test_A.index.month\n",
    "df_normalized['hour_cos'] = np.cos(df_normalized['hours'] * (2. * np.pi / 24))\n",
    "df_normalized['month_cos'] = np.cos(df_normalized['month'] * (2. * np.pi / 12))\n",
    "df_normalized['hour_sin'] = np.sin(df_normalized['hours'] * (2. * np.pi / 24))\n",
    "df_normalized['month_sin'] = np.sin(df_normalized['month'] * (2. * np.pi / 12))\n",
    "df_test_A['hour_cos'] = np.cos(df_test_A['hours'] * (2. * np.pi / 24))\n",
    "df_test_A['month_cos'] = np.cos(df_test_A['month'] * (2. * np.pi / 12))\n",
    "df_test_A['hour_sin'] = np.sin(df_test_A['hours'] * (2. * np.pi / 24))\n",
    "df_test_A['month_sin'] = np.sin(df_test_A['month'] * (2. * np.pi / 12))"
   ]
  },
  {
   "cell_type": "code",
   "execution_count": 7,
   "id": "0846d23f",
   "metadata": {},
   "outputs": [],
   "source": [
    "import pandas as pd\n",
    "import math\n",
    "\n",
    "# Function to calculate solar zenith angle\n",
    "def calculate_solar_zenith(row):\n",
    "    t = row['hours']\n",
    "    Az = row['sun_azimuth:d']\n",
    "    \n",
    "    # Calculate the solar zenith angle (θ) using a simplified model\n",
    "    solar_zenith_angle = 90 - abs(t - 12) * (90 / 6)  # Assumes the sun is highest at noon\n",
    "    \n",
    "    # Ensure the solar zenith angle is between 0 and 90 degrees\n",
    "    solar_zenith_angle = max(0, min(90, solar_zenith_angle))\n",
    "    \n",
    "    return solar_zenith_angle\n",
    "\n",
    "# Apply the function to each row in the DataFrame\n",
    "df_test_A['Solar Zenith Angle (degrees)'] = df_test_A.apply(calculate_solar_zenith, axis=1)\n",
    "\n",
    "# Display the updated DataFrame\n",
    "# Apply the function to each row in the DataFrame\n",
    "df_normalized['Solar Zenith Angle (degrees)'] = df_normalized.apply(calculate_solar_zenith, axis=1)\n"
   ]
  },
  {
   "cell_type": "code",
   "execution_count": 8,
   "id": "8d0f1541",
   "metadata": {},
   "outputs": [],
   "source": [
    "def calculate_total_radiation(row):\n",
    "    DNI = row['direct_rad:W']\n",
    "    solar_zenith_angle = row['Solar Zenith Angle (degrees)']\n",
    "    DHI = row['diffuse_rad:W']\n",
    "    # Calculate total solar radiation (G) using the formula\n",
    "    G = DNI * math.cos(math.radians(solar_zenith_angle)) + DHI\n",
    "    \n",
    "    return G\n",
    "\n",
    "# Apply the function to each row in the DataFrame\n",
    "df_test_A['Total Solar Radiation (W/m²)'] = df_test_A.apply(calculate_total_radiation, axis=1)\n",
    "df_normalized['Total Solar Radiation (W/m²)'] = df_normalized.apply(calculate_total_radiation, axis=1)\n"
   ]
  },
  {
   "cell_type": "code",
   "execution_count": 9,
   "id": "043f2294",
   "metadata": {},
   "outputs": [],
   "source": [
    "df = df_normalized"
   ]
  },
  {
   "cell_type": "code",
   "execution_count": 10,
   "id": "049b6650",
   "metadata": {},
   "outputs": [],
   "source": [
    "param = {'n_jobs' : -1}"
   ]
  },
  {
   "cell_type": "code",
   "execution_count": 11,
   "id": "bc59abc9-2568-418c-abc8-077814c3f5b9",
   "metadata": {},
   "outputs": [],
   "source": [
    "model = RandomForestRegressor(**param)"
   ]
  },
  {
   "cell_type": "code",
   "execution_count": 12,
   "id": "3686b0a9-8b38-440c-b17c-57a1230718a7",
   "metadata": {},
   "outputs": [],
   "source": [
    "X_train = df.drop(columns = 'pv_measurement')\n",
    "y_train = df['pv_measurement']"
   ]
  },
  {
   "cell_type": "code",
   "execution_count": 13,
   "id": "1cc57365-a844-427a-8658-674c589480d7",
   "metadata": {},
   "outputs": [
    {
     "data": {
      "text/html": [
       "<style>#sk-container-id-1 {color: black;}#sk-container-id-1 pre{padding: 0;}#sk-container-id-1 div.sk-toggleable {background-color: white;}#sk-container-id-1 label.sk-toggleable__label {cursor: pointer;display: block;width: 100%;margin-bottom: 0;padding: 0.3em;box-sizing: border-box;text-align: center;}#sk-container-id-1 label.sk-toggleable__label-arrow:before {content: \"▸\";float: left;margin-right: 0.25em;color: #696969;}#sk-container-id-1 label.sk-toggleable__label-arrow:hover:before {color: black;}#sk-container-id-1 div.sk-estimator:hover label.sk-toggleable__label-arrow:before {color: black;}#sk-container-id-1 div.sk-toggleable__content {max-height: 0;max-width: 0;overflow: hidden;text-align: left;background-color: #f0f8ff;}#sk-container-id-1 div.sk-toggleable__content pre {margin: 0.2em;color: black;border-radius: 0.25em;background-color: #f0f8ff;}#sk-container-id-1 input.sk-toggleable__control:checked~div.sk-toggleable__content {max-height: 200px;max-width: 100%;overflow: auto;}#sk-container-id-1 input.sk-toggleable__control:checked~label.sk-toggleable__label-arrow:before {content: \"▾\";}#sk-container-id-1 div.sk-estimator input.sk-toggleable__control:checked~label.sk-toggleable__label {background-color: #d4ebff;}#sk-container-id-1 div.sk-label input.sk-toggleable__control:checked~label.sk-toggleable__label {background-color: #d4ebff;}#sk-container-id-1 input.sk-hidden--visually {border: 0;clip: rect(1px 1px 1px 1px);clip: rect(1px, 1px, 1px, 1px);height: 1px;margin: -1px;overflow: hidden;padding: 0;position: absolute;width: 1px;}#sk-container-id-1 div.sk-estimator {font-family: monospace;background-color: #f0f8ff;border: 1px dotted black;border-radius: 0.25em;box-sizing: border-box;margin-bottom: 0.5em;}#sk-container-id-1 div.sk-estimator:hover {background-color: #d4ebff;}#sk-container-id-1 div.sk-parallel-item::after {content: \"\";width: 100%;border-bottom: 1px solid gray;flex-grow: 1;}#sk-container-id-1 div.sk-label:hover label.sk-toggleable__label {background-color: #d4ebff;}#sk-container-id-1 div.sk-serial::before {content: \"\";position: absolute;border-left: 1px solid gray;box-sizing: border-box;top: 0;bottom: 0;left: 50%;z-index: 0;}#sk-container-id-1 div.sk-serial {display: flex;flex-direction: column;align-items: center;background-color: white;padding-right: 0.2em;padding-left: 0.2em;position: relative;}#sk-container-id-1 div.sk-item {position: relative;z-index: 1;}#sk-container-id-1 div.sk-parallel {display: flex;align-items: stretch;justify-content: center;background-color: white;position: relative;}#sk-container-id-1 div.sk-item::before, #sk-container-id-1 div.sk-parallel-item::before {content: \"\";position: absolute;border-left: 1px solid gray;box-sizing: border-box;top: 0;bottom: 0;left: 50%;z-index: -1;}#sk-container-id-1 div.sk-parallel-item {display: flex;flex-direction: column;z-index: 1;position: relative;background-color: white;}#sk-container-id-1 div.sk-parallel-item:first-child::after {align-self: flex-end;width: 50%;}#sk-container-id-1 div.sk-parallel-item:last-child::after {align-self: flex-start;width: 50%;}#sk-container-id-1 div.sk-parallel-item:only-child::after {width: 0;}#sk-container-id-1 div.sk-dashed-wrapped {border: 1px dashed gray;margin: 0 0.4em 0.5em 0.4em;box-sizing: border-box;padding-bottom: 0.4em;background-color: white;}#sk-container-id-1 div.sk-label label {font-family: monospace;font-weight: bold;display: inline-block;line-height: 1.2em;}#sk-container-id-1 div.sk-label-container {text-align: center;}#sk-container-id-1 div.sk-container {/* jupyter's `normalize.less` sets `[hidden] { display: none; }` but bootstrap.min.css set `[hidden] { display: none !important; }` so we also need the `!important` here to be able to override the default hidden behavior on the sphinx rendered scikit-learn.org. See: https://github.com/scikit-learn/scikit-learn/issues/21755 */display: inline-block !important;position: relative;}#sk-container-id-1 div.sk-text-repr-fallback {display: none;}</style><div id=\"sk-container-id-1\" class=\"sk-top-container\"><div class=\"sk-text-repr-fallback\"><pre>RandomForestRegressor(n_jobs=-1)</pre><b>In a Jupyter environment, please rerun this cell to show the HTML representation or trust the notebook. <br />On GitHub, the HTML representation is unable to render, please try loading this page with nbviewer.org.</b></div><div class=\"sk-container\" hidden><div class=\"sk-item\"><div class=\"sk-estimator sk-toggleable\"><input class=\"sk-toggleable__control sk-hidden--visually\" id=\"sk-estimator-id-1\" type=\"checkbox\" checked><label for=\"sk-estimator-id-1\" class=\"sk-toggleable__label sk-toggleable__label-arrow\">RandomForestRegressor</label><div class=\"sk-toggleable__content\"><pre>RandomForestRegressor(n_jobs=-1)</pre></div></div></div></div></div>"
      ],
      "text/plain": [
       "RandomForestRegressor(n_jobs=-1)"
      ]
     },
     "execution_count": 13,
     "metadata": {},
     "output_type": "execute_result"
    }
   ],
   "source": [
    "model.fit(X_train,y_train)"
   ]
  },
  {
   "cell_type": "code",
   "execution_count": 14,
   "id": "2364517a",
   "metadata": {},
   "outputs": [],
   "source": [
    "feature_importance = model.feature_importances_\n",
    "# Ottieni i nomi delle colonne dalle feature\n",
    "feature_names = X_train.columns\n",
    "\n",
    "feature_df = pd.DataFrame({'Name' : feature_names, 'Importance':feature_importance})"
   ]
  },
  {
   "cell_type": "code",
   "execution_count": 22,
   "id": "09d692cf",
   "metadata": {},
   "outputs": [
    {
     "data": {
      "text/plain": [
       "0                    direct_rad:W\n",
       "1    Total Solar Radiation (W/m²)\n",
       "2                   diffuse_rad:W\n",
       "3                 clear_sky_rad:W\n",
       "4                   sun_azimuth:d\n",
       "5             wind_speed_u_10m:ms\n",
       "6             wind_speed_v_10m:ms\n",
       "7            ceiling_height_agl:m\n",
       "8               wind_speed_10m:ms\n",
       "9                cloud_base_agl:m\n",
       "Name: Name, dtype: object"
      ]
     },
     "execution_count": 22,
     "metadata": {},
     "output_type": "execute_result"
    }
   ],
   "source": [
    "feature_df = feature_df.sort_values(by='Importance', ascending=False)\n",
    "feature_df = feature_df.reset_index()\n",
    "feature_df = feature_df.drop(columns = ['index'])\n",
    "feature_df['Name'][:10]"
   ]
  },
  {
   "cell_type": "code",
   "execution_count": 25,
   "id": "099dd3da",
   "metadata": {},
   "outputs": [],
   "source": [
    "feature_test = feature_df['Name'][:10].tolist()\n",
    "target = 'pv_measurement'\n"
   ]
  },
  {
   "cell_type": "code",
   "execution_count": 26,
   "id": "21f931ee",
   "metadata": {},
   "outputs": [
    {
     "data": {
      "text/plain": [
       "['direct_rad:W',\n",
       " 'Total Solar Radiation (W/m²)',\n",
       " 'diffuse_rad:W',\n",
       " 'clear_sky_rad:W',\n",
       " 'sun_azimuth:d',\n",
       " 'wind_speed_u_10m:ms',\n",
       " 'wind_speed_v_10m:ms',\n",
       " 'ceiling_height_agl:m',\n",
       " 'wind_speed_10m:ms',\n",
       " 'cloud_base_agl:m']"
      ]
     },
     "execution_count": 26,
     "metadata": {},
     "output_type": "execute_result"
    }
   ],
   "source": [
    "feature_test "
   ]
  },
  {
   "cell_type": "code",
   "execution_count": 27,
   "id": "1856dc1e",
   "metadata": {},
   "outputs": [
    {
     "name": "stderr",
     "output_type": "stream",
     "text": [
      "C:\\Users\\claxl\\AppData\\Local\\Temp\\ipykernel_14196\\591685947.py:7: SettingWithCopyWarning: \n",
      "A value is trying to be set on a copy of a slice from a DataFrame.\n",
      "Try using .loc[row_indexer,col_indexer] = value instead\n",
      "\n",
      "See the caveats in the documentation: https://pandas.pydata.org/pandas-docs/stable/user_guide/indexing.html#returning-a-view-versus-a-copy\n",
      "  data[target] = df[target]\n"
     ]
    }
   ],
   "source": [
    "import pandas as pd\n",
    "from sklearn.model_selection import TimeSeriesSplit, cross_val_score\n",
    "from sklearn.metrics import mean_absolute_error\n",
    "\n",
    "# Sample DataFrame (replace this with your own dataset)\n",
    "data = df[feature_test]\n",
    "data[target] = df[target]\n",
    "# Define the number of splits (e.g., 5 for 80-20 train-test splits)\n",
    "n_splits = 5\n",
    "\n",
    "\n",
    "# Initialize the TimeSeriesSplit\n",
    "tscv = TimeSeriesSplit(n_splits=n_splits)"
   ]
  },
  {
   "cell_type": "code",
   "execution_count": 28,
   "id": "2042857b",
   "metadata": {},
   "outputs": [],
   "source": [
    "def train(data):\n",
    "    model = RandomForestRegressor(**param)\n",
    "    maelist = []\n",
    "    for train_index, test_index in tscv.split(data):\n",
    "            train_data = data.iloc[train_index]\n",
    "            test_data = data.iloc[test_index]\n",
    "\n",
    "            # Extract target variable for training and testing data\n",
    "            y_train = train_data['pv_measurement']\n",
    "            y_test = test_data['pv_measurement']\n",
    "\n",
    "            # Extract features for training and testing data\n",
    "            X_train = train_data.drop(columns = 'pv_measurement')\n",
    "            X_test = test_data.drop(columns = 'pv_measurement')\n",
    "\n",
    "            # Train the XGBoost model\n",
    "            model.fit(X_train, y_train)\n",
    "\n",
    "            # Make predictions on the test data\n",
    "            y_pred = model.predict(X_test)\n",
    "\n",
    "            # Evaluate the model using Mean Absolute Error (MAE)\n",
    "            mae = mean_absolute_error(y_test, y_pred)\n",
    "            print(\"Mean Absolute Error:\", mae)\n",
    "            maelist.append(mae)\n",
    "        # Return MAE\n",
    "    mean_mae = np.mean(maelist)\n",
    "    print(mean_mae)\n",
    "    return mean_mae"
   ]
  },
  {
   "cell_type": "code",
   "execution_count": 29,
   "id": "0069c7ec",
   "metadata": {},
   "outputs": [
    {
     "name": "stdout",
     "output_type": "stream",
     "text": [
      "Mean Absolute Error: 336.598494084507\n",
      "Mean Absolute Error: 152.34903633802818\n",
      "Mean Absolute Error: 224.81563848591546\n",
      "Mean Absolute Error: 246.37173038732394\n",
      "Mean Absolute Error: 137.67988117957745\n",
      "219.56295609507043\n",
      "Mean Absolute Error: 347.02409964788734\n",
      "Mean Absolute Error: 152.3675511971831\n",
      "Mean Absolute Error: 227.96196674295777\n",
      "Mean Absolute Error: 255.6969683802817\n",
      "Mean Absolute Error: 141.75956117957747\n",
      "224.96202942957748\n"
     ]
    },
    {
     "data": {
      "text/plain": [
       "224.96202942957748"
      ]
     },
     "execution_count": 29,
     "metadata": {},
     "output_type": "execute_result"
    }
   ],
   "source": [
    "train(df)\n",
    "train(data)"
   ]
  },
  {
   "cell_type": "code",
   "execution_count": 33,
   "id": "3a34bdd6",
   "metadata": {},
   "outputs": [
    {
     "data": {
      "text/html": [
       "<div>\n",
       "<style scoped>\n",
       "    .dataframe tbody tr th:only-of-type {\n",
       "        vertical-align: middle;\n",
       "    }\n",
       "\n",
       "    .dataframe tbody tr th {\n",
       "        vertical-align: top;\n",
       "    }\n",
       "\n",
       "    .dataframe thead th {\n",
       "        text-align: right;\n",
       "    }\n",
       "</style>\n",
       "<table border=\"1\" class=\"dataframe\">\n",
       "  <thead>\n",
       "    <tr style=\"text-align: right;\">\n",
       "      <th></th>\n",
       "      <th>direct_rad:W</th>\n",
       "      <th>Total Solar Radiation (W/m²)</th>\n",
       "      <th>diffuse_rad:W</th>\n",
       "      <th>clear_sky_rad:W</th>\n",
       "      <th>sun_azimuth:d</th>\n",
       "      <th>wind_speed_u_10m:ms</th>\n",
       "      <th>wind_speed_v_10m:ms</th>\n",
       "      <th>ceiling_height_agl:m</th>\n",
       "      <th>wind_speed_10m:ms</th>\n",
       "      <th>cloud_base_agl:m</th>\n",
       "      <th>pv_measurement</th>\n",
       "    </tr>\n",
       "    <tr>\n",
       "      <th>date_forecast</th>\n",
       "      <th></th>\n",
       "      <th></th>\n",
       "      <th></th>\n",
       "      <th></th>\n",
       "      <th></th>\n",
       "      <th></th>\n",
       "      <th></th>\n",
       "      <th></th>\n",
       "      <th></th>\n",
       "      <th></th>\n",
       "      <th></th>\n",
       "    </tr>\n",
       "  </thead>\n",
       "  <tbody>\n",
       "    <tr>\n",
       "      <th>2019-06-02 22:00:00</th>\n",
       "      <td>0.000000</td>\n",
       "      <td>-0.029016</td>\n",
       "      <td>-0.029016</td>\n",
       "      <td>-0.013915</td>\n",
       "      <td>0.983563</td>\n",
       "      <td>-0.951219</td>\n",
       "      <td>-0.457447</td>\n",
       "      <td>-0.179721</td>\n",
       "      <td>0.360825</td>\n",
       "      <td>0.298824</td>\n",
       "      <td>0.00</td>\n",
       "    </tr>\n",
       "    <tr>\n",
       "      <th>2019-06-02 23:00:00</th>\n",
       "      <td>0.000000</td>\n",
       "      <td>-0.029016</td>\n",
       "      <td>-0.029016</td>\n",
       "      <td>-0.013915</td>\n",
       "      <td>-0.515798</td>\n",
       "      <td>-0.896341</td>\n",
       "      <td>-0.127660</td>\n",
       "      <td>-0.191187</td>\n",
       "      <td>0.257732</td>\n",
       "      <td>0.275195</td>\n",
       "      <td>0.00</td>\n",
       "    </tr>\n",
       "    <tr>\n",
       "      <th>2019-06-03 00:00:00</th>\n",
       "      <td>0.000000</td>\n",
       "      <td>-0.029016</td>\n",
       "      <td>-0.029016</td>\n",
       "      <td>-0.013915</td>\n",
       "      <td>-0.966948</td>\n",
       "      <td>-0.798780</td>\n",
       "      <td>0.074468</td>\n",
       "      <td>-0.228290</td>\n",
       "      <td>0.134021</td>\n",
       "      <td>0.198738</td>\n",
       "      <td>0.00</td>\n",
       "    </tr>\n",
       "    <tr>\n",
       "      <th>2019-06-03 01:00:00</th>\n",
       "      <td>0.000000</td>\n",
       "      <td>-0.024770</td>\n",
       "      <td>-0.024770</td>\n",
       "      <td>-0.010933</td>\n",
       "      <td>-0.886753</td>\n",
       "      <td>-0.713415</td>\n",
       "      <td>0.127660</td>\n",
       "      <td>-0.310293</td>\n",
       "      <td>0.000000</td>\n",
       "      <td>0.029759</td>\n",
       "      <td>0.00</td>\n",
       "    </tr>\n",
       "    <tr>\n",
       "      <th>2019-06-03 02:00:00</th>\n",
       "      <td>0.004392</td>\n",
       "      <td>0.144874</td>\n",
       "      <td>0.140481</td>\n",
       "      <td>0.077925</td>\n",
       "      <td>-0.808480</td>\n",
       "      <td>-0.652439</td>\n",
       "      <td>0.148936</td>\n",
       "      <td>-0.392332</td>\n",
       "      <td>-0.072165</td>\n",
       "      <td>-0.139296</td>\n",
       "      <td>19.36</td>\n",
       "    </tr>\n",
       "    <tr>\n",
       "      <th>...</th>\n",
       "      <td>...</td>\n",
       "      <td>...</td>\n",
       "      <td>...</td>\n",
       "      <td>...</td>\n",
       "      <td>...</td>\n",
       "      <td>...</td>\n",
       "      <td>...</td>\n",
       "      <td>...</td>\n",
       "      <td>...</td>\n",
       "      <td>...</td>\n",
       "      <td>...</td>\n",
       "    </tr>\n",
       "    <tr>\n",
       "      <th>2023-04-30 19:00:00</th>\n",
       "      <td>0.002928</td>\n",
       "      <td>0.013898</td>\n",
       "      <td>0.010970</td>\n",
       "      <td>0.002882</td>\n",
       "      <td>0.731202</td>\n",
       "      <td>1.091463</td>\n",
       "      <td>0.574468</td>\n",
       "      <td>-0.195767</td>\n",
       "      <td>1.010309</td>\n",
       "      <td>-0.417586</td>\n",
       "      <td>9.02</td>\n",
       "    </tr>\n",
       "    <tr>\n",
       "      <th>2023-04-30 20:00:00</th>\n",
       "      <td>0.000000</td>\n",
       "      <td>-0.029016</td>\n",
       "      <td>-0.029016</td>\n",
       "      <td>-0.013915</td>\n",
       "      <td>0.811344</td>\n",
       "      <td>0.902439</td>\n",
       "      <td>0.734043</td>\n",
       "      <td>-0.169917</td>\n",
       "      <td>0.793814</td>\n",
       "      <td>-0.415352</td>\n",
       "      <td>0.00</td>\n",
       "    </tr>\n",
       "    <tr>\n",
       "      <th>2023-04-30 21:00:00</th>\n",
       "      <td>0.000000</td>\n",
       "      <td>-0.029016</td>\n",
       "      <td>-0.029016</td>\n",
       "      <td>-0.013915</td>\n",
       "      <td>0.894260</td>\n",
       "      <td>0.792683</td>\n",
       "      <td>0.861702</td>\n",
       "      <td>-0.189187</td>\n",
       "      <td>0.711340</td>\n",
       "      <td>-0.414174</td>\n",
       "      <td>0.00</td>\n",
       "    </tr>\n",
       "    <tr>\n",
       "      <th>2023-04-30 22:00:00</th>\n",
       "      <td>0.000000</td>\n",
       "      <td>-0.029016</td>\n",
       "      <td>-0.029016</td>\n",
       "      <td>-0.013915</td>\n",
       "      <td>0.979706</td>\n",
       "      <td>0.695122</td>\n",
       "      <td>0.840426</td>\n",
       "      <td>-0.289785</td>\n",
       "      <td>0.567010</td>\n",
       "      <td>-0.426600</td>\n",
       "      <td>0.00</td>\n",
       "    </tr>\n",
       "    <tr>\n",
       "      <th>2023-04-30 23:00:00</th>\n",
       "      <td>0.000000</td>\n",
       "      <td>-0.029016</td>\n",
       "      <td>-0.029016</td>\n",
       "      <td>-0.013915</td>\n",
       "      <td>-0.514458</td>\n",
       "      <td>0.585366</td>\n",
       "      <td>0.840426</td>\n",
       "      <td>-0.209724</td>\n",
       "      <td>0.422680</td>\n",
       "      <td>-0.427355</td>\n",
       "      <td>0.00</td>\n",
       "    </tr>\n",
       "  </tbody>\n",
       "</table>\n",
       "<p>34085 rows × 11 columns</p>\n",
       "</div>"
      ],
      "text/plain": [
       "                     direct_rad:W  Total Solar Radiation (W/m²)  \\\n",
       "date_forecast                                                     \n",
       "2019-06-02 22:00:00      0.000000                     -0.029016   \n",
       "2019-06-02 23:00:00      0.000000                     -0.029016   \n",
       "2019-06-03 00:00:00      0.000000                     -0.029016   \n",
       "2019-06-03 01:00:00      0.000000                     -0.024770   \n",
       "2019-06-03 02:00:00      0.004392                      0.144874   \n",
       "...                           ...                           ...   \n",
       "2023-04-30 19:00:00      0.002928                      0.013898   \n",
       "2023-04-30 20:00:00      0.000000                     -0.029016   \n",
       "2023-04-30 21:00:00      0.000000                     -0.029016   \n",
       "2023-04-30 22:00:00      0.000000                     -0.029016   \n",
       "2023-04-30 23:00:00      0.000000                     -0.029016   \n",
       "\n",
       "                     diffuse_rad:W  clear_sky_rad:W  sun_azimuth:d  \\\n",
       "date_forecast                                                        \n",
       "2019-06-02 22:00:00      -0.029016        -0.013915       0.983563   \n",
       "2019-06-02 23:00:00      -0.029016        -0.013915      -0.515798   \n",
       "2019-06-03 00:00:00      -0.029016        -0.013915      -0.966948   \n",
       "2019-06-03 01:00:00      -0.024770        -0.010933      -0.886753   \n",
       "2019-06-03 02:00:00       0.140481         0.077925      -0.808480   \n",
       "...                            ...              ...            ...   \n",
       "2023-04-30 19:00:00       0.010970         0.002882       0.731202   \n",
       "2023-04-30 20:00:00      -0.029016        -0.013915       0.811344   \n",
       "2023-04-30 21:00:00      -0.029016        -0.013915       0.894260   \n",
       "2023-04-30 22:00:00      -0.029016        -0.013915       0.979706   \n",
       "2023-04-30 23:00:00      -0.029016        -0.013915      -0.514458   \n",
       "\n",
       "                     wind_speed_u_10m:ms  wind_speed_v_10m:ms  \\\n",
       "date_forecast                                                   \n",
       "2019-06-02 22:00:00            -0.951219            -0.457447   \n",
       "2019-06-02 23:00:00            -0.896341            -0.127660   \n",
       "2019-06-03 00:00:00            -0.798780             0.074468   \n",
       "2019-06-03 01:00:00            -0.713415             0.127660   \n",
       "2019-06-03 02:00:00            -0.652439             0.148936   \n",
       "...                                  ...                  ...   \n",
       "2023-04-30 19:00:00             1.091463             0.574468   \n",
       "2023-04-30 20:00:00             0.902439             0.734043   \n",
       "2023-04-30 21:00:00             0.792683             0.861702   \n",
       "2023-04-30 22:00:00             0.695122             0.840426   \n",
       "2023-04-30 23:00:00             0.585366             0.840426   \n",
       "\n",
       "                     ceiling_height_agl:m  wind_speed_10m:ms  \\\n",
       "date_forecast                                                  \n",
       "2019-06-02 22:00:00             -0.179721           0.360825   \n",
       "2019-06-02 23:00:00             -0.191187           0.257732   \n",
       "2019-06-03 00:00:00             -0.228290           0.134021   \n",
       "2019-06-03 01:00:00             -0.310293           0.000000   \n",
       "2019-06-03 02:00:00             -0.392332          -0.072165   \n",
       "...                                   ...                ...   \n",
       "2023-04-30 19:00:00             -0.195767           1.010309   \n",
       "2023-04-30 20:00:00             -0.169917           0.793814   \n",
       "2023-04-30 21:00:00             -0.189187           0.711340   \n",
       "2023-04-30 22:00:00             -0.289785           0.567010   \n",
       "2023-04-30 23:00:00             -0.209724           0.422680   \n",
       "\n",
       "                     cloud_base_agl:m  pv_measurement  \n",
       "date_forecast                                          \n",
       "2019-06-02 22:00:00          0.298824            0.00  \n",
       "2019-06-02 23:00:00          0.275195            0.00  \n",
       "2019-06-03 00:00:00          0.198738            0.00  \n",
       "2019-06-03 01:00:00          0.029759            0.00  \n",
       "2019-06-03 02:00:00         -0.139296           19.36  \n",
       "...                               ...             ...  \n",
       "2023-04-30 19:00:00         -0.417586            9.02  \n",
       "2023-04-30 20:00:00         -0.415352            0.00  \n",
       "2023-04-30 21:00:00         -0.414174            0.00  \n",
       "2023-04-30 22:00:00         -0.426600            0.00  \n",
       "2023-04-30 23:00:00         -0.427355            0.00  \n",
       "\n",
       "[34085 rows x 11 columns]"
      ]
     },
     "execution_count": 33,
     "metadata": {},
     "output_type": "execute_result"
    }
   ],
   "source": [
    "data"
   ]
  },
  {
   "cell_type": "code",
   "execution_count": 21,
   "id": "488da66a",
   "metadata": {},
   "outputs": [
    {
     "name": "stdout",
     "output_type": "stream",
     "text": [
      "Fitting 5 folds for each of 10 candidates, totalling 50 fits\n"
     ]
    },
    {
     "ename": "KeyboardInterrupt",
     "evalue": "",
     "output_type": "error",
     "traceback": [
      "\u001b[1;31m---------------------------------------------------------------------------\u001b[0m",
      "\u001b[1;31mKeyboardInterrupt\u001b[0m                         Traceback (most recent call last)",
      "Cell \u001b[1;32mIn[21], line 24\u001b[0m\n\u001b[0;32m     21\u001b[0m grid_search \u001b[38;5;241m=\u001b[39m RandomizedSearchCV(rf, param_grid, cv\u001b[38;5;241m=\u001b[39mtscv, scoring\u001b[38;5;241m=\u001b[39m\u001b[38;5;124m'\u001b[39m\u001b[38;5;124mneg_mean_absolute_error\u001b[39m\u001b[38;5;124m'\u001b[39m, n_jobs \u001b[38;5;241m=\u001b[39m \u001b[38;5;241m-\u001b[39m\u001b[38;5;241m1\u001b[39m, verbose \u001b[38;5;241m=\u001b[39m \u001b[38;5;241m3\u001b[39m)\n\u001b[0;32m     23\u001b[0m \u001b[38;5;66;03m# Esegui la ricerca degli iperparametri ottimali\u001b[39;00m\n\u001b[1;32m---> 24\u001b[0m grid_search\u001b[38;5;241m.\u001b[39mfit(X, y)\n\u001b[0;32m     26\u001b[0m \u001b[38;5;66;03m# Ottieni i migliori iperparametri trovati\u001b[39;00m\n\u001b[0;32m     27\u001b[0m best_params \u001b[38;5;241m=\u001b[39m grid_search\u001b[38;5;241m.\u001b[39mbest_params_\n",
      "File \u001b[1;32m~\\anaconda3\\Lib\\site-packages\\sklearn\\base.py:1151\u001b[0m, in \u001b[0;36m_fit_context.<locals>.decorator.<locals>.wrapper\u001b[1;34m(estimator, *args, **kwargs)\u001b[0m\n\u001b[0;32m   1144\u001b[0m     estimator\u001b[38;5;241m.\u001b[39m_validate_params()\n\u001b[0;32m   1146\u001b[0m \u001b[38;5;28;01mwith\u001b[39;00m config_context(\n\u001b[0;32m   1147\u001b[0m     skip_parameter_validation\u001b[38;5;241m=\u001b[39m(\n\u001b[0;32m   1148\u001b[0m         prefer_skip_nested_validation \u001b[38;5;129;01mor\u001b[39;00m global_skip_validation\n\u001b[0;32m   1149\u001b[0m     )\n\u001b[0;32m   1150\u001b[0m ):\n\u001b[1;32m-> 1151\u001b[0m     \u001b[38;5;28;01mreturn\u001b[39;00m fit_method(estimator, \u001b[38;5;241m*\u001b[39margs, \u001b[38;5;241m*\u001b[39m\u001b[38;5;241m*\u001b[39mkwargs)\n",
      "File \u001b[1;32m~\\anaconda3\\Lib\\site-packages\\sklearn\\model_selection\\_search.py:898\u001b[0m, in \u001b[0;36mBaseSearchCV.fit\u001b[1;34m(self, X, y, groups, **fit_params)\u001b[0m\n\u001b[0;32m    892\u001b[0m     results \u001b[38;5;241m=\u001b[39m \u001b[38;5;28mself\u001b[39m\u001b[38;5;241m.\u001b[39m_format_results(\n\u001b[0;32m    893\u001b[0m         all_candidate_params, n_splits, all_out, all_more_results\n\u001b[0;32m    894\u001b[0m     )\n\u001b[0;32m    896\u001b[0m     \u001b[38;5;28;01mreturn\u001b[39;00m results\n\u001b[1;32m--> 898\u001b[0m \u001b[38;5;28mself\u001b[39m\u001b[38;5;241m.\u001b[39m_run_search(evaluate_candidates)\n\u001b[0;32m    900\u001b[0m \u001b[38;5;66;03m# multimetric is determined here because in the case of a callable\u001b[39;00m\n\u001b[0;32m    901\u001b[0m \u001b[38;5;66;03m# self.scoring the return type is only known after calling\u001b[39;00m\n\u001b[0;32m    902\u001b[0m first_test_score \u001b[38;5;241m=\u001b[39m all_out[\u001b[38;5;241m0\u001b[39m][\u001b[38;5;124m\"\u001b[39m\u001b[38;5;124mtest_scores\u001b[39m\u001b[38;5;124m\"\u001b[39m]\n",
      "File \u001b[1;32m~\\anaconda3\\Lib\\site-packages\\sklearn\\model_selection\\_search.py:1806\u001b[0m, in \u001b[0;36mRandomizedSearchCV._run_search\u001b[1;34m(self, evaluate_candidates)\u001b[0m\n\u001b[0;32m   1804\u001b[0m \u001b[38;5;28;01mdef\u001b[39;00m \u001b[38;5;21m_run_search\u001b[39m(\u001b[38;5;28mself\u001b[39m, evaluate_candidates):\n\u001b[0;32m   1805\u001b[0m \u001b[38;5;250m    \u001b[39m\u001b[38;5;124;03m\"\"\"Search n_iter candidates from param_distributions\"\"\"\u001b[39;00m\n\u001b[1;32m-> 1806\u001b[0m     evaluate_candidates(\n\u001b[0;32m   1807\u001b[0m         ParameterSampler(\n\u001b[0;32m   1808\u001b[0m             \u001b[38;5;28mself\u001b[39m\u001b[38;5;241m.\u001b[39mparam_distributions, \u001b[38;5;28mself\u001b[39m\u001b[38;5;241m.\u001b[39mn_iter, random_state\u001b[38;5;241m=\u001b[39m\u001b[38;5;28mself\u001b[39m\u001b[38;5;241m.\u001b[39mrandom_state\n\u001b[0;32m   1809\u001b[0m         )\n\u001b[0;32m   1810\u001b[0m     )\n",
      "File \u001b[1;32m~\\anaconda3\\Lib\\site-packages\\sklearn\\model_selection\\_search.py:845\u001b[0m, in \u001b[0;36mBaseSearchCV.fit.<locals>.evaluate_candidates\u001b[1;34m(candidate_params, cv, more_results)\u001b[0m\n\u001b[0;32m    837\u001b[0m \u001b[38;5;28;01mif\u001b[39;00m \u001b[38;5;28mself\u001b[39m\u001b[38;5;241m.\u001b[39mverbose \u001b[38;5;241m>\u001b[39m \u001b[38;5;241m0\u001b[39m:\n\u001b[0;32m    838\u001b[0m     \u001b[38;5;28mprint\u001b[39m(\n\u001b[0;32m    839\u001b[0m         \u001b[38;5;124m\"\u001b[39m\u001b[38;5;124mFitting \u001b[39m\u001b[38;5;132;01m{0}\u001b[39;00m\u001b[38;5;124m folds for each of \u001b[39m\u001b[38;5;132;01m{1}\u001b[39;00m\u001b[38;5;124m candidates,\u001b[39m\u001b[38;5;124m\"\u001b[39m\n\u001b[0;32m    840\u001b[0m         \u001b[38;5;124m\"\u001b[39m\u001b[38;5;124m totalling \u001b[39m\u001b[38;5;132;01m{2}\u001b[39;00m\u001b[38;5;124m fits\u001b[39m\u001b[38;5;124m\"\u001b[39m\u001b[38;5;241m.\u001b[39mformat(\n\u001b[0;32m    841\u001b[0m             n_splits, n_candidates, n_candidates \u001b[38;5;241m*\u001b[39m n_splits\n\u001b[0;32m    842\u001b[0m         )\n\u001b[0;32m    843\u001b[0m     )\n\u001b[1;32m--> 845\u001b[0m out \u001b[38;5;241m=\u001b[39m parallel(\n\u001b[0;32m    846\u001b[0m     delayed(_fit_and_score)(\n\u001b[0;32m    847\u001b[0m         clone(base_estimator),\n\u001b[0;32m    848\u001b[0m         X,\n\u001b[0;32m    849\u001b[0m         y,\n\u001b[0;32m    850\u001b[0m         train\u001b[38;5;241m=\u001b[39mtrain,\n\u001b[0;32m    851\u001b[0m         test\u001b[38;5;241m=\u001b[39mtest,\n\u001b[0;32m    852\u001b[0m         parameters\u001b[38;5;241m=\u001b[39mparameters,\n\u001b[0;32m    853\u001b[0m         split_progress\u001b[38;5;241m=\u001b[39m(split_idx, n_splits),\n\u001b[0;32m    854\u001b[0m         candidate_progress\u001b[38;5;241m=\u001b[39m(cand_idx, n_candidates),\n\u001b[0;32m    855\u001b[0m         \u001b[38;5;241m*\u001b[39m\u001b[38;5;241m*\u001b[39mfit_and_score_kwargs,\n\u001b[0;32m    856\u001b[0m     )\n\u001b[0;32m    857\u001b[0m     \u001b[38;5;28;01mfor\u001b[39;00m (cand_idx, parameters), (split_idx, (train, test)) \u001b[38;5;129;01min\u001b[39;00m product(\n\u001b[0;32m    858\u001b[0m         \u001b[38;5;28menumerate\u001b[39m(candidate_params), \u001b[38;5;28menumerate\u001b[39m(cv\u001b[38;5;241m.\u001b[39msplit(X, y, groups))\n\u001b[0;32m    859\u001b[0m     )\n\u001b[0;32m    860\u001b[0m )\n\u001b[0;32m    862\u001b[0m \u001b[38;5;28;01mif\u001b[39;00m \u001b[38;5;28mlen\u001b[39m(out) \u001b[38;5;241m<\u001b[39m \u001b[38;5;241m1\u001b[39m:\n\u001b[0;32m    863\u001b[0m     \u001b[38;5;28;01mraise\u001b[39;00m \u001b[38;5;167;01mValueError\u001b[39;00m(\n\u001b[0;32m    864\u001b[0m         \u001b[38;5;124m\"\u001b[39m\u001b[38;5;124mNo fits were performed. \u001b[39m\u001b[38;5;124m\"\u001b[39m\n\u001b[0;32m    865\u001b[0m         \u001b[38;5;124m\"\u001b[39m\u001b[38;5;124mWas the CV iterator empty? \u001b[39m\u001b[38;5;124m\"\u001b[39m\n\u001b[0;32m    866\u001b[0m         \u001b[38;5;124m\"\u001b[39m\u001b[38;5;124mWere there no candidates?\u001b[39m\u001b[38;5;124m\"\u001b[39m\n\u001b[0;32m    867\u001b[0m     )\n",
      "File \u001b[1;32m~\\anaconda3\\Lib\\site-packages\\sklearn\\utils\\parallel.py:65\u001b[0m, in \u001b[0;36mParallel.__call__\u001b[1;34m(self, iterable)\u001b[0m\n\u001b[0;32m     60\u001b[0m config \u001b[38;5;241m=\u001b[39m get_config()\n\u001b[0;32m     61\u001b[0m iterable_with_config \u001b[38;5;241m=\u001b[39m (\n\u001b[0;32m     62\u001b[0m     (_with_config(delayed_func, config), args, kwargs)\n\u001b[0;32m     63\u001b[0m     \u001b[38;5;28;01mfor\u001b[39;00m delayed_func, args, kwargs \u001b[38;5;129;01min\u001b[39;00m iterable\n\u001b[0;32m     64\u001b[0m )\n\u001b[1;32m---> 65\u001b[0m \u001b[38;5;28;01mreturn\u001b[39;00m \u001b[38;5;28msuper\u001b[39m()\u001b[38;5;241m.\u001b[39m\u001b[38;5;21m__call__\u001b[39m(iterable_with_config)\n",
      "File \u001b[1;32m~\\anaconda3\\Lib\\site-packages\\joblib\\parallel.py:1098\u001b[0m, in \u001b[0;36mParallel.__call__\u001b[1;34m(self, iterable)\u001b[0m\n\u001b[0;32m   1095\u001b[0m     \u001b[38;5;28mself\u001b[39m\u001b[38;5;241m.\u001b[39m_iterating \u001b[38;5;241m=\u001b[39m \u001b[38;5;28;01mFalse\u001b[39;00m\n\u001b[0;32m   1097\u001b[0m \u001b[38;5;28;01mwith\u001b[39;00m \u001b[38;5;28mself\u001b[39m\u001b[38;5;241m.\u001b[39m_backend\u001b[38;5;241m.\u001b[39mretrieval_context():\n\u001b[1;32m-> 1098\u001b[0m     \u001b[38;5;28mself\u001b[39m\u001b[38;5;241m.\u001b[39mretrieve()\n\u001b[0;32m   1099\u001b[0m \u001b[38;5;66;03m# Make sure that we get a last message telling us we are done\u001b[39;00m\n\u001b[0;32m   1100\u001b[0m elapsed_time \u001b[38;5;241m=\u001b[39m time\u001b[38;5;241m.\u001b[39mtime() \u001b[38;5;241m-\u001b[39m \u001b[38;5;28mself\u001b[39m\u001b[38;5;241m.\u001b[39m_start_time\n",
      "File \u001b[1;32m~\\anaconda3\\Lib\\site-packages\\joblib\\parallel.py:975\u001b[0m, in \u001b[0;36mParallel.retrieve\u001b[1;34m(self)\u001b[0m\n\u001b[0;32m    973\u001b[0m \u001b[38;5;28;01mtry\u001b[39;00m:\n\u001b[0;32m    974\u001b[0m     \u001b[38;5;28;01mif\u001b[39;00m \u001b[38;5;28mgetattr\u001b[39m(\u001b[38;5;28mself\u001b[39m\u001b[38;5;241m.\u001b[39m_backend, \u001b[38;5;124m'\u001b[39m\u001b[38;5;124msupports_timeout\u001b[39m\u001b[38;5;124m'\u001b[39m, \u001b[38;5;28;01mFalse\u001b[39;00m):\n\u001b[1;32m--> 975\u001b[0m         \u001b[38;5;28mself\u001b[39m\u001b[38;5;241m.\u001b[39m_output\u001b[38;5;241m.\u001b[39mextend(job\u001b[38;5;241m.\u001b[39mget(timeout\u001b[38;5;241m=\u001b[39m\u001b[38;5;28mself\u001b[39m\u001b[38;5;241m.\u001b[39mtimeout))\n\u001b[0;32m    976\u001b[0m     \u001b[38;5;28;01melse\u001b[39;00m:\n\u001b[0;32m    977\u001b[0m         \u001b[38;5;28mself\u001b[39m\u001b[38;5;241m.\u001b[39m_output\u001b[38;5;241m.\u001b[39mextend(job\u001b[38;5;241m.\u001b[39mget())\n",
      "File \u001b[1;32m~\\anaconda3\\Lib\\site-packages\\joblib\\_parallel_backends.py:567\u001b[0m, in \u001b[0;36mLokyBackend.wrap_future_result\u001b[1;34m(future, timeout)\u001b[0m\n\u001b[0;32m    564\u001b[0m \u001b[38;5;250m\u001b[39m\u001b[38;5;124;03m\"\"\"Wrapper for Future.result to implement the same behaviour as\u001b[39;00m\n\u001b[0;32m    565\u001b[0m \u001b[38;5;124;03mAsyncResults.get from multiprocessing.\"\"\"\u001b[39;00m\n\u001b[0;32m    566\u001b[0m \u001b[38;5;28;01mtry\u001b[39;00m:\n\u001b[1;32m--> 567\u001b[0m     \u001b[38;5;28;01mreturn\u001b[39;00m future\u001b[38;5;241m.\u001b[39mresult(timeout\u001b[38;5;241m=\u001b[39mtimeout)\n\u001b[0;32m    568\u001b[0m \u001b[38;5;28;01mexcept\u001b[39;00m CfTimeoutError \u001b[38;5;28;01mas\u001b[39;00m e:\n\u001b[0;32m    569\u001b[0m     \u001b[38;5;28;01mraise\u001b[39;00m \u001b[38;5;167;01mTimeoutError\u001b[39;00m \u001b[38;5;28;01mfrom\u001b[39;00m \u001b[38;5;21;01me\u001b[39;00m\n",
      "File \u001b[1;32m~\\anaconda3\\Lib\\concurrent\\futures\\_base.py:451\u001b[0m, in \u001b[0;36mFuture.result\u001b[1;34m(self, timeout)\u001b[0m\n\u001b[0;32m    448\u001b[0m \u001b[38;5;28;01melif\u001b[39;00m \u001b[38;5;28mself\u001b[39m\u001b[38;5;241m.\u001b[39m_state \u001b[38;5;241m==\u001b[39m FINISHED:\n\u001b[0;32m    449\u001b[0m     \u001b[38;5;28;01mreturn\u001b[39;00m \u001b[38;5;28mself\u001b[39m\u001b[38;5;241m.\u001b[39m__get_result()\n\u001b[1;32m--> 451\u001b[0m \u001b[38;5;28mself\u001b[39m\u001b[38;5;241m.\u001b[39m_condition\u001b[38;5;241m.\u001b[39mwait(timeout)\n\u001b[0;32m    453\u001b[0m \u001b[38;5;28;01mif\u001b[39;00m \u001b[38;5;28mself\u001b[39m\u001b[38;5;241m.\u001b[39m_state \u001b[38;5;129;01min\u001b[39;00m [CANCELLED, CANCELLED_AND_NOTIFIED]:\n\u001b[0;32m    454\u001b[0m     \u001b[38;5;28;01mraise\u001b[39;00m CancelledError()\n",
      "File \u001b[1;32m~\\anaconda3\\Lib\\threading.py:320\u001b[0m, in \u001b[0;36mCondition.wait\u001b[1;34m(self, timeout)\u001b[0m\n\u001b[0;32m    318\u001b[0m \u001b[38;5;28;01mtry\u001b[39;00m:    \u001b[38;5;66;03m# restore state no matter what (e.g., KeyboardInterrupt)\u001b[39;00m\n\u001b[0;32m    319\u001b[0m     \u001b[38;5;28;01mif\u001b[39;00m timeout \u001b[38;5;129;01mis\u001b[39;00m \u001b[38;5;28;01mNone\u001b[39;00m:\n\u001b[1;32m--> 320\u001b[0m         waiter\u001b[38;5;241m.\u001b[39macquire()\n\u001b[0;32m    321\u001b[0m         gotit \u001b[38;5;241m=\u001b[39m \u001b[38;5;28;01mTrue\u001b[39;00m\n\u001b[0;32m    322\u001b[0m     \u001b[38;5;28;01melse\u001b[39;00m:\n",
      "\u001b[1;31mKeyboardInterrupt\u001b[0m: "
     ]
    }
   ],
   "source": [
    "from sklearn.ensemble import RandomForestRegressor\n",
    "from sklearn.model_selection import RandomizedSearchCV\n",
    "from sklearn.datasets import make_regression\n",
    "\n",
    "# Genera un dataset di esempio (sostituisci con i tuoi dati)\n",
    "X, y = data[feature_test], data[target]\n",
    "\n",
    "# Definisci una lista di valori da testare per ciascun iperparametro\n",
    "param_grid = {\n",
    "    'n_estimators': [10, 50, 100, 200],\n",
    "    'max_depth': [None, 10, 20, 30],\n",
    "    'min_samples_split': [2, 5, 10],\n",
    "    'min_samples_leaf': [1, 2, 4],\n",
    "    'n_jobs' : [-1],\n",
    "}\n",
    "\n",
    "# Inizializza il modello Random Forest\n",
    "rf = RandomForestRegressor()\n",
    "\n",
    "# Inizializza GridSearchCV con il modello, il parametro da ottimizzare e la cross-validation\n",
    "grid_search = RandomizedSearchCV(rf, param_grid, cv=tscv, scoring='neg_mean_absolute_error', n_jobs = -1, verbose = 3)\n",
    "\n",
    "# Esegui la ricerca degli iperparametri ottimali\n",
    "grid_search.fit(X, y)\n",
    "\n",
    "# Ottieni i migliori iperparametri trovati\n",
    "best_params = grid_search.best_params_\n",
    "best_mae = -grid_search.best_score_  # Negativo MAE, quindi invertiamo il segno\n",
    "\n",
    "print(\"Migliori iperparametri:\", best_params)\n",
    "print(\"Miglior MAE:\", best_mae)\n"
   ]
  },
  {
   "cell_type": "code",
   "execution_count": null,
   "id": "e39e62c4-d842-4e6e-a67f-da452a79e678",
   "metadata": {},
   "outputs": [],
   "source": [
    "param = {'n_jobs':-1,'n_estimators':100, 'random_state':42}"
   ]
  },
  {
   "cell_type": "code",
   "execution_count": null,
   "id": "7a5d7bb0-91cb-4cc5-862d-025e403cf6c9",
   "metadata": {},
   "outputs": [],
   "source": [
    "model_A = RandomForestRegressor(**param)"
   ]
  },
  {
   "cell_type": "code",
   "execution_count": null,
   "id": "88cb0791-4848-49f6-bbc3-03518bc4f94d",
   "metadata": {},
   "outputs": [],
   "source": [
    "X_train = data.drop(columns = 'pv_measurement')\n",
    "y_train = data['pv_measurement']"
   ]
  },
  {
   "cell_type": "code",
   "execution_count": null,
   "id": "871b3461-0ce0-4353-bf3f-207d6ed0c79f",
   "metadata": {},
   "outputs": [],
   "source": [
    "model_A.fit(X_train,y_train)\n",
    "df_test_A = df_test_A[feature_test]\n",
    "y_pred_A = model_A.predict(df_test_A)"
   ]
  },
  {
   "cell_type": "code",
   "execution_count": null,
   "id": "9e6ab7b3-fdcb-492b-bac4-890a12480f9d",
   "metadata": {},
   "outputs": [],
   "source": [
    "plt.plot(range(len(y_pred_A)), y_pred_A, label='Predizione', color='red', linestyle='-')\n",
    "\n",
    "# Aggiungi una legenda\n",
    "plt.legend()\n",
    "\n",
    "# Aggiungi etichette agli assi\n",
    "plt.ylabel('Valori y')\n",
    "\n",
    "# Titolo del grafico\n",
    "plt.title('Grafico di Predizione')\n",
    "\n",
    "# Mostra il grafico\n",
    "plt.show()"
   ]
  },
  {
   "cell_type": "code",
   "execution_count": null,
   "id": "006f3c40-6b7b-41a6-bf5d-decb0321db8b",
   "metadata": {},
   "outputs": [],
   "source": [
    "df = pd.DataFrame({'Prediction':y_pred_A})"
   ]
  },
  {
   "cell_type": "code",
   "execution_count": null,
   "id": "c340aac0-1709-4090-a725-e58f968cff11",
   "metadata": {},
   "outputs": [],
   "source": [
    "threshold = 0.05\n",
    "df['Prediction'] = df['Prediction'].apply(lambda x: 0 if x < threshold else x)"
   ]
  },
  {
   "cell_type": "code",
   "execution_count": null,
   "id": "33dac465-12c8-4234-9328-0639f338f50e",
   "metadata": {},
   "outputs": [],
   "source": [
    "df.to_csv('A.csv')"
   ]
  },
  {
   "cell_type": "code",
   "execution_count": null,
   "id": "3e111b97",
   "metadata": {},
   "outputs": [],
   "source": [
    "df.head(50)"
   ]
  },
  {
   "cell_type": "code",
   "execution_count": null,
   "id": "682b18d4",
   "metadata": {},
   "outputs": [],
   "source": [
    "target = 'pv_measurement'"
   ]
  }
 ],
 "metadata": {
  "environment": {
   "kernel": "python3",
   "name": "common-cpu.m112",
   "type": "gcloud",
   "uri": "gcr.io/deeplearning-platform-release/base-cpu:m112"
  },
  "kernelspec": {
   "display_name": "Python 3 (ipykernel)",
   "language": "python",
   "name": "python3"
  },
  "language_info": {
   "codemirror_mode": {
    "name": "ipython",
    "version": 3
   },
   "file_extension": ".py",
   "mimetype": "text/x-python",
   "name": "python",
   "nbconvert_exporter": "python",
   "pygments_lexer": "ipython3",
   "version": "3.11.4"
  }
 },
 "nbformat": 4,
 "nbformat_minor": 5
}
