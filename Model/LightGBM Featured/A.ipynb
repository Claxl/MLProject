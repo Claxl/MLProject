{
 "cells": [
  {
   "cell_type": "code",
   "execution_count": 62,
   "id": "e829b2a1",
   "metadata": {},
   "outputs": [],
   "source": [
    "import pandas as pd\n",
    "import numpy as np\n",
    "import matplotlib.pyplot as plt"
   ]
  },
  {
   "cell_type": "code",
   "execution_count": 90,
   "id": "ec4afa2f",
   "metadata": {},
   "outputs": [],
   "source": [
    "df_train_est_A = pd.read_csv('train_est_A.csv')\n",
    "df_train_obs_A = pd.read_csv('train_obs_A.csv')\n",
    "df_test_A = pd.read_csv('X_test_A.csv')\n",
    "df_train_est_A = df_train_est_A.rename(columns={'Unnamed: 0': 'date_forecast'})\n",
    "\n",
    "df_train_obs_A = df_train_obs_A.rename(columns={'Unnamed: 0': 'date_forecast'})\n",
    "\n",
    "df_test_A = df_test_A.rename(columns={'Unnamed: 0': 'date_forecast'})\n",
    "\n",
    "df_train_est_A.set_index('date_forecast', inplace=True)\n",
    "df_train_obs_A.set_index('date_forecast', inplace=True)\n",
    "df_test_A.set_index('date_forecast', inplace=True)\n",
    "df_train_obs_A.index = pd.to_datetime(df_train_obs_A.index)\n",
    "df_train_obs_A.index = pd.to_datetime(df_train_obs_A.index)\n"
   ]
  },
  {
   "cell_type": "code",
   "execution_count": 91,
   "id": "26c3272a",
   "metadata": {},
   "outputs": [],
   "source": [
    "df = pd.concat([df_train_obs_A,df_train_est_A])\n",
    "df = df.drop(columns = 'date_calc', axis = 1)\n",
    "df_test_A = df_test_A.drop(columns = 'date_calc', axis = 1)\n"
   ]
  },
  {
   "cell_type": "code",
   "execution_count": 92,
   "id": "0922e90b",
   "metadata": {},
   "outputs": [],
   "source": [
    "import re\n",
    "df = df.rename(columns = lambda x:re.sub('[^A-Za-z0-9_]+', '', x))\n",
    "df_test_A = df_test_A.rename(columns = lambda x:re.sub('[^A-Za-z0-9_]+', '', x))"
   ]
  },
  {
   "cell_type": "code",
   "execution_count": 93,
   "id": "0cf791e4",
   "metadata": {},
   "outputs": [
    {
     "data": {
      "text/html": [
       "<div>\n",
       "<style scoped>\n",
       "    .dataframe tbody tr th:only-of-type {\n",
       "        vertical-align: middle;\n",
       "    }\n",
       "\n",
       "    .dataframe tbody tr th {\n",
       "        vertical-align: top;\n",
       "    }\n",
       "\n",
       "    .dataframe thead th {\n",
       "        text-align: right;\n",
       "    }\n",
       "</style>\n",
       "<table border=\"1\" class=\"dataframe\">\n",
       "  <thead>\n",
       "    <tr style=\"text-align: right;\">\n",
       "      <th></th>\n",
       "      <th>absolute_humidity_2mgm3</th>\n",
       "      <th>air_density_2mkgm3</th>\n",
       "      <th>ceiling_height_aglm</th>\n",
       "      <th>clear_sky_energy_1hJ</th>\n",
       "      <th>clear_sky_radW</th>\n",
       "      <th>cloud_base_aglm</th>\n",
       "      <th>dew_or_rimeidx</th>\n",
       "      <th>dew_point_2mK</th>\n",
       "      <th>diffuse_radW</th>\n",
       "      <th>diffuse_rad_1hJ</th>\n",
       "      <th>...</th>\n",
       "      <th>sun_elevationd</th>\n",
       "      <th>super_cooled_liquid_waterkgm2</th>\n",
       "      <th>t_1000hPaK</th>\n",
       "      <th>total_cloud_coverp</th>\n",
       "      <th>visibilitym</th>\n",
       "      <th>wind_speed_10mms</th>\n",
       "      <th>wind_speed_u_10mms</th>\n",
       "      <th>wind_speed_v_10mms</th>\n",
       "      <th>wind_speed_w_1000hPams</th>\n",
       "      <th>pv_measurement</th>\n",
       "    </tr>\n",
       "    <tr>\n",
       "      <th>date_forecast</th>\n",
       "      <th></th>\n",
       "      <th></th>\n",
       "      <th></th>\n",
       "      <th></th>\n",
       "      <th></th>\n",
       "      <th></th>\n",
       "      <th></th>\n",
       "      <th></th>\n",
       "      <th></th>\n",
       "      <th></th>\n",
       "      <th></th>\n",
       "      <th></th>\n",
       "      <th></th>\n",
       "      <th></th>\n",
       "      <th></th>\n",
       "      <th></th>\n",
       "      <th></th>\n",
       "      <th></th>\n",
       "      <th></th>\n",
       "      <th></th>\n",
       "      <th></th>\n",
       "    </tr>\n",
       "  </thead>\n",
       "  <tbody>\n",
       "    <tr>\n",
       "      <th>2019-06-02 22:00:00</th>\n",
       "      <td>7.700</td>\n",
       "      <td>1.22825</td>\n",
       "      <td>1728.950</td>\n",
       "      <td>0.000</td>\n",
       "      <td>0.000</td>\n",
       "      <td>1728.950</td>\n",
       "      <td>0.0</td>\n",
       "      <td>280.300</td>\n",
       "      <td>0.000</td>\n",
       "      <td>0.000</td>\n",
       "      <td>...</td>\n",
       "      <td>-3.77425</td>\n",
       "      <td>0.000</td>\n",
       "      <td>286.22500</td>\n",
       "      <td>100.000</td>\n",
       "      <td>40386.477</td>\n",
       "      <td>3.600</td>\n",
       "      <td>-3.575</td>\n",
       "      <td>-0.500</td>\n",
       "      <td>0.0</td>\n",
       "      <td>0.00</td>\n",
       "    </tr>\n",
       "    <tr>\n",
       "      <th>2019-06-02 23:00:00</th>\n",
       "      <td>7.700</td>\n",
       "      <td>1.22350</td>\n",
       "      <td>1689.825</td>\n",
       "      <td>0.000</td>\n",
       "      <td>0.000</td>\n",
       "      <td>1689.825</td>\n",
       "      <td>0.0</td>\n",
       "      <td>280.300</td>\n",
       "      <td>0.000</td>\n",
       "      <td>0.000</td>\n",
       "      <td>...</td>\n",
       "      <td>-4.35725</td>\n",
       "      <td>0.000</td>\n",
       "      <td>286.90000</td>\n",
       "      <td>100.000</td>\n",
       "      <td>33770.650</td>\n",
       "      <td>3.350</td>\n",
       "      <td>-3.350</td>\n",
       "      <td>0.275</td>\n",
       "      <td>0.0</td>\n",
       "      <td>0.00</td>\n",
       "    </tr>\n",
       "    <tr>\n",
       "      <th>2019-06-03 00:00:00</th>\n",
       "      <td>7.875</td>\n",
       "      <td>1.21975</td>\n",
       "      <td>1563.225</td>\n",
       "      <td>0.000</td>\n",
       "      <td>0.000</td>\n",
       "      <td>1563.225</td>\n",
       "      <td>0.0</td>\n",
       "      <td>280.650</td>\n",
       "      <td>0.000</td>\n",
       "      <td>0.000</td>\n",
       "      <td>...</td>\n",
       "      <td>-3.30950</td>\n",
       "      <td>0.000</td>\n",
       "      <td>286.95000</td>\n",
       "      <td>100.000</td>\n",
       "      <td>13595.500</td>\n",
       "      <td>3.050</td>\n",
       "      <td>-2.950</td>\n",
       "      <td>0.750</td>\n",
       "      <td>0.0</td>\n",
       "      <td>0.00</td>\n",
       "    </tr>\n",
       "    <tr>\n",
       "      <th>2019-06-03 01:00:00</th>\n",
       "      <td>8.425</td>\n",
       "      <td>1.21800</td>\n",
       "      <td>1283.425</td>\n",
       "      <td>208.650</td>\n",
       "      <td>0.750</td>\n",
       "      <td>1283.425</td>\n",
       "      <td>0.0</td>\n",
       "      <td>281.675</td>\n",
       "      <td>0.300</td>\n",
       "      <td>526.775</td>\n",
       "      <td>...</td>\n",
       "      <td>-0.82250</td>\n",
       "      <td>0.000</td>\n",
       "      <td>286.75000</td>\n",
       "      <td>100.000</td>\n",
       "      <td>2321.850</td>\n",
       "      <td>2.725</td>\n",
       "      <td>-2.600</td>\n",
       "      <td>0.875</td>\n",
       "      <td>0.0</td>\n",
       "      <td>0.00</td>\n",
       "    </tr>\n",
       "    <tr>\n",
       "      <th>2019-06-03 02:00:00</th>\n",
       "      <td>8.950</td>\n",
       "      <td>1.21800</td>\n",
       "      <td>1003.500</td>\n",
       "      <td>32468.150</td>\n",
       "      <td>23.100</td>\n",
       "      <td>1003.500</td>\n",
       "      <td>0.0</td>\n",
       "      <td>282.500</td>\n",
       "      <td>11.975</td>\n",
       "      <td>22068.950</td>\n",
       "      <td>...</td>\n",
       "      <td>3.05125</td>\n",
       "      <td>0.000</td>\n",
       "      <td>286.45000</td>\n",
       "      <td>99.225</td>\n",
       "      <td>11634.800</td>\n",
       "      <td>2.550</td>\n",
       "      <td>-2.350</td>\n",
       "      <td>0.925</td>\n",
       "      <td>0.0</td>\n",
       "      <td>19.36</td>\n",
       "    </tr>\n",
       "    <tr>\n",
       "      <th>...</th>\n",
       "      <td>...</td>\n",
       "      <td>...</td>\n",
       "      <td>...</td>\n",
       "      <td>...</td>\n",
       "      <td>...</td>\n",
       "      <td>...</td>\n",
       "      <td>...</td>\n",
       "      <td>...</td>\n",
       "      <td>...</td>\n",
       "      <td>...</td>\n",
       "      <td>...</td>\n",
       "      <td>...</td>\n",
       "      <td>...</td>\n",
       "      <td>...</td>\n",
       "      <td>...</td>\n",
       "      <td>...</td>\n",
       "      <td>...</td>\n",
       "      <td>...</td>\n",
       "      <td>...</td>\n",
       "      <td>...</td>\n",
       "      <td>...</td>\n",
       "    </tr>\n",
       "    <tr>\n",
       "      <th>2023-04-30 19:00:00</th>\n",
       "      <td>4.550</td>\n",
       "      <td>1.27650</td>\n",
       "      <td>1674.200</td>\n",
       "      <td>84464.945</td>\n",
       "      <td>4.225</td>\n",
       "      <td>542.700</td>\n",
       "      <td>0.0</td>\n",
       "      <td>272.425</td>\n",
       "      <td>2.825</td>\n",
       "      <td>56431.050</td>\n",
       "      <td>...</td>\n",
       "      <td>-0.18050</td>\n",
       "      <td>0.000</td>\n",
       "      <td>275.02500</td>\n",
       "      <td>96.700</td>\n",
       "      <td>23417.074</td>\n",
       "      <td>5.175</td>\n",
       "      <td>4.800</td>\n",
       "      <td>1.925</td>\n",
       "      <td>0.0</td>\n",
       "      <td>9.02</td>\n",
       "    </tr>\n",
       "    <tr>\n",
       "      <th>2023-04-30 20:00:00</th>\n",
       "      <td>4.500</td>\n",
       "      <td>1.27975</td>\n",
       "      <td>1762.400</td>\n",
       "      <td>2270.875</td>\n",
       "      <td>0.000</td>\n",
       "      <td>546.400</td>\n",
       "      <td>0.0</td>\n",
       "      <td>272.300</td>\n",
       "      <td>0.000</td>\n",
       "      <td>5067.875</td>\n",
       "      <td>...</td>\n",
       "      <td>-5.17600</td>\n",
       "      <td>0.000</td>\n",
       "      <td>274.65002</td>\n",
       "      <td>94.525</td>\n",
       "      <td>21084.050</td>\n",
       "      <td>4.650</td>\n",
       "      <td>4.025</td>\n",
       "      <td>2.300</td>\n",
       "      <td>0.0</td>\n",
       "      <td>0.00</td>\n",
       "    </tr>\n",
       "    <tr>\n",
       "      <th>2023-04-30 21:00:00</th>\n",
       "      <td>4.500</td>\n",
       "      <td>1.28100</td>\n",
       "      <td>1696.650</td>\n",
       "      <td>0.000</td>\n",
       "      <td>0.000</td>\n",
       "      <td>548.350</td>\n",
       "      <td>0.0</td>\n",
       "      <td>272.300</td>\n",
       "      <td>0.000</td>\n",
       "      <td>0.000</td>\n",
       "      <td>...</td>\n",
       "      <td>-8.95075</td>\n",
       "      <td>0.000</td>\n",
       "      <td>274.52500</td>\n",
       "      <td>95.675</td>\n",
       "      <td>20792.500</td>\n",
       "      <td>4.450</td>\n",
       "      <td>3.575</td>\n",
       "      <td>2.600</td>\n",
       "      <td>0.0</td>\n",
       "      <td>0.00</td>\n",
       "    </tr>\n",
       "    <tr>\n",
       "      <th>2023-04-30 22:00:00</th>\n",
       "      <td>4.500</td>\n",
       "      <td>1.28100</td>\n",
       "      <td>1353.400</td>\n",
       "      <td>0.000</td>\n",
       "      <td>0.000</td>\n",
       "      <td>527.775</td>\n",
       "      <td>0.0</td>\n",
       "      <td>272.300</td>\n",
       "      <td>0.000</td>\n",
       "      <td>0.000</td>\n",
       "      <td>...</td>\n",
       "      <td>-11.23325</td>\n",
       "      <td>0.100</td>\n",
       "      <td>274.32500</td>\n",
       "      <td>98.875</td>\n",
       "      <td>14158.100</td>\n",
       "      <td>4.100</td>\n",
       "      <td>3.175</td>\n",
       "      <td>2.550</td>\n",
       "      <td>0.0</td>\n",
       "      <td>0.00</td>\n",
       "    </tr>\n",
       "    <tr>\n",
       "      <th>2023-04-30 23:00:00</th>\n",
       "      <td>4.500</td>\n",
       "      <td>1.28100</td>\n",
       "      <td>1626.575</td>\n",
       "      <td>0.000</td>\n",
       "      <td>0.000</td>\n",
       "      <td>526.525</td>\n",
       "      <td>0.0</td>\n",
       "      <td>272.275</td>\n",
       "      <td>0.000</td>\n",
       "      <td>0.000</td>\n",
       "      <td>...</td>\n",
       "      <td>-11.84150</td>\n",
       "      <td>0.075</td>\n",
       "      <td>274.22500</td>\n",
       "      <td>99.700</td>\n",
       "      <td>11872.300</td>\n",
       "      <td>3.750</td>\n",
       "      <td>2.725</td>\n",
       "      <td>2.550</td>\n",
       "      <td>0.0</td>\n",
       "      <td>0.00</td>\n",
       "    </tr>\n",
       "  </tbody>\n",
       "</table>\n",
       "<p>34085 rows × 46 columns</p>\n",
       "</div>"
      ],
      "text/plain": [
       "                     absolute_humidity_2mgm3  air_density_2mkgm3  \\\n",
       "date_forecast                                                      \n",
       "2019-06-02 22:00:00                    7.700             1.22825   \n",
       "2019-06-02 23:00:00                    7.700             1.22350   \n",
       "2019-06-03 00:00:00                    7.875             1.21975   \n",
       "2019-06-03 01:00:00                    8.425             1.21800   \n",
       "2019-06-03 02:00:00                    8.950             1.21800   \n",
       "...                                      ...                 ...   \n",
       "2023-04-30 19:00:00                    4.550             1.27650   \n",
       "2023-04-30 20:00:00                    4.500             1.27975   \n",
       "2023-04-30 21:00:00                    4.500             1.28100   \n",
       "2023-04-30 22:00:00                    4.500             1.28100   \n",
       "2023-04-30 23:00:00                    4.500             1.28100   \n",
       "\n",
       "                     ceiling_height_aglm  clear_sky_energy_1hJ  \\\n",
       "date_forecast                                                    \n",
       "2019-06-02 22:00:00             1728.950                 0.000   \n",
       "2019-06-02 23:00:00             1689.825                 0.000   \n",
       "2019-06-03 00:00:00             1563.225                 0.000   \n",
       "2019-06-03 01:00:00             1283.425               208.650   \n",
       "2019-06-03 02:00:00             1003.500             32468.150   \n",
       "...                                  ...                   ...   \n",
       "2023-04-30 19:00:00             1674.200             84464.945   \n",
       "2023-04-30 20:00:00             1762.400              2270.875   \n",
       "2023-04-30 21:00:00             1696.650                 0.000   \n",
       "2023-04-30 22:00:00             1353.400                 0.000   \n",
       "2023-04-30 23:00:00             1626.575                 0.000   \n",
       "\n",
       "                     clear_sky_radW  cloud_base_aglm  dew_or_rimeidx  \\\n",
       "date_forecast                                                          \n",
       "2019-06-02 22:00:00           0.000         1728.950             0.0   \n",
       "2019-06-02 23:00:00           0.000         1689.825             0.0   \n",
       "2019-06-03 00:00:00           0.000         1563.225             0.0   \n",
       "2019-06-03 01:00:00           0.750         1283.425             0.0   \n",
       "2019-06-03 02:00:00          23.100         1003.500             0.0   \n",
       "...                             ...              ...             ...   \n",
       "2023-04-30 19:00:00           4.225          542.700             0.0   \n",
       "2023-04-30 20:00:00           0.000          546.400             0.0   \n",
       "2023-04-30 21:00:00           0.000          548.350             0.0   \n",
       "2023-04-30 22:00:00           0.000          527.775             0.0   \n",
       "2023-04-30 23:00:00           0.000          526.525             0.0   \n",
       "\n",
       "                     dew_point_2mK  diffuse_radW  diffuse_rad_1hJ  ...  \\\n",
       "date_forecast                                                      ...   \n",
       "2019-06-02 22:00:00        280.300         0.000            0.000  ...   \n",
       "2019-06-02 23:00:00        280.300         0.000            0.000  ...   \n",
       "2019-06-03 00:00:00        280.650         0.000            0.000  ...   \n",
       "2019-06-03 01:00:00        281.675         0.300          526.775  ...   \n",
       "2019-06-03 02:00:00        282.500        11.975        22068.950  ...   \n",
       "...                            ...           ...              ...  ...   \n",
       "2023-04-30 19:00:00        272.425         2.825        56431.050  ...   \n",
       "2023-04-30 20:00:00        272.300         0.000         5067.875  ...   \n",
       "2023-04-30 21:00:00        272.300         0.000            0.000  ...   \n",
       "2023-04-30 22:00:00        272.300         0.000            0.000  ...   \n",
       "2023-04-30 23:00:00        272.275         0.000            0.000  ...   \n",
       "\n",
       "                     sun_elevationd  super_cooled_liquid_waterkgm2  \\\n",
       "date_forecast                                                        \n",
       "2019-06-02 22:00:00        -3.77425                          0.000   \n",
       "2019-06-02 23:00:00        -4.35725                          0.000   \n",
       "2019-06-03 00:00:00        -3.30950                          0.000   \n",
       "2019-06-03 01:00:00        -0.82250                          0.000   \n",
       "2019-06-03 02:00:00         3.05125                          0.000   \n",
       "...                             ...                            ...   \n",
       "2023-04-30 19:00:00        -0.18050                          0.000   \n",
       "2023-04-30 20:00:00        -5.17600                          0.000   \n",
       "2023-04-30 21:00:00        -8.95075                          0.000   \n",
       "2023-04-30 22:00:00       -11.23325                          0.100   \n",
       "2023-04-30 23:00:00       -11.84150                          0.075   \n",
       "\n",
       "                     t_1000hPaK  total_cloud_coverp  visibilitym  \\\n",
       "date_forecast                                                      \n",
       "2019-06-02 22:00:00   286.22500             100.000    40386.477   \n",
       "2019-06-02 23:00:00   286.90000             100.000    33770.650   \n",
       "2019-06-03 00:00:00   286.95000             100.000    13595.500   \n",
       "2019-06-03 01:00:00   286.75000             100.000     2321.850   \n",
       "2019-06-03 02:00:00   286.45000              99.225    11634.800   \n",
       "...                         ...                 ...          ...   \n",
       "2023-04-30 19:00:00   275.02500              96.700    23417.074   \n",
       "2023-04-30 20:00:00   274.65002              94.525    21084.050   \n",
       "2023-04-30 21:00:00   274.52500              95.675    20792.500   \n",
       "2023-04-30 22:00:00   274.32500              98.875    14158.100   \n",
       "2023-04-30 23:00:00   274.22500              99.700    11872.300   \n",
       "\n",
       "                     wind_speed_10mms  wind_speed_u_10mms  wind_speed_v_10mms  \\\n",
       "date_forecast                                                                   \n",
       "2019-06-02 22:00:00             3.600              -3.575              -0.500   \n",
       "2019-06-02 23:00:00             3.350              -3.350               0.275   \n",
       "2019-06-03 00:00:00             3.050              -2.950               0.750   \n",
       "2019-06-03 01:00:00             2.725              -2.600               0.875   \n",
       "2019-06-03 02:00:00             2.550              -2.350               0.925   \n",
       "...                               ...                 ...                 ...   \n",
       "2023-04-30 19:00:00             5.175               4.800               1.925   \n",
       "2023-04-30 20:00:00             4.650               4.025               2.300   \n",
       "2023-04-30 21:00:00             4.450               3.575               2.600   \n",
       "2023-04-30 22:00:00             4.100               3.175               2.550   \n",
       "2023-04-30 23:00:00             3.750               2.725               2.550   \n",
       "\n",
       "                     wind_speed_w_1000hPams  pv_measurement  \n",
       "date_forecast                                                \n",
       "2019-06-02 22:00:00                     0.0            0.00  \n",
       "2019-06-02 23:00:00                     0.0            0.00  \n",
       "2019-06-03 00:00:00                     0.0            0.00  \n",
       "2019-06-03 01:00:00                     0.0            0.00  \n",
       "2019-06-03 02:00:00                     0.0           19.36  \n",
       "...                                     ...             ...  \n",
       "2023-04-30 19:00:00                     0.0            9.02  \n",
       "2023-04-30 20:00:00                     0.0            0.00  \n",
       "2023-04-30 21:00:00                     0.0            0.00  \n",
       "2023-04-30 22:00:00                     0.0            0.00  \n",
       "2023-04-30 23:00:00                     0.0            0.00  \n",
       "\n",
       "[34085 rows x 46 columns]"
      ]
     },
     "execution_count": 93,
     "metadata": {},
     "output_type": "execute_result"
    }
   ],
   "source": [
    "df1 = df\n",
    "df1"
   ]
  },
  {
   "cell_type": "code",
   "execution_count": null,
   "id": "0bedbe95",
   "metadata": {},
   "outputs": [],
   "source": [
    "cols = ['ceiling_height_aglm','cloud_base_aglm','snow_densitykgm3']\n",
    "\n",
    "# Crea gli istogrammi\n",
    "for col in df.columns:\n",
    "    df_norm[col].hist()\n",
    "    plt.title(col)\n",
    "    plt.show()"
   ]
  },
  {
   "cell_type": "code",
   "execution_count": 94,
   "id": "62a95a9b",
   "metadata": {},
   "outputs": [],
   "source": [
    "df['snow_densitykgm3'].fillna(0)\n",
    "for col in df.columns:\n",
    "    df[col].fillna(df[col].mode()[0], inplace=True)\n",
    "df.fillna(0)\n",
    "df1 = df"
   ]
  },
  {
   "cell_type": "code",
   "execution_count": 76,
   "id": "22e73083",
   "metadata": {},
   "outputs": [],
   "source": [
    "from sklearn import preprocessing\n",
    "df = pd.DataFrame(preprocessing.normalize(df[scaling_columns]), columns = df[scaling_columns].columns, index = df.index)\n"
   ]
  },
  {
   "cell_type": "code",
   "execution_count": null,
   "id": "3870364b",
   "metadata": {},
   "outputs": [],
   "source": [
    "# Calcola la percentuale di outliers\n",
    "def calc_outlier_percentage(df, col, threshold=3):\n",
    "    q1 = df[col].quantile(0.25)\n",
    "    q3 = df[col].quantile(0.75)\n",
    "    iqr = q3 - q1\n",
    "    lower_bound = q1 - threshold * iqr\n",
    "    upper_bound = q3 + threshold * iqr\n",
    "    return ((df[col] < lower_bound) | (df[col] > upper_bound)).sum() / len(df)\n",
    "\n",
    "# Calcola la percentuale di outliers per ciascuna colonna\n",
    "outlier_percentages = []\n",
    "for col in df.columns:\n",
    "    outlier_percentages.append(calc_outlier_percentage(df, col))\n",
    "\n",
    "plt.bar(range(len(outlier_percentages)), outlier_percentages)\n",
    "plt.xticks(range(len(outlier_percentages)), df.columns, rotation = 90)\n",
    "plt.xlabel(\"Colonna\")\n",
    "plt.ylabel(\"Percentuale di outliers\")\n",
    "plt.title(\"Percentuale di outliers per ciascuna colonna\")\n",
    "plt.show()"
   ]
  },
  {
   "cell_type": "code",
   "execution_count": 75,
   "id": "07dff295",
   "metadata": {},
   "outputs": [
    {
     "data": {
      "text/plain": [
       "Index(['absolute_humidity_2mgm3', 'air_density_2mkgm3', 'ceiling_height_aglm',\n",
       "       'clear_sky_energy_1hJ', 'clear_sky_radW', 'cloud_base_aglm',\n",
       "       'dew_or_rimeidx', 'dew_point_2mK', 'diffuse_radW', 'diffuse_rad_1hJ',\n",
       "       'direct_radW', 'direct_rad_1hJ', 'effective_cloud_coverp', 'elevationm',\n",
       "       'fresh_snow_12hcm', 'fresh_snow_1hcm', 'fresh_snow_24hcm',\n",
       "       'fresh_snow_3hcm', 'fresh_snow_6hcm', 'is_dayidx', 'is_in_shadowidx',\n",
       "       'msl_pressurehPa', 'precip_5minmm', 'precip_type_5minidx',\n",
       "       'pressure_100mhPa', 'pressure_50mhPa', 'prob_rimep', 'rain_waterkgm2',\n",
       "       'relative_humidity_1000hPap', 'sfc_pressurehPa', 'snow_densitykgm3',\n",
       "       'snow_depthcm', 'snow_driftidx', 'snow_melt_10minmm', 'snow_waterkgm2',\n",
       "       'sun_azimuthd', 'sun_elevationd', 'super_cooled_liquid_waterkgm2',\n",
       "       't_1000hPaK', 'total_cloud_coverp', 'visibilitym', 'wind_speed_10mms',\n",
       "       'wind_speed_u_10mms', 'wind_speed_v_10mms', 'wind_speed_w_1000hPams'],\n",
       "      dtype='object')"
      ]
     },
     "execution_count": 75,
     "metadata": {},
     "output_type": "execute_result"
    }
   ],
   "source": [
    "scaling_columns = df1.drop(columns = 'pv_measurement').columns\n",
    "scaling_columns"
   ]
  },
  {
   "cell_type": "code",
   "execution_count": null,
   "id": "4fda01f9",
   "metadata": {},
   "outputs": [],
   "source": [
    "from sklearn.preprocessing import StandardScaler\n",
    "norm = StandardScaler()\n",
    "df =pd.DataFrame( norm.fit_transform(df[scaling_columns]), columns = df[scaling_columns].columns, index = df.index)\n",
    "df_test_A =pd.DataFrame( norm.fit_transform(df_test_A[scaling_columns]), columns = df_test_A[scaling_columns].columns, index = df_test_A.index)"
   ]
  },
  {
   "cell_type": "code",
   "execution_count": 95,
   "id": "aabb566a",
   "metadata": {},
   "outputs": [],
   "source": [
    "df['pv_measurement'] = df1['pv_measurement']"
   ]
  },
  {
   "cell_type": "code",
   "execution_count": 96,
   "id": "043f2294",
   "metadata": {},
   "outputs": [],
   "source": [
    "df.index = pd.to_datetime(df.index)\n",
    "df['hours'] = df.index.hour\n",
    "df['day'] = df.index.day\n",
    "df['month'] = df.index.month\n",
    "df['year'] = df.index.year\n",
    "df_test_A.index = pd.to_datetime(df_test_A.index)\n",
    "df_test_A['hours'] = df_test_A.index.hour\n",
    "df_test_A['day'] = df_test_A.index.day\n",
    "df_test_A['month'] = df_test_A.index.month\n",
    "df_test_A['year'] = df_test_A.index.year\n"
   ]
  },
  {
   "cell_type": "code",
   "execution_count": null,
   "id": "bc59abc9-2568-418c-abc8-077814c3f5b9",
   "metadata": {},
   "outputs": [],
   "source": [
    "import lightgbm as lgb\n",
    "model = lgb.LGBMRegressor(importance_type='split')"
   ]
  },
  {
   "cell_type": "code",
   "execution_count": null,
   "id": "3686b0a9-8b38-440c-b17c-57a1230718a7",
   "metadata": {},
   "outputs": [],
   "source": [
    "X_train = df.drop(columns = 'pv_measurement')\n",
    "y_train = df['pv_measurement']"
   ]
  },
  {
   "cell_type": "code",
   "execution_count": null,
   "id": "1cc57365-a844-427a-8658-674c589480d7",
   "metadata": {},
   "outputs": [],
   "source": [
    "model.fit(X_train,y_train)"
   ]
  },
  {
   "cell_type": "code",
   "execution_count": null,
   "id": "d3e23b31-17c0-4740-a8f7-83929b92e87b",
   "metadata": {},
   "outputs": [],
   "source": [
    "feature_importance = model.feature_importances_\n",
    "# Define a threshold for feature importance\n",
    "threshold = 0.0005  # Adjust this value as needed\n",
    "\n",
    "# Create a DataFrame to store feature importance\n",
    "feature_importance_df = pd.DataFrame({'Feature': X_train.columns, 'Importance': feature_importance})\n",
    "# Filter features above the threshold\n",
    "selected_features = feature_importance_df[feature_importance_df['Importance'] >= threshold]['Feature']\n",
    "\n",
    "# Create a new DataFrame with the selected features\n",
    "X_selected = X_train[selected_features]\n",
    "X_selected['pv_measurement'] = df['pv_measurement']\n"
   ]
  },
  {
   "cell_type": "code",
   "execution_count": 81,
   "id": "1856dc1e",
   "metadata": {},
   "outputs": [],
   "source": [
    "import pandas as pd\n",
    "from sklearn.model_selection import TimeSeriesSplit, cross_val_score\n",
    "from sklearn.metrics import mean_absolute_error\n",
    "from sklearn.ensemble import RandomForestRegressor\n",
    "\n",
    "# Sample DataFrame (replace this with your own dataset)\n",
    "#data = df\n",
    "\n",
    "# Define the number of splits (e.g., 5 for 80-20 train-test splits)\n",
    "n_splits = 3\n",
    "\n",
    "\n",
    "# Initialize the TimeSeriesSplit\n",
    "tscv = TimeSeriesSplit(n_splits=n_splits)\n",
    "data = data.fillna(0)\n"
   ]
  },
  {
   "cell_type": "code",
   "execution_count": 82,
   "id": "66b1b233",
   "metadata": {},
   "outputs": [],
   "source": [
    "bestMae = 190"
   ]
  },
  {
   "cell_type": "code",
   "execution_count": 86,
   "id": "7e336764",
   "metadata": {},
   "outputs": [],
   "source": [
    "def objective(trial):\n",
    "    param = {\n",
    "            'metric': 'mae', \n",
    "            'random_state': 42,\n",
    "            'n_estimators': trial.suggest_int('n_estimators',10,1000),\n",
    "            'reg_alpha': trial.suggest_loguniform('reg_alpha', 1e-3, 10.0),\n",
    "            'reg_lambda': trial.suggest_loguniform('reg_lambda', 1e-3, 10.0),\n",
    "            'colsample_bytree': trial.suggest_categorical('colsample_bytree', [0.3,0.4,0.5,0.6,0.7,0.8,0.9, 1.0]),\n",
    "            'subsample': trial.suggest_categorical('subsample', [0.4,0.5,0.6,0.7,0.8,1.0]),\n",
    "            'learning_rate': trial.suggest_loguniform('learning_rate', 1e-4,1e-1),\n",
    "            'max_depth': trial.suggest_int('max_depth', 1,50),\n",
    "            'num_leaves' : trial.suggest_int('num_leaves', 1, 1000),\n",
    "            'min_child_samples': trial.suggest_int('min_child_samples', 1, 300),\n",
    "            'cat_smooth' : trial.suggest_int('min_data_per_groups', 1, 100),\n",
    "            'verbosity': -1\n",
    "        }\n",
    "    maelist = []\n",
    "    model = lgb.LGBMRegressor(**param)\n",
    "    for train_index, test_index in tscv.split(data):\n",
    "        train_data = data.iloc[train_index]\n",
    "        test_data = data.iloc[test_index]\n",
    "\n",
    "        # Extract target variable for training and testing data\n",
    "        y_train = train_data['pv_measurement']\n",
    "        y_test = test_data['pv_measurement']\n",
    "\n",
    "        # Extract features for training and testing data\n",
    "        X_train = train_data.drop(columns = 'pv_measurement')\n",
    "        X_test = test_data.drop(columns = 'pv_measurement')\n",
    "        \n",
    "        # Train the XGBoost model\n",
    "        model.fit(X_train, y_train,eval_set=[(X_test,y_test)])\n",
    "        \n",
    "        # Make predictions on the test data\n",
    "        y_pred = model.predict(X_test)\n",
    "        \n",
    "        # Evaluate the model using Mean Absolute Error (MAE)\n",
    "        mae = mean_absolute_error(y_test, y_pred)\n",
    "        print(\"Mean Absolute Error:\", mae)\n",
    "        #maelist.append(mae)\n",
    "        # Handle pruning based on the intermediate value.\n",
    "\n",
    "    #print(\"Media : \",np.mean(maelist))\n",
    "    return mae"
   ]
  },
  {
   "cell_type": "code",
   "execution_count": 98,
   "id": "f17b7fd2-ba56-44d6-a799-b477b9d5ad22",
   "metadata": {},
   "outputs": [
    {
     "name": "stderr",
     "output_type": "stream",
     "text": [
      "[I 2023-10-27 10:55:10,428] A new study created in memory with name: no-name-15cad612-8c5d-4225-9b29-b8642ac7328d\n"
     ]
    }
   ],
   "source": [
    "import optuna\n",
    "import warnings\n",
    "warnings.filterwarnings(\"ignore\")\n",
    "from warnings import simplefilter\n",
    "simplefilter(\"ignore\", category=RuntimeWarning)\n",
    "study = optuna.create_study(direction='minimize')"
   ]
  },
  {
   "cell_type": "code",
   "execution_count": 99,
   "id": "81030038-4079-4a9d-8219-5c9be4b988f4",
   "metadata": {
    "scrolled": true,
    "tags": []
   },
   "outputs": [
    {
     "name": "stdout",
     "output_type": "stream",
     "text": [
      "Mean Absolute Error: 246.51725299132775\n",
      "Mean Absolute Error: 213.1240863668125\n"
     ]
    },
    {
     "name": "stderr",
     "output_type": "stream",
     "text": [
      "[I 2023-10-27 10:55:16,401] Trial 0 finished with value: 205.31577063964804 and parameters: {'n_estimators': 660, 'reg_alpha': 0.015364799159641365, 'reg_lambda': 0.14607844463699818, 'colsample_bytree': 0.8, 'subsample': 0.8, 'learning_rate': 0.06934872817600611, 'max_depth': 23, 'num_leaves': 697, 'min_child_samples': 250, 'min_data_per_groups': 96}. Best is trial 0 with value: 205.31577063964804.\n"
     ]
    },
    {
     "name": "stdout",
     "output_type": "stream",
     "text": [
      "Mean Absolute Error: 205.31577063964804\n",
      "Mean Absolute Error: 217.7221199735963\n",
      "Mean Absolute Error: 199.56913180828113\n"
     ]
    },
    {
     "name": "stderr",
     "output_type": "stream",
     "text": [
      "[I 2023-10-27 10:55:26,940] Trial 1 finished with value: 191.81305103130424 and parameters: {'n_estimators': 994, 'reg_alpha': 4.72317535027987, 'reg_lambda': 0.6046602177876611, 'colsample_bytree': 0.7, 'subsample': 0.4, 'learning_rate': 0.004494590816065903, 'max_depth': 29, 'num_leaves': 886, 'min_child_samples': 93, 'min_data_per_groups': 34}. Best is trial 1 with value: 191.81305103130424.\n"
     ]
    },
    {
     "name": "stdout",
     "output_type": "stream",
     "text": [
      "Mean Absolute Error: 191.81305103130424\n",
      "Mean Absolute Error: 224.5687719177216\n",
      "Mean Absolute Error: 204.50259843434034\n"
     ]
    },
    {
     "name": "stderr",
     "output_type": "stream",
     "text": [
      "[I 2023-10-27 10:55:36,935] Trial 2 finished with value: 195.40080740743238 and parameters: {'n_estimators': 964, 'reg_alpha': 0.0013346174841042458, 'reg_lambda': 0.005253318628796979, 'colsample_bytree': 0.6, 'subsample': 0.7, 'learning_rate': 0.09498594651931173, 'max_depth': 23, 'num_leaves': 103, 'min_child_samples': 11, 'min_data_per_groups': 93}. Best is trial 1 with value: 191.81305103130424.\n"
     ]
    },
    {
     "name": "stdout",
     "output_type": "stream",
     "text": [
      "Mean Absolute Error: 195.40080740743238\n",
      "Mean Absolute Error: 393.977987366222\n",
      "Mean Absolute Error: 400.1469670759646\n"
     ]
    },
    {
     "name": "stderr",
     "output_type": "stream",
     "text": [
      "[I 2023-10-27 10:55:39,915] Trial 3 finished with value: 384.2559918618911 and parameters: {'n_estimators': 466, 'reg_alpha': 0.0010282679660640177, 'reg_lambda': 0.6164288027003267, 'colsample_bytree': 0.5, 'subsample': 0.8, 'learning_rate': 0.0022919719661917424, 'max_depth': 41, 'num_leaves': 750, 'min_child_samples': 173, 'min_data_per_groups': 54}. Best is trial 1 with value: 191.81305103130424.\n"
     ]
    },
    {
     "name": "stdout",
     "output_type": "stream",
     "text": [
      "Mean Absolute Error: 384.2559918618911\n",
      "Mean Absolute Error: 768.2506260960108\n",
      "Mean Absolute Error: 795.7714069892744\n"
     ]
    },
    {
     "name": "stderr",
     "output_type": "stream",
     "text": [
      "[I 2023-10-27 10:55:41,291] Trial 4 finished with value: 768.097778189161 and parameters: {'n_estimators': 237, 'reg_alpha': 0.821295203389479, 'reg_lambda': 4.015319459192508, 'colsample_bytree': 0.4, 'subsample': 0.7, 'learning_rate': 0.00034003166280475186, 'max_depth': 46, 'num_leaves': 869, 'min_child_samples': 176, 'min_data_per_groups': 97}. Best is trial 1 with value: 191.81305103130424.\n"
     ]
    },
    {
     "name": "stdout",
     "output_type": "stream",
     "text": [
      "Mean Absolute Error: 768.097778189161\n",
      "Mean Absolute Error: 372.1968699819808\n",
      "Mean Absolute Error: 379.1537825100208\n"
     ]
    },
    {
     "name": "stderr",
     "output_type": "stream",
     "text": [
      "[I 2023-10-27 10:55:42,937] Trial 5 finished with value: 366.7931150083738 and parameters: {'n_estimators': 703, 'reg_alpha': 2.5373394305737924, 'reg_lambda': 0.04638880298879652, 'colsample_bytree': 0.5, 'subsample': 0.5, 'learning_rate': 0.002764875401342011, 'max_depth': 1, 'num_leaves': 769, 'min_child_samples': 17, 'min_data_per_groups': 70}. Best is trial 1 with value: 191.81305103130424.\n"
     ]
    },
    {
     "name": "stdout",
     "output_type": "stream",
     "text": [
      "Mean Absolute Error: 366.7931150083738\n",
      "Mean Absolute Error: 256.09620745366163\n",
      "Mean Absolute Error: 246.84650841901646\n"
     ]
    },
    {
     "name": "stderr",
     "output_type": "stream",
     "text": [
      "[I 2023-10-27 10:55:48,125] Trial 6 finished with value: 236.83566983299326 and parameters: {'n_estimators': 896, 'reg_alpha': 0.028443157367838014, 'reg_lambda': 0.001286846730492479, 'colsample_bytree': 0.6, 'subsample': 0.5, 'learning_rate': 0.002843466288807689, 'max_depth': 48, 'num_leaves': 249, 'min_child_samples': 297, 'min_data_per_groups': 90}. Best is trial 1 with value: 191.81305103130424.\n"
     ]
    },
    {
     "name": "stdout",
     "output_type": "stream",
     "text": [
      "Mean Absolute Error: 236.83566983299326\n",
      "Mean Absolute Error: 772.4705341991881\n"
     ]
    },
    {
     "name": "stderr",
     "output_type": "stream",
     "text": [
      "[I 2023-10-27 10:55:48,581] Trial 7 finished with value: 772.8502938148081 and parameters: {'n_estimators': 62, 'reg_alpha': 2.001945043224809, 'reg_lambda': 0.6894215315975866, 'colsample_bytree': 0.4, 'subsample': 1.0, 'learning_rate': 0.0011880686683505672, 'max_depth': 50, 'num_leaves': 94, 'min_child_samples': 248, 'min_data_per_groups': 61}. Best is trial 1 with value: 191.81305103130424.\n"
     ]
    },
    {
     "name": "stdout",
     "output_type": "stream",
     "text": [
      "Mean Absolute Error: 800.7606993811459\n",
      "Mean Absolute Error: 772.8502938148081\n",
      "Mean Absolute Error: 222.947144209438\n",
      "Mean Absolute Error: 211.8119790351978\n"
     ]
    },
    {
     "name": "stderr",
     "output_type": "stream",
     "text": [
      "[I 2023-10-27 10:55:52,361] Trial 8 finished with value: 203.11957182959648 and parameters: {'n_estimators': 506, 'reg_alpha': 0.006806891617234484, 'reg_lambda': 0.0439417294371201, 'colsample_bytree': 0.9, 'subsample': 0.5, 'learning_rate': 0.007492796741596589, 'max_depth': 28, 'num_leaves': 506, 'min_child_samples': 226, 'min_data_per_groups': 13}. Best is trial 1 with value: 191.81305103130424.\n"
     ]
    },
    {
     "name": "stdout",
     "output_type": "stream",
     "text": [
      "Mean Absolute Error: 203.11957182959648\n",
      "Mean Absolute Error: 227.6043597744177\n",
      "Mean Absolute Error: 200.33798627742004\n"
     ]
    },
    {
     "name": "stderr",
     "output_type": "stream",
     "text": [
      "[I 2023-10-27 10:55:57,327] Trial 9 finished with value: 193.01334138565215 and parameters: {'n_estimators': 623, 'reg_alpha': 0.002151840016691349, 'reg_lambda': 0.00722306618519683, 'colsample_bytree': 0.7, 'subsample': 0.7, 'learning_rate': 0.01688553814940648, 'max_depth': 17, 'num_leaves': 798, 'min_child_samples': 183, 'min_data_per_groups': 2}. Best is trial 1 with value: 191.81305103130424.\n"
     ]
    },
    {
     "name": "stdout",
     "output_type": "stream",
     "text": [
      "Mean Absolute Error: 193.01334138565215\n",
      "Mean Absolute Error: 747.663770550137\n",
      "Mean Absolute Error: 774.0512298209667\n"
     ]
    },
    {
     "name": "stderr",
     "output_type": "stream",
     "text": [
      "[I 2023-10-27 10:56:04,453] Trial 10 finished with value: 746.6999117097943 and parameters: {'n_estimators': 835, 'reg_alpha': 0.2227517746983804, 'reg_lambda': 8.617186932942426, 'colsample_bytree': 0.7, 'subsample': 0.4, 'learning_rate': 0.00013448387970564806, 'max_depth': 11, 'num_leaves': 968, 'min_child_samples': 74, 'min_data_per_groups': 29}. Best is trial 1 with value: 191.81305103130424.\n"
     ]
    },
    {
     "name": "stdout",
     "output_type": "stream",
     "text": [
      "Mean Absolute Error: 746.6999117097943\n",
      "Mean Absolute Error: 220.70680988510546\n",
      "Mean Absolute Error: 196.7396588924589\n"
     ]
    },
    {
     "name": "stderr",
     "output_type": "stream",
     "text": [
      "[I 2023-10-27 10:56:09,143] Trial 11 finished with value: 188.9374445529729 and parameters: {'n_estimators': 428, 'reg_alpha': 8.201485003775884, 'reg_lambda': 0.007814974961498028, 'colsample_bytree': 0.7, 'subsample': 0.4, 'learning_rate': 0.017272214526213702, 'max_depth': 32, 'num_leaves': 566, 'min_child_samples': 112, 'min_data_per_groups': 3}. Best is trial 11 with value: 188.9374445529729.\n"
     ]
    },
    {
     "name": "stdout",
     "output_type": "stream",
     "text": [
      "Mean Absolute Error: 188.9374445529729\n",
      "Mean Absolute Error: 218.16129338437645\n",
      "Mean Absolute Error: 200.70322769653123\n"
     ]
    },
    {
     "name": "stderr",
     "output_type": "stream",
     "text": [
      "[I 2023-10-27 10:56:12,571] Trial 12 finished with value: 192.00665934495487 and parameters: {'n_estimators': 326, 'reg_alpha': 8.847534135671488, 'reg_lambda': 0.012714685574017656, 'colsample_bytree': 0.7, 'subsample': 0.4, 'learning_rate': 0.013488841078294053, 'max_depth': 34, 'num_leaves': 440, 'min_child_samples': 102, 'min_data_per_groups': 34}. Best is trial 11 with value: 188.9374445529729.\n"
     ]
    },
    {
     "name": "stdout",
     "output_type": "stream",
     "text": [
      "Mean Absolute Error: 192.00665934495487\n",
      "Mean Absolute Error: 227.00276770951336\n",
      "Mean Absolute Error: 199.84893807747912\n"
     ]
    },
    {
     "name": "stderr",
     "output_type": "stream",
     "text": [
      "[I 2023-10-27 10:56:17,348] Trial 13 finished with value: 192.85145289692193 and parameters: {'n_estimators': 374, 'reg_alpha': 8.111811260489684, 'reg_lambda': 0.20453633879158936, 'colsample_bytree': 1.0, 'subsample': 0.6, 'learning_rate': 0.02959956734828595, 'max_depth': 35, 'num_leaves': 560, 'min_child_samples': 110, 'min_data_per_groups': 33}. Best is trial 11 with value: 188.9374445529729.\n"
     ]
    },
    {
     "name": "stdout",
     "output_type": "stream",
     "text": [
      "Mean Absolute Error: 192.85145289692193\n",
      "Mean Absolute Error: 358.416968252296\n",
      "Mean Absolute Error: 362.8851677569345\n"
     ]
    },
    {
     "name": "stderr",
     "output_type": "stream",
     "text": [
      "[I 2023-10-27 10:56:19,335] Trial 14 finished with value: 347.20084491094696 and parameters: {'n_estimators': 152, 'reg_alpha': 0.3341888765791421, 'reg_lambda': 0.001233694071022918, 'colsample_bytree': 0.7, 'subsample': 0.4, 'learning_rate': 0.007953779050902225, 'max_depth': 31, 'num_leaves': 336, 'min_child_samples': 70, 'min_data_per_groups': 17}. Best is trial 11 with value: 188.9374445529729.\n"
     ]
    },
    {
     "name": "stdout",
     "output_type": "stream",
     "text": [
      "Mean Absolute Error: 347.20084491094696\n",
      "Mean Absolute Error: 240.85836276892437\n",
      "Mean Absolute Error: 205.19577210005514\n"
     ]
    },
    {
     "name": "stderr",
     "output_type": "stream",
     "text": [
      "[I 2023-10-27 10:56:27,525] Trial 15 finished with value: 197.61921381355575 and parameters: {'n_estimators': 781, 'reg_alpha': 2.5073499146702383, 'reg_lambda': 0.02215489394137553, 'colsample_bytree': 0.3, 'subsample': 0.4, 'learning_rate': 0.029903416825314538, 'max_depth': 38, 'num_leaves': 998, 'min_child_samples': 132, 'min_data_per_groups': 43}. Best is trial 11 with value: 188.9374445529729.\n"
     ]
    },
    {
     "name": "stdout",
     "output_type": "stream",
     "text": [
      "Mean Absolute Error: 197.61921381355575\n",
      "Mean Absolute Error: 221.28765605482866\n",
      "Mean Absolute Error: 205.3251189338322\n"
     ]
    },
    {
     "name": "stderr",
     "output_type": "stream",
     "text": [
      "[I 2023-10-27 10:56:34,950] Trial 16 finished with value: 198.03353477217647 and parameters: {'n_estimators': 553, 'reg_alpha': 0.7415115662978827, 'reg_lambda': 0.5095513962995929, 'colsample_bytree': 0.7, 'subsample': 0.4, 'learning_rate': 0.006616981836933695, 'max_depth': 18, 'num_leaves': 636, 'min_child_samples': 56, 'min_data_per_groups': 1}. Best is trial 11 with value: 188.9374445529729.\n"
     ]
    },
    {
     "name": "stdout",
     "output_type": "stream",
     "text": [
      "Mean Absolute Error: 198.03353477217647\n",
      "Mean Absolute Error: 429.31436205791005\n",
      "Mean Absolute Error: 439.8784689946214\n"
     ]
    },
    {
     "name": "stderr",
     "output_type": "stream",
     "text": [
      "[I 2023-10-27 10:56:43,048] Trial 17 finished with value: 421.34518770814054 and parameters: {'n_estimators': 995, 'reg_alpha': 0.07636435021134402, 'reg_lambda': 0.05645928464738167, 'colsample_bytree': 0.9, 'subsample': 1.0, 'learning_rate': 0.0008906436697283291, 'max_depth': 41, 'num_leaves': 381, 'min_child_samples': 137, 'min_data_per_groups': 18}. Best is trial 11 with value: 188.9374445529729.\n"
     ]
    },
    {
     "name": "stdout",
     "output_type": "stream",
     "text": [
      "Mean Absolute Error: 421.34518770814054\n",
      "Mean Absolute Error: 255.97574477620952\n",
      "Mean Absolute Error: 247.72105481924635\n"
     ]
    },
    {
     "name": "stderr",
     "output_type": "stream",
     "text": [
      "[I 2023-10-27 10:56:51,236] Trial 18 finished with value: 236.6284945173972 and parameters: {'n_estimators': 403, 'reg_alpha': 9.262743629561228, 'reg_lambda': 0.0038766883363498426, 'colsample_bytree': 1.0, 'subsample': 0.6, 'learning_rate': 0.005653057628604867, 'max_depth': 28, 'num_leaves': 597, 'min_child_samples': 35, 'min_data_per_groups': 78}. Best is trial 11 with value: 188.9374445529729.\n"
     ]
    },
    {
     "name": "stdout",
     "output_type": "stream",
     "text": [
      "Mean Absolute Error: 236.6284945173972\n",
      "Mean Absolute Error: 228.2968367990719\n",
      "Mean Absolute Error: 198.21140776258872\n"
     ]
    },
    {
     "name": "stderr",
     "output_type": "stream",
     "text": [
      "[I 2023-10-27 10:56:53,498] Trial 19 finished with value: 191.05719405953488 and parameters: {'n_estimators': 269, 'reg_alpha': 4.018398925941834, 'reg_lambda': 0.02031455167065412, 'colsample_bytree': 0.3, 'subsample': 0.4, 'learning_rate': 0.038962006334758235, 'max_depth': 14, 'num_leaves': 915, 'min_child_samples': 86, 'min_data_per_groups': 46}. Best is trial 11 with value: 188.9374445529729.\n"
     ]
    },
    {
     "name": "stdout",
     "output_type": "stream",
     "text": [
      "Mean Absolute Error: 191.05719405953488\n",
      "Mean Absolute Error: 227.51249560954597\n",
      "Mean Absolute Error: 201.2533327035651\n"
     ]
    },
    {
     "name": "stderr",
     "output_type": "stream",
     "text": [
      "[I 2023-10-27 10:56:54,793] Trial 20 finished with value: 192.31430874287568 and parameters: {'n_estimators': 270, 'reg_alpha': 0.9934639784169543, 'reg_lambda': 0.021084535576173624, 'colsample_bytree': 0.3, 'subsample': 0.4, 'learning_rate': 0.05180698201986997, 'max_depth': 6, 'num_leaves': 260, 'min_child_samples': 48, 'min_data_per_groups': 46}. Best is trial 11 with value: 188.9374445529729.\n"
     ]
    },
    {
     "name": "stdout",
     "output_type": "stream",
     "text": [
      "Mean Absolute Error: 192.31430874287568\n",
      "Mean Absolute Error: 224.9967747650781\n",
      "Mean Absolute Error: 207.3517706795655\n"
     ]
    },
    {
     "name": "stderr",
     "output_type": "stream",
     "text": [
      "[I 2023-10-27 10:56:56,323] Trial 21 finished with value: 202.18779791617925 and parameters: {'n_estimators': 181, 'reg_alpha': 4.432984643238778, 'reg_lambda': 0.01505590293936715, 'colsample_bytree': 0.3, 'subsample': 0.4, 'learning_rate': 0.02035864899311106, 'max_depth': 10, 'num_leaves': 895, 'min_child_samples': 97, 'min_data_per_groups': 58}. Best is trial 11 with value: 188.9374445529729.\n"
     ]
    },
    {
     "name": "stdout",
     "output_type": "stream",
     "text": [
      "Mean Absolute Error: 202.18779791617925\n",
      "Mean Absolute Error: 234.18829866440313\n",
      "Mean Absolute Error: 203.0878109351291\n"
     ]
    },
    {
     "name": "stderr",
     "output_type": "stream",
     "text": [
      "[I 2023-10-27 10:57:00,408] Trial 22 finished with value: 192.6015677854626 and parameters: {'n_estimators': 418, 'reg_alpha': 4.016162000729016, 'reg_lambda': 0.0946647599759013, 'colsample_bytree': 0.8, 'subsample': 0.4, 'learning_rate': 0.04626133190022632, 'max_depth': 16, 'num_leaves': 889, 'min_child_samples': 80, 'min_data_per_groups': 25}. Best is trial 11 with value: 188.9374445529729.\n"
     ]
    },
    {
     "name": "stdout",
     "output_type": "stream",
     "text": [
      "Mean Absolute Error: 192.6015677854626\n",
      "Mean Absolute Error: 414.2436420941024\n",
      "Mean Absolute Error: 419.2734613819473\n"
     ]
    },
    {
     "name": "stderr",
     "output_type": "stream",
     "text": [
      "[I 2023-10-27 10:57:01,150] Trial 23 finished with value: 403.2574476213728 and parameters: {'n_estimators': 81, 'reg_alpha': 1.5092136487696102, 'reg_lambda': 0.0023218671363236442, 'colsample_bytree': 0.3, 'subsample': 0.4, 'learning_rate': 0.012285138215648195, 'max_depth': 22, 'num_leaves': 683, 'min_child_samples': 123, 'min_data_per_groups': 45}. Best is trial 11 with value: 188.9374445529729.\n"
     ]
    },
    {
     "name": "stdout",
     "output_type": "stream",
     "text": [
      "Mean Absolute Error: 403.2574476213728\n",
      "Mean Absolute Error: 232.38137417171092\n",
      "Mean Absolute Error: 200.47686158962284\n"
     ]
    },
    {
     "name": "stderr",
     "output_type": "stream",
     "text": [
      "[I 2023-10-27 10:57:07,028] Trial 24 finished with value: 195.46874403688938 and parameters: {'n_estimators': 550, 'reg_alpha': 4.147937870778348, 'reg_lambda': 0.010968150659917452, 'colsample_bytree': 0.7, 'subsample': 0.4, 'learning_rate': 0.025606488580786534, 'max_depth': 30, 'num_leaves': 889, 'min_child_samples': 150, 'min_data_per_groups': 38}. Best is trial 11 with value: 188.9374445529729.\n"
     ]
    },
    {
     "name": "stdout",
     "output_type": "stream",
     "text": [
      "Mean Absolute Error: 195.46874403688938\n",
      "Mean Absolute Error: 230.51567605448918\n",
      "Mean Absolute Error: 216.70794983612117\n"
     ]
    },
    {
     "name": "stderr",
     "output_type": "stream",
     "text": [
      "[I 2023-10-27 10:57:07,823] Trial 25 finished with value: 212.4698706510088 and parameters: {'n_estimators': 294, 'reg_alpha': 4.531148069932507, 'reg_lambda': 0.00514166512233284, 'colsample_bytree': 0.7, 'subsample': 0.4, 'learning_rate': 0.03980787471123265, 'max_depth': 34, 'num_leaves': 4, 'min_child_samples': 91, 'min_data_per_groups': 9}. Best is trial 11 with value: 188.9374445529729.\n"
     ]
    },
    {
     "name": "stdout",
     "output_type": "stream",
     "text": [
      "Mean Absolute Error: 212.4698706510088\n",
      "Mean Absolute Error: 256.87347280929816\n",
      "Mean Absolute Error: 249.553145710784\n"
     ]
    },
    {
     "name": "stderr",
     "output_type": "stream",
     "text": [
      "[I 2023-10-27 10:57:10,681] Trial 26 finished with value: 239.40996774195582 and parameters: {'n_estimators': 190, 'reg_alpha': 0.42348071622491634, 'reg_lambda': 0.027254244101512125, 'colsample_bytree': 0.3, 'subsample': 0.8, 'learning_rate': 0.012141006577581248, 'max_depth': 25, 'num_leaves': 828, 'min_child_samples': 37, 'min_data_per_groups': 67}. Best is trial 11 with value: 188.9374445529729.\n"
     ]
    },
    {
     "name": "stdout",
     "output_type": "stream",
     "text": [
      "Mean Absolute Error: 239.40996774195582\n",
      "Mean Absolute Error: 257.3617982513808\n",
      "Mean Absolute Error: 214.7657180043777\n"
     ]
    },
    {
     "name": "stderr",
     "output_type": "stream",
     "text": [
      "[I 2023-10-27 10:57:16,139] Trial 27 finished with value: 206.88186528972997 and parameters: {'n_estimators': 761, 'reg_alpha': 1.318183542101825, 'reg_lambda': 0.010438964419558716, 'colsample_bytree': 0.7, 'subsample': 0.6, 'learning_rate': 0.09309328712152236, 'max_depth': 13, 'num_leaves': 941, 'min_child_samples': 163, 'min_data_per_groups': 23}. Best is trial 11 with value: 188.9374445529729.\n"
     ]
    },
    {
     "name": "stdout",
     "output_type": "stream",
     "text": [
      "Mean Absolute Error: 206.88186528972997\n",
      "Mean Absolute Error: 301.06715770993486\n",
      "Mean Absolute Error: 300.2843686121141\n"
     ]
    },
    {
     "name": "stderr",
     "output_type": "stream",
     "text": [
      "[I 2023-10-27 10:57:19,058] Trial 28 finished with value: 288.5977264351034 and parameters: {'n_estimators': 353, 'reg_alpha': 2.414478181495483, 'reg_lambda': 0.037109877731828216, 'colsample_bytree': 0.4, 'subsample': 1.0, 'learning_rate': 0.00479776890319155, 'max_depth': 20, 'num_leaves': 717, 'min_child_samples': 108, 'min_data_per_groups': 39}. Best is trial 11 with value: 188.9374445529729.\n"
     ]
    },
    {
     "name": "stdout",
     "output_type": "stream",
     "text": [
      "Mean Absolute Error: 288.5977264351034\n",
      "Mean Absolute Error: 245.23521962935277\n",
      "Mean Absolute Error: 209.87930994606577\n"
     ]
    },
    {
     "name": "stderr",
     "output_type": "stream",
     "text": [
      "[I 2023-10-27 10:57:24,787] Trial 29 finished with value: 202.88582606814447 and parameters: {'n_estimators': 650, 'reg_alpha': 9.328609671838038, 'reg_lambda': 0.10302505977801119, 'colsample_bytree': 0.6, 'subsample': 0.8, 'learning_rate': 0.05734125756888692, 'max_depth': 26, 'num_leaves': 537, 'min_child_samples': 221, 'min_data_per_groups': 51}. Best is trial 11 with value: 188.9374445529729.\n"
     ]
    },
    {
     "name": "stdout",
     "output_type": "stream",
     "text": [
      "Mean Absolute Error: 202.88582606814447\n",
      "Mean Absolute Error: 227.8465013322158\n",
      "Mean Absolute Error: 205.99415838886776\n"
     ]
    },
    {
     "name": "stderr",
     "output_type": "stream",
     "text": [
      "[I 2023-10-27 10:57:26,679] Trial 30 finished with value: 200.56123380673532 and parameters: {'n_estimators': 584, 'reg_alpha': 0.5082967872540645, 'reg_lambda': 0.002924445039142668, 'colsample_bytree': 0.8, 'subsample': 0.4, 'learning_rate': 0.021078322490265547, 'max_depth': 4, 'num_leaves': 629, 'min_child_samples': 202, 'min_data_per_groups': 9}. Best is trial 11 with value: 188.9374445529729.\n"
     ]
    },
    {
     "name": "stdout",
     "output_type": "stream",
     "text": [
      "Mean Absolute Error: 200.56123380673532\n",
      "Mean Absolute Error: 216.64918119846863\n",
      "Mean Absolute Error: 200.1246297118644\n"
     ]
    },
    {
     "name": "stderr",
     "output_type": "stream",
     "text": [
      "[I 2023-10-27 10:57:29,781] Trial 31 finished with value: 192.7093929257143 and parameters: {'n_estimators': 331, 'reg_alpha': 6.068192872703905, 'reg_lambda': 0.009119471811166341, 'colsample_bytree': 0.7, 'subsample': 0.4, 'learning_rate': 0.013420648678833306, 'max_depth': 34, 'num_leaves': 459, 'min_child_samples': 120, 'min_data_per_groups': 33}. Best is trial 11 with value: 188.9374445529729.\n"
     ]
    },
    {
     "name": "stdout",
     "output_type": "stream",
     "text": [
      "Mean Absolute Error: 192.7093929257143\n",
      "Mean Absolute Error: 216.94049554319645\n",
      "Mean Absolute Error: 198.47493276345907\n"
     ]
    },
    {
     "name": "stderr",
     "output_type": "stream",
     "text": [
      "[I 2023-10-27 10:57:34,534] Trial 32 finished with value: 190.5624291059698 and parameters: {'n_estimators': 449, 'reg_alpha': 9.9618161064885, 'reg_lambda': 0.016988174691423222, 'colsample_bytree': 0.7, 'subsample': 0.4, 'learning_rate': 0.01051745520480027, 'max_depth': 37, 'num_leaves': 423, 'min_child_samples': 93, 'min_data_per_groups': 35}. Best is trial 11 with value: 188.9374445529729.\n"
     ]
    },
    {
     "name": "stdout",
     "output_type": "stream",
     "text": [
      "Mean Absolute Error: 190.5624291059698\n",
      "Mean Absolute Error: 216.8182229999283\n",
      "Mean Absolute Error: 197.84692839079554\n"
     ]
    },
    {
     "name": "stderr",
     "output_type": "stream",
     "text": [
      "[I 2023-10-27 10:57:40,060] Trial 33 finished with value: 190.68682760529614 and parameters: {'n_estimators': 458, 'reg_alpha': 4.849122825842062, 'reg_lambda': 0.006253103666245329, 'colsample_bytree': 0.5, 'subsample': 0.4, 'learning_rate': 0.009645764936949196, 'max_depth': 43, 'num_leaves': 277, 'min_child_samples': 62, 'min_data_per_groups': 24}. Best is trial 11 with value: 188.9374445529729.\n"
     ]
    },
    {
     "name": "stdout",
     "output_type": "stream",
     "text": [
      "Mean Absolute Error: 190.68682760529614\n",
      "Mean Absolute Error: 229.23655799251634\n",
      "Mean Absolute Error: 200.60974163093215\n"
     ]
    },
    {
     "name": "stderr",
     "output_type": "stream",
     "text": [
      "[I 2023-10-27 10:57:46,810] Trial 34 finished with value: 192.37177046275556 and parameters: {'n_estimators': 461, 'reg_alpha': 3.0027005496841657, 'reg_lambda': 0.006787424492444984, 'colsample_bytree': 0.5, 'subsample': 0.4, 'learning_rate': 0.03328703189429894, 'max_depth': 42, 'num_leaves': 273, 'min_child_samples': 61, 'min_data_per_groups': 21}. Best is trial 11 with value: 188.9374445529729.\n"
     ]
    },
    {
     "name": "stdout",
     "output_type": "stream",
     "text": [
      "Mean Absolute Error: 192.37177046275556\n",
      "Mean Absolute Error: 217.8849574426073\n",
      "Mean Absolute Error: 199.95401776737398\n"
     ]
    },
    {
     "name": "stderr",
     "output_type": "stream",
     "text": [
      "[I 2023-10-27 10:57:51,320] Trial 35 finished with value: 192.1827347621205 and parameters: {'n_estimators': 467, 'reg_alpha': 5.5638254570844765, 'reg_lambda': 0.018602239147089757, 'colsample_bytree': 0.5, 'subsample': 0.7, 'learning_rate': 0.009109118756454935, 'max_depth': 44, 'num_leaves': 171, 'min_child_samples': 87, 'min_data_per_groups': 7}. Best is trial 11 with value: 188.9374445529729.\n"
     ]
    },
    {
     "name": "stdout",
     "output_type": "stream",
     "text": [
      "Mean Absolute Error: 192.1827347621205\n",
      "Mean Absolute Error: 216.00986885063486\n",
      "Mean Absolute Error: 198.00850966864041\n"
     ]
    },
    {
     "name": "stderr",
     "output_type": "stream",
     "text": [
      "[I 2023-10-27 10:58:04,137] Trial 36 finished with value: 190.19988176301376 and parameters: {'n_estimators': 435, 'reg_alpha': 1.1537199525004587, 'reg_lambda': 0.004831801983875105, 'colsample_bytree': 0.5, 'subsample': 0.4, 'learning_rate': 0.018900545641012328, 'max_depth': 38, 'num_leaves': 378, 'min_child_samples': 9, 'min_data_per_groups': 28}. Best is trial 11 with value: 188.9374445529729.\n"
     ]
    },
    {
     "name": "stdout",
     "output_type": "stream",
     "text": [
      "Mean Absolute Error: 190.19988176301376\n",
      "Mean Absolute Error: 262.2416678332133\n",
      "Mean Absolute Error: 246.77420095044855\n"
     ]
    },
    {
     "name": "stderr",
     "output_type": "stream",
     "text": [
      "[I 2023-10-27 10:58:21,289] Trial 37 finished with value: 236.68373907298607 and parameters: {'n_estimators': 508, 'reg_alpha': 1.597169565730027, 'reg_lambda': 0.0019700341600430243, 'colsample_bytree': 0.5, 'subsample': 0.5, 'learning_rate': 0.004608670961692425, 'max_depth': 39, 'num_leaves': 384, 'min_child_samples': 3, 'min_data_per_groups': 27}. Best is trial 11 with value: 188.9374445529729.\n"
     ]
    },
    {
     "name": "stdout",
     "output_type": "stream",
     "text": [
      "Mean Absolute Error: 236.68373907298607\n",
      "Mean Absolute Error: 217.84977219702802\n",
      "Mean Absolute Error: 197.63785403773053\n"
     ]
    },
    {
     "name": "stderr",
     "output_type": "stream",
     "text": [
      "[I 2023-10-27 10:58:31,362] Trial 38 finished with value: 190.10092828233033 and parameters: {'n_estimators': 432, 'reg_alpha': 2.449945113394022, 'reg_lambda': 0.004493702883447328, 'colsample_bytree': 0.5, 'subsample': 0.8, 'learning_rate': 0.018275132632898188, 'max_depth': 38, 'num_leaves': 350, 'min_child_samples': 19, 'min_data_per_groups': 14}. Best is trial 11 with value: 188.9374445529729.\n"
     ]
    },
    {
     "name": "stdout",
     "output_type": "stream",
     "text": [
      "Mean Absolute Error: 190.10092828233033\n",
      "Mean Absolute Error: 219.3689506513808\n",
      "Mean Absolute Error: 197.4515732750403\n"
     ]
    },
    {
     "name": "stderr",
     "output_type": "stream",
     "text": [
      "[I 2023-10-27 10:58:41,131] Trial 39 finished with value: 190.44923357783915 and parameters: {'n_estimators': 403, 'reg_alpha': 1.9466154818603403, 'reg_lambda': 0.003654140334165508, 'colsample_bytree': 0.5, 'subsample': 0.8, 'learning_rate': 0.02189698781152191, 'max_depth': 38, 'num_leaves': 432, 'min_child_samples': 19, 'min_data_per_groups': 14}. Best is trial 11 with value: 188.9374445529729.\n"
     ]
    },
    {
     "name": "stdout",
     "output_type": "stream",
     "text": [
      "Mean Absolute Error: 190.44923357783915\n",
      "Mean Absolute Error: 221.35606950862206\n",
      "Mean Absolute Error: 199.18209347560796\n"
     ]
    },
    {
     "name": "stderr",
     "output_type": "stream",
     "text": [
      "[I 2023-10-27 10:58:57,605] Trial 40 finished with value: 190.6618929429818 and parameters: {'n_estimators': 706, 'reg_alpha': 1.7706094787869688, 'reg_lambda': 0.0035154275338033585, 'colsample_bytree': 0.5, 'subsample': 0.8, 'learning_rate': 0.017863060257722427, 'max_depth': 46, 'num_leaves': 334, 'min_child_samples': 21, 'min_data_per_groups': 13}. Best is trial 11 with value: 188.9374445529729.\n"
     ]
    },
    {
     "name": "stdout",
     "output_type": "stream",
     "text": [
      "Mean Absolute Error: 190.6618929429818\n",
      "Mean Absolute Error: 222.1757498207131\n",
      "Mean Absolute Error: 198.7040427349043\n"
     ]
    },
    {
     "name": "stderr",
     "output_type": "stream",
     "text": [
      "[I 2023-10-27 10:59:06,533] Trial 41 finished with value: 190.7258156394454 and parameters: {'n_estimators': 419, 'reg_alpha': 1.113820851338967, 'reg_lambda': 0.004530923215617178, 'colsample_bytree': 0.5, 'subsample': 0.8, 'learning_rate': 0.022729287324693214, 'max_depth': 37, 'num_leaves': 479, 'min_child_samples': 25, 'min_data_per_groups': 16}. Best is trial 11 with value: 188.9374445529729.\n"
     ]
    },
    {
     "name": "stdout",
     "output_type": "stream",
     "text": [
      "Mean Absolute Error: 190.7258156394454\n",
      "Mean Absolute Error: 216.4571446355529\n",
      "Mean Absolute Error: 198.38964320362837\n"
     ]
    },
    {
     "name": "stderr",
     "output_type": "stream",
     "text": [
      "[I 2023-10-27 10:59:19,096] Trial 42 finished with value: 191.83018882540793 and parameters: {'n_estimators': 388, 'reg_alpha': 2.72651651136178, 'reg_lambda': 0.0018846032628784077, 'colsample_bytree': 0.5, 'subsample': 0.8, 'learning_rate': 0.016901984911541032, 'max_depth': 31, 'num_leaves': 424, 'min_child_samples': 9, 'min_data_per_groups': 5}. Best is trial 11 with value: 188.9374445529729.\n"
     ]
    },
    {
     "name": "stdout",
     "output_type": "stream",
     "text": [
      "Mean Absolute Error: 191.83018882540793\n",
      "Mean Absolute Error: 223.3685109466832\n",
      "Mean Absolute Error: 200.1108954020765\n"
     ]
    },
    {
     "name": "stderr",
     "output_type": "stream",
     "text": [
      "[I 2023-10-27 10:59:26,873] Trial 43 finished with value: 191.1199674881116 and parameters: {'n_estimators': 516, 'reg_alpha': 6.658639512539569, 'reg_lambda': 0.003083834761751458, 'colsample_bytree': 0.5, 'subsample': 0.8, 'learning_rate': 0.025291409023243876, 'max_depth': 39, 'num_leaves': 195, 'min_child_samples': 36, 'min_data_per_groups': 13}. Best is trial 11 with value: 188.9374445529729.\n"
     ]
    },
    {
     "name": "stdout",
     "output_type": "stream",
     "text": [
      "Mean Absolute Error: 191.1199674881116\n",
      "Mean Absolute Error: 242.03172949438826\n",
      "Mean Absolute Error: 208.9980146857361\n"
     ]
    },
    {
     "name": "stderr",
     "output_type": "stream",
     "text": [
      "[I 2023-10-27 10:59:37,599] Trial 44 finished with value: 197.18662218237478 and parameters: {'n_estimators': 602, 'reg_alpha': 2.014624511191144, 'reg_lambda': 0.00810653109945009, 'colsample_bytree': 0.9, 'subsample': 0.8, 'learning_rate': 0.06912226634506445, 'max_depth': 36, 'num_leaves': 512, 'min_child_samples': 45, 'min_data_per_groups': 29}. Best is trial 11 with value: 188.9374445529729.\n"
     ]
    },
    {
     "name": "stdout",
     "output_type": "stream",
     "text": [
      "Mean Absolute Error: 197.18662218237478\n",
      "Mean Absolute Error: 216.0711345792829\n",
      "Mean Absolute Error: 199.43836345482177\n"
     ]
    },
    {
     "name": "stderr",
     "output_type": "stream",
     "text": [
      "[I 2023-10-27 10:59:48,589] Trial 45 finished with value: 191.4244779199912 and parameters: {'n_estimators': 457, 'reg_alpha': 0.8109204159534734, 'reg_lambda': 0.0048961841602721155, 'colsample_bytree': 0.6, 'subsample': 0.8, 'learning_rate': 0.010745892055606348, 'max_depth': 32, 'num_leaves': 398, 'min_child_samples': 18, 'min_data_per_groups': 19}. Best is trial 11 with value: 188.9374445529729.\n"
     ]
    },
    {
     "name": "stdout",
     "output_type": "stream",
     "text": [
      "Mean Absolute Error: 191.4244779199912\n",
      "Mean Absolute Error: 220.25720251015042\n",
      "Mean Absolute Error: 199.7567997934041\n"
     ]
    },
    {
     "name": "stderr",
     "output_type": "stream",
     "text": [
      "[I 2023-10-27 10:59:57,693] Trial 46 finished with value: 193.2922426636488 and parameters: {'n_estimators': 337, 'reg_alpha': 9.961285497207216, 'reg_lambda': 0.001732588657257064, 'colsample_bytree': 0.5, 'subsample': 0.7, 'learning_rate': 0.015252931808182005, 'max_depth': 40, 'num_leaves': 332, 'min_child_samples': 5, 'min_data_per_groups': 5}. Best is trial 11 with value: 188.9374445529729.\n"
     ]
    },
    {
     "name": "stdout",
     "output_type": "stream",
     "text": [
      "Mean Absolute Error: 193.2922426636488\n",
      "Mean Absolute Error: 295.164837998086\n",
      "Mean Absolute Error: 293.5517877849736\n"
     ]
    },
    {
     "name": "stderr",
     "output_type": "stream",
     "text": [
      "[I 2023-10-27 11:00:02,276] Trial 47 finished with value: 279.88132042962195 and parameters: {'n_estimators': 230, 'reg_alpha': 3.133131788836121, 'reg_lambda': 0.0012725368773295253, 'colsample_bytree': 0.4, 'subsample': 0.5, 'learning_rate': 0.007436638735349263, 'max_depth': 46, 'num_leaves': 543, 'min_child_samples': 23, 'min_data_per_groups': 11}. Best is trial 11 with value: 188.9374445529729.\n"
     ]
    },
    {
     "name": "stdout",
     "output_type": "stream",
     "text": [
      "Mean Absolute Error: 279.88132042962195\n",
      "Mean Absolute Error: 231.32898794562468\n",
      "Mean Absolute Error: 207.1546205544859\n"
     ]
    },
    {
     "name": "stderr",
     "output_type": "stream",
     "text": [
      "[I 2023-10-27 11:00:06,108] Trial 48 finished with value: 196.21385054367673 and parameters: {'n_estimators': 428, 'reg_alpha': 6.650160835099316, 'reg_lambda': 0.014041190394906703, 'colsample_bytree': 1.0, 'subsample': 1.0, 'learning_rate': 0.031944963879043484, 'max_depth': 49, 'num_leaves': 313, 'min_child_samples': 271, 'min_data_per_groups': 29}. Best is trial 11 with value: 188.9374445529729.\n"
     ]
    },
    {
     "name": "stdout",
     "output_type": "stream",
     "text": [
      "Mean Absolute Error: 196.21385054367673\n",
      "Mean Absolute Error: 286.77359950028136\n",
      "Mean Absolute Error: 284.5315254045124\n"
     ]
    },
    {
     "name": "stderr",
     "output_type": "stream",
     "text": [
      "[I 2023-10-27 11:00:11,452] Trial 49 finished with value: 272.82350831491874 and parameters: {'n_estimators': 527, 'reg_alpha': 1.9932892971640828, 'reg_lambda': 0.0010316018101245022, 'colsample_bytree': 0.5, 'subsample': 0.8, 'learning_rate': 0.0034210292508388483, 'max_depth': 37, 'num_leaves': 444, 'min_child_samples': 72, 'min_data_per_groups': 37}. Best is trial 11 with value: 188.9374445529729.\n"
     ]
    },
    {
     "name": "stdout",
     "output_type": "stream",
     "text": [
      "Mean Absolute Error: 272.82350831491874\n"
     ]
    }
   ],
   "source": [
    "study.optimize(objective, n_trials=50)"
   ]
  },
  {
   "cell_type": "code",
   "execution_count": null,
   "id": "b87db151-dec5-4b3f-9604-ac46ec2297f4",
   "metadata": {},
   "outputs": [],
   "source": [
    "trial = study.best_trial\n",
    "\n",
    "print(\"  Value: {}\".format(trial.value))\n",
    "print(trial.params)"
   ]
  },
  {
   "cell_type": "code",
   "execution_count": null,
   "id": "cc65e79f",
   "metadata": {},
   "outputs": [],
   "source": [
    "for i, (train_index, test_index) in enumerate(tscv.split(data)):\n",
    "...     print(f\"Fold {i}:\")\n",
    "...     print(f\"  Train: index={train_index.shape}\")\n",
    "...     print(f\"  Test:  index={test_index.shape}\")"
   ]
  },
  {
   "cell_type": "code",
   "execution_count": null,
   "id": "e39e62c4-d842-4e6e-a67f-da452a79e678",
   "metadata": {},
   "outputs": [],
   "source": [
    "param ={'n_estimators': 146, 'reg_alpha': 6.837875621212142, 'reg_lambda': 0.0026201679611924174, 'colsample_bytree': 0.9, 'subsample': 0.8, 'learning_rate': 0.04629043692415798, 'max_depth': 14, 'num_leaves': 509, 'min_child_samples': 80, 'min_data_per_groups': 68}"
   ]
  },
  {
   "cell_type": "code",
   "execution_count": null,
   "id": "7a5d7bb0-91cb-4cc5-862d-025e403cf6c9",
   "metadata": {},
   "outputs": [],
   "source": [
    "model_A = lgb.LGBMRegressor()"
   ]
  },
  {
   "cell_type": "code",
   "execution_count": null,
   "id": "363cb7c4",
   "metadata": {},
   "outputs": [],
   "source": [
    "df_test_A = df_test_A[selected_features]\n",
    "df_test_A.shape"
   ]
  },
  {
   "cell_type": "code",
   "execution_count": null,
   "id": "88cb0791-4848-49f6-bbc3-03518bc4f94d",
   "metadata": {},
   "outputs": [],
   "source": [
    "X_train = data.drop(columns = 'pv_measurement')\n",
    "y_train = data['pv_measurement']\n",
    "X_train.shape"
   ]
  },
  {
   "cell_type": "code",
   "execution_count": null,
   "id": "871b3461-0ce0-4353-bf3f-207d6ed0c79f",
   "metadata": {
    "scrolled": true
   },
   "outputs": [],
   "source": [
    "model_A.fit(X_train,y_train)\n",
    "df_test_A = df_test_A[selected_features]\n",
    "y_pred_A = model_A.predict(df_test_A)\n",
    "y_pred_clear = 10 ** y_pred_A - 1 "
   ]
  },
  {
   "cell_type": "code",
   "execution_count": null,
   "id": "9e6ab7b3-fdcb-492b-bac4-890a12480f9d",
   "metadata": {},
   "outputs": [],
   "source": [
    "plt.plot(range(len(y_pred_clear)), y_pred_A, label='Predizione', color='blue', linestyle='-')\n",
    "\n",
    "# Aggiungi una legenda\n",
    "plt.legend()\n",
    "\n",
    "# Aggiungi etichette agli assi\n",
    "plt.ylabel('Valori y')\n",
    "\n",
    "# Titolo del grafico\n",
    "plt.title('Grafico di Predizione')\n",
    "\n",
    "# Mostra il grafico\n",
    "plt.show()"
   ]
  },
  {
   "cell_type": "code",
   "execution_count": null,
   "id": "006f3c40-6b7b-41a6-bf5d-decb0321db8b",
   "metadata": {},
   "outputs": [],
   "source": [
    "df = pd.DataFrame({'Prediction':y_pred_A})"
   ]
  },
  {
   "cell_type": "code",
   "execution_count": null,
   "id": "c340aac0-1709-4090-a725-e58f968cff11",
   "metadata": {},
   "outputs": [],
   "source": [
    "threshold = 0.05\n",
    "df['Prediction'] = df['Prediction'].apply(lambda x: 0 if x < threshold else x)"
   ]
  },
  {
   "cell_type": "code",
   "execution_count": null,
   "id": "33dac465-12c8-4234-9328-0639f338f50e",
   "metadata": {},
   "outputs": [],
   "source": [
    "df.to_csv('A.csv')"
   ]
  },
  {
   "cell_type": "code",
   "execution_count": null,
   "id": "468cd57d",
   "metadata": {},
   "outputs": [],
   "source": [
    "df.head(50)\n",
    "data = df\n",
    "df"
   ]
  },
  {
   "cell_type": "code",
   "execution_count": null,
   "id": "97173412",
   "metadata": {
    "scrolled": true
   },
   "outputs": [],
   "source": [
    "import pandas as pd\n",
    "from sklearn.model_selection import TimeSeriesSplit\n",
    "from sklearn.preprocessing import StandardScaler\n",
    "from sklearn.feature_selection import RFE\n",
    "from sklearn.ensemble import RandomForestRegressor\n",
    "from sklearn.metrics import mean_absolute_error\n",
    "\n",
    "param = {'verbose' : -1}\n",
    "# Definisci il modello di machine learning\n",
    "model = lgb.LGBMRegressor(**param)\n",
    "\n",
    "# Definisci il selezionatore di feature\n",
    "rfe = RFE(estimator=model, n_features_to_select=None)\n",
    "\n",
    "# Definisci il cross-validator\n",
    "cv = TimeSeriesSplit(n_splits=3)\n",
    "\n",
    "# Trova il numero migliore di feature in base al MAE\n",
    "errors = []\n",
    "for n_features in range(1, len(df.columns)):\n",
    "    rfe.n_features_to_select = n_features\n",
    "    print(\"Numero di Feature usate: \",n_features)\n",
    "    # Calcola il MAE utilizzando la cross-validation\n",
    "    maelist = []\n",
    "    for train_index, test_index in tscv.split(data):\n",
    "        train_data = data.iloc[train_index]\n",
    "        test_data = data.iloc[test_index]\n",
    "\n",
    "        # Extract target variable for training and testing data\n",
    "        y_train = train_data['pv_measurement']\n",
    "        y_test = test_data['pv_measurement']\n",
    "\n",
    "        # Extract features for training and testing data\n",
    "        X_train = train_data.drop(columns = 'pv_measurement')\n",
    "        X_test = test_data.drop(columns = 'pv_measurement')\n",
    "        \n",
    "        # Train the XGBoost model\n",
    "        rfe.fit(X_train, y_train)\n",
    "\n",
    "        # Make predictions on the test data\n",
    "        y_pred = rfe.predict(X_test)\n",
    "\n",
    "        # Evaluate the model using Mean Absolute Error (MAE)\n",
    "        mae = mean_absolute_error(y_test, y_pred)\n",
    "        print(\"Mean Absolute Error:\", mae)\n",
    "        maelist.append(mae)\n",
    "    # Calcola il MAE medio\n",
    "    mean_mae = np.mean(maelist)\n",
    "    print(\"MAE medio : \",mae)\n",
    "    errors.append(mae)"
   ]
  },
  {
   "cell_type": "code",
   "execution_count": null,
   "id": "231c2463",
   "metadata": {},
   "outputs": [],
   "source": [
    "# Trova il numero di feature con il MAE minimo\n",
    "min_index = errors.index(min(errors))\n",
    "errros_df = pd.DataFrame(errors)\n",
    "n_features = min_index + 1\n",
    "errros_df,min_index"
   ]
  },
  {
   "cell_type": "code",
   "execution_count": null,
   "id": "288a7a7d",
   "metadata": {},
   "outputs": [],
   "source": [
    "# Esegui la RFE con il numero di feature ottimale\n",
    "rfe.n_features_to_select = n_features\n",
    "rfe.fit(df.drop(columns ='pv_measurement') , df[\"pv_measurement\"])"
   ]
  },
  {
   "cell_type": "code",
   "execution_count": 78,
   "id": "1b817ff4",
   "metadata": {},
   "outputs": [
    {
     "data": {
      "text/plain": [
       "array(['absolute_humidity_2mgm3', 'air_density_2mkgm3',\n",
       "       'ceiling_height_aglm', 'clear_sky_energy_1hJ', 'clear_sky_radW',\n",
       "       'cloud_base_aglm', 'dew_point_2mK', 'diffuse_radW',\n",
       "       'diffuse_rad_1hJ', 'direct_radW', 'direct_rad_1hJ',\n",
       "       'effective_cloud_coverp', 'elevationm', 'fresh_snow_24hcm',\n",
       "       'is_dayidx', 'msl_pressurehPa', 'precip_5minmm',\n",
       "       'precip_type_5minidx', 'pressure_100mhPa', 'rain_waterkgm2',\n",
       "       'relative_humidity_1000hPap', 'snow_depthcm', 'snow_waterkgm2',\n",
       "       'sun_azimuthd', 'sun_elevationd', 'super_cooled_liquid_waterkgm2',\n",
       "       't_1000hPaK', 'total_cloud_coverp', 'visibilitym',\n",
       "       'wind_speed_10mms', 'wind_speed_u_10mms', 'wind_speed_v_10mms',\n",
       "       'hours', 'day', 'month', 'year'], dtype=object)"
      ]
     },
     "execution_count": 78,
     "metadata": {},
     "output_type": "execute_result"
    }
   ],
   "source": [
    "# Seleziona le feature più importanti\n",
    "selected_features = rfe.get_feature_names_out()\n",
    "selected_features"
   ]
  },
  {
   "cell_type": "code",
   "execution_count": null,
   "id": "4b2e9756",
   "metadata": {},
   "outputs": [],
   "source": [
    "# Traina il modello sulle feature selezionate\n",
    "model.fit(df[selected_features], df[\"pv_measurement\"])\n",
    "\n",
    "# Calcola il MAE con le feature selezionate\n",
    "y_pred = model.predict(df[selected_features])\n",
    "mae = mean_absolute_error(df[\"pv_measurement\"], y_pred)\n",
    "\n",
    "print(\"Il numero migliore di feature è:\", n_features)\n",
    "print(\"Il MAE con il numero di feature ottimale è:\", mae)\n"
   ]
  },
  {
   "cell_type": "code",
   "execution_count": null,
   "id": "61c49395",
   "metadata": {},
   "outputs": [],
   "source": [
    "df[\"pv_measurement\"].plot()"
   ]
  },
  {
   "cell_type": "code",
   "execution_count": null,
   "id": "79e9062c",
   "metadata": {},
   "outputs": [],
   "source": [
    "# Plotta la predizione e il target\n",
    "targets = df[\"pv_measurement\"]\n",
    "\n",
    "# Ignora l'indice del target\n",
    "targets = targets.reset_index(drop=True)\n",
    "\n",
    "plt.plot(targets, label=\"Target\")\n",
    "plt.plot(y_pred, label=\"Predizione\")\n",
    "\n",
    "\n",
    "plt.legend()\n",
    "plt.show()"
   ]
  },
  {
   "cell_type": "code",
   "execution_count": 97,
   "id": "2af580ef",
   "metadata": {},
   "outputs": [],
   "source": [
    "data = df[selected_features]\n",
    "data['pv_measurement'] = df1[\"pv_measurement\"]"
   ]
  },
  {
   "cell_type": "code",
   "execution_count": null,
   "id": "471a9b8e",
   "metadata": {},
   "outputs": [],
   "source": [
    "import math\n",
    "\n",
    "sun_azimuthd = 100\n",
    "sun_elevationd = 30\n",
    "direct_radW = 1000\n",
    "diffuse_radW = 500\n",
    "\n",
    "alpha = 90- df[\"sun_elevationd\"]\n",
    "alpha.plot()\n"
   ]
  },
  {
   "cell_type": "code",
   "execution_count": null,
   "id": "818303c2",
   "metadata": {},
   "outputs": [],
   "source": [
    "df[\"sun_elevationd\"][2:27].plot()"
   ]
  },
  {
   "cell_type": "code",
   "execution_count": null,
   "id": "8862ba04",
   "metadata": {},
   "outputs": [],
   "source": []
  }
 ],
 "metadata": {
  "environment": {
   "kernel": "python3",
   "name": "common-cpu.m112",
   "type": "gcloud",
   "uri": "gcr.io/deeplearning-platform-release/base-cpu:m112"
  },
  "kernelspec": {
   "display_name": "Python 3 (ipykernel)",
   "language": "python",
   "name": "python3"
  },
  "language_info": {
   "codemirror_mode": {
    "name": "ipython",
    "version": 3
   },
   "file_extension": ".py",
   "mimetype": "text/x-python",
   "name": "python",
   "nbconvert_exporter": "python",
   "pygments_lexer": "ipython3",
   "version": "3.11.4"
  }
 },
 "nbformat": 4,
 "nbformat_minor": 5
}
