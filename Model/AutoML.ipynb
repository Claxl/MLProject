{
 "cells": [
  {
   "cell_type": "code",
   "execution_count": 1,
   "id": "2e71767e",
   "metadata": {},
   "outputs": [],
   "source": [
    "import pandas as pd\n",
    "import numpy as np\n",
    "import h2o\n",
    "from h2o.automl import H2OAutoML\n",
    "from utility import *\n",
    "#Import the Estimators\n",
    "from h2o.estimators.deeplearning import H2ODeepLearningEstimator\n",
    "from h2o.estimators import H2OXGBoostEstimator\n",
    "\n",
    "#Import h2o grid search \n",
    "import h2o.grid \n",
    "from h2o.grid.grid_search import H2OGridSearch\n",
    "from sklearn.model_selection import train_test_split"
   ]
  },
  {
   "cell_type": "code",
   "execution_count": 2,
   "id": "03c892c0",
   "metadata": {},
   "outputs": [],
   "source": [
    "base = \"/Users/claxl/Documents/GitHub/MLProject/Data Exploration/EDA/clearData/\""
   ]
  },
  {
   "cell_type": "code",
   "execution_count": 3,
   "id": "ac9231f6",
   "metadata": {},
   "outputs": [],
   "source": [
    "df_train_est_A, df_train_obs_A, df_test_A = readData(base,1)\n",
    "df_train_est_B, df_train_obs_B, df_test_B = readData(base,2)\n",
    "df_train_est_C, df_train_obs_C, df_test_C = readData(base,3)"
   ]
  },
  {
   "cell_type": "code",
   "execution_count": 4,
   "id": "4a40f48b",
   "metadata": {},
   "outputs": [],
   "source": [
    "df_train_est_A.set_index('date_forecast', inplace=True)\n",
    "df_train_obs_A.set_index('date_forecast', inplace=True)\n",
    "df_test_A.set_index('date_forecast', inplace=True)\n",
    "\n",
    "df_train_est_B.set_index('date_forecast', inplace=True)\n",
    "df_train_obs_B.set_index('date_forecast', inplace=True)\n",
    "df_test_B.set_index('date_forecast', inplace=True)\n",
    "\n",
    "df_train_est_C.set_index('date_forecast', inplace=True)\n",
    "df_train_obs_C.set_index('date_forecast', inplace=True)\n",
    "df_test_C.set_index('date_forecast', inplace=True)"
   ]
  },
  {
   "cell_type": "code",
   "execution_count": 5,
   "id": "ec1ad0c6",
   "metadata": {},
   "outputs": [],
   "source": [
    "df_train = get_df_train(df_train_est_A,df_train_obs_A)"
   ]
  },
  {
   "cell_type": "code",
   "execution_count": 6,
   "id": "cd1d20bc",
   "metadata": {},
   "outputs": [],
   "source": [
    "# Calcola il primo e terzo quartile per ciascuna colonna\n",
    "Q1 = df_train.quantile(0.25)\n",
    "Q3 = df_train.quantile(0.75)\n",
    "\n",
    "    # Calcola l'intervallo interquartile (IQR) per ciascuna colonna\n",
    "IQR = Q3 - Q1\n",
    "\n",
    "    # Definisci i limiti per identificare gli outlier per ciascuna colonna\n",
    "limite_inferiore = Q1 - 3 * IQR\n",
    "limite_superiore = Q3 + 3 * IQR\n",
    "\n",
    "    # Sostituisci gli outlier con i valori più estremi tra i non-outlier per ciascuna colonna\n",
    "for colonna in df_train.columns:\n",
    "    df_train[colonna] = df_train[colonna].apply(lambda x: limite_inferiore[colonna] if x < limite_inferiore[colonna] else (limite_superiore[colonna] if x > limite_superiore[colonna] else x))"
   ]
  },
  {
   "cell_type": "code",
   "execution_count": 7,
   "id": "c3cb7e0a",
   "metadata": {},
   "outputs": [],
   "source": [
    "dimensione_test = 2160\n",
    "\n",
    "# Calcola il numero di righe per il set di addestramento\n",
    "dimensione_addestramento = len(df_train) - dimensione_test"
   ]
  },
  {
   "cell_type": "code",
   "execution_count": 8,
   "id": "257449e4",
   "metadata": {},
   "outputs": [],
   "source": [
    "train = df_train.iloc[:dimensione_addestramento]\n",
    "test = df_train.iloc[dimensione_addestramento:]"
   ]
  },
  {
   "cell_type": "code",
   "execution_count": 10,
   "id": "d7202994",
   "metadata": {},
   "outputs": [
    {
     "name": "stdout",
     "output_type": "stream",
     "text": [
      "Checking whether there is an H2O instance running at http://localhost:54321. connected.\n"
     ]
    },
    {
     "data": {
      "text/html": [
       "\n",
       "<style>\n",
       "\n",
       "#h2o-table-2.h2o-container {\n",
       "  overflow-x: auto;\n",
       "}\n",
       "#h2o-table-2 .h2o-table {\n",
       "  /* width: 100%; */\n",
       "  margin-top: 1em;\n",
       "  margin-bottom: 1em;\n",
       "}\n",
       "#h2o-table-2 .h2o-table caption {\n",
       "  white-space: nowrap;\n",
       "  caption-side: top;\n",
       "  text-align: left;\n",
       "  /* margin-left: 1em; */\n",
       "  margin: 0;\n",
       "  font-size: larger;\n",
       "}\n",
       "#h2o-table-2 .h2o-table thead {\n",
       "  white-space: nowrap; \n",
       "  position: sticky;\n",
       "  top: 0;\n",
       "  box-shadow: 0 -1px inset;\n",
       "}\n",
       "#h2o-table-2 .h2o-table tbody {\n",
       "  overflow: auto;\n",
       "}\n",
       "#h2o-table-2 .h2o-table th,\n",
       "#h2o-table-2 .h2o-table td {\n",
       "  text-align: right;\n",
       "  /* border: 1px solid; */\n",
       "}\n",
       "#h2o-table-2 .h2o-table tr:nth-child(even) {\n",
       "  /* background: #F5F5F5 */\n",
       "}\n",
       "\n",
       "</style>      \n",
       "<div id=\"h2o-table-2\" class=\"h2o-container\">\n",
       "  <table class=\"h2o-table\">\n",
       "    <caption></caption>\n",
       "    <thead></thead>\n",
       "    <tbody><tr><td>H2O_cluster_uptime:</td>\n",
       "<td>29 secs</td></tr>\n",
       "<tr><td>H2O_cluster_timezone:</td>\n",
       "<td>Europe/Rome</td></tr>\n",
       "<tr><td>H2O_data_parsing_timezone:</td>\n",
       "<td>UTC</td></tr>\n",
       "<tr><td>H2O_cluster_version:</td>\n",
       "<td>3.44.0.1</td></tr>\n",
       "<tr><td>H2O_cluster_version_age:</td>\n",
       "<td>2 days</td></tr>\n",
       "<tr><td>H2O_cluster_name:</td>\n",
       "<td>H2O_from_python_Claudio_7l6dqm</td></tr>\n",
       "<tr><td>H2O_cluster_total_nodes:</td>\n",
       "<td>1</td></tr>\n",
       "<tr><td>H2O_cluster_free_memory:</td>\n",
       "<td>5.588 Gb</td></tr>\n",
       "<tr><td>H2O_cluster_total_cores:</td>\n",
       "<td>8</td></tr>\n",
       "<tr><td>H2O_cluster_allowed_cores:</td>\n",
       "<td>8</td></tr>\n",
       "<tr><td>H2O_cluster_status:</td>\n",
       "<td>locked, healthy</td></tr>\n",
       "<tr><td>H2O_connection_url:</td>\n",
       "<td>http://localhost:54321</td></tr>\n",
       "<tr><td>H2O_connection_proxy:</td>\n",
       "<td>{\"http\": null, \"https\": null}</td></tr>\n",
       "<tr><td>H2O_internal_security:</td>\n",
       "<td>False</td></tr>\n",
       "<tr><td>Python_version:</td>\n",
       "<td>3.11.4 final</td></tr></tbody>\n",
       "  </table>\n",
       "</div>\n"
      ],
      "text/plain": [
       "--------------------------  ------------------------------\n",
       "H2O_cluster_uptime:         29 secs\n",
       "H2O_cluster_timezone:       Europe/Rome\n",
       "H2O_data_parsing_timezone:  UTC\n",
       "H2O_cluster_version:        3.44.0.1\n",
       "H2O_cluster_version_age:    2 days\n",
       "H2O_cluster_name:           H2O_from_python_Claudio_7l6dqm\n",
       "H2O_cluster_total_nodes:    1\n",
       "H2O_cluster_free_memory:    5.588 Gb\n",
       "H2O_cluster_total_cores:    8\n",
       "H2O_cluster_allowed_cores:  8\n",
       "H2O_cluster_status:         locked, healthy\n",
       "H2O_connection_url:         http://localhost:54321\n",
       "H2O_connection_proxy:       {\"http\": null, \"https\": null}\n",
       "H2O_internal_security:      False\n",
       "Python_version:             3.11.4 final\n",
       "--------------------------  ------------------------------"
      ]
     },
     "metadata": {},
     "output_type": "display_data"
    }
   ],
   "source": [
    "h2o.init()"
   ]
  },
  {
   "cell_type": "code",
   "execution_count": 12,
   "id": "acce0ebc",
   "metadata": {},
   "outputs": [],
   "source": [
    "features_name = [c for c in df_train.columns if c != 'pv_measurement']\n",
    "target = 'pv_measurement'"
   ]
  },
  {
   "cell_type": "code",
   "execution_count": 13,
   "id": "d2076cec",
   "metadata": {},
   "outputs": [
    {
     "name": "stdout",
     "output_type": "stream",
     "text": [
      "Parse progress: |████████████████████████████████████████████████████████████████| (done) 100%\n",
      "Parse progress: |████████████████████████████████████████████████████████████████| (done) 100%\n"
     ]
    }
   ],
   "source": [
    "h2o_train = h2o.H2OFrame(train)\n",
    "h2o_test = h2o.H2OFrame(test)\n"
   ]
  },
  {
   "cell_type": "code",
   "execution_count": 14,
   "id": "4815b074",
   "metadata": {},
   "outputs": [],
   "source": [
    "xgb = H2OXGBoostEstimator(seed=42, model_id='XGBoost', nfolds=0, keep_cross_validation_predictions = False)\n",
    "\n"
   ]
  },
  {
   "cell_type": "code",
   "execution_count": 15,
   "id": "6a5951a1",
   "metadata": {},
   "outputs": [
    {
     "name": "stdout",
     "output_type": "stream",
     "text": [
      "CPU times: total: 0 ns\n",
      "Wall time: 0 ns\n"
     ]
    },
    {
     "ename": "H2OResponseError",
     "evalue": "Server error water.exceptions.H2ONotFoundArgumentException:\n  Error: POST /3/ModelBuilders/xgboost not found\n  Request: POST /3/ModelBuilders/xgboost\n    data: {'model_id': 'XGBoost', 'training_frame': 'Key_Frame__upload_995d9a490004fe108247fc5ca55148d4.hex', 'validation_frame': 'Key_Frame__upload_9229420c9f8e8e1551f7a897771945a1.hex', 'nfolds': '0', 'keep_cross_validation_models': 'True', 'keep_cross_validation_predictions': 'False', 'keep_cross_validation_fold_assignment': 'False', 'score_each_iteration': 'False', 'fold_assignment': 'auto', 'response_column': 'pv_measurement', 'ignore_const_cols': 'True', 'stopping_rounds': '0', 'stopping_metric': 'auto', 'stopping_tolerance': '0.001', 'max_runtime_secs': '0.0', 'seed': '42', 'distribution': 'auto', 'tweedie_power': '1.5', 'categorical_encoding': 'auto', 'quiet_mode': 'True', 'ntrees': '50', 'max_depth': '6', 'min_rows': '1.0', 'min_child_weight': '1.0', 'learn_rate': '0.3', 'eta': '0.3', 'sample_rate': '1.0', 'subsample': '1.0', 'col_sample_rate': '1.0', 'colsample_bylevel': '1.0', 'col_sample_rate_per_tree': '1.0', 'colsample_bytree': '1.0', 'colsample_bynode': '1.0', 'max_abs_leafnode_pred': '0.0', 'max_delta_step': '0.0', 'score_tree_interval': '0', 'min_split_improvement': '0.0', 'gamma': '0.0', 'nthread': '-1', 'build_tree_one_node': 'False', 'parallelize_cross_validation': 'True', 'calibrate_model': 'False', 'calibration_method': 'auto', 'max_bins': '256', 'max_leaves': '0', 'sample_type': 'uniform', 'normalize_type': 'tree', 'rate_drop': '0.0', 'one_drop': 'False', 'skip_drop': '0.0', 'tree_method': 'auto', 'grow_policy': 'depthwise', 'booster': 'gbtree', 'reg_lambda': '1.0', 'reg_alpha': '0.0', 'dmatrix_type': 'auto', 'backend': 'auto', 'gainslift_bins': '-1', 'auc_type': 'auto', 'scale_pos_weight': '1.0', 'score_eval_metric_only': 'False'}\n",
     "output_type": "error",
     "traceback": [
      "\u001b[1;31m---------------------------------------------------------------------------\u001b[0m",
      "\u001b[1;31mH2OResponseError\u001b[0m                          Traceback (most recent call last)",
      "Cell \u001b[1;32mIn[15], line 2\u001b[0m\n\u001b[0;32m      1\u001b[0m get_ipython()\u001b[38;5;241m.\u001b[39mrun_line_magic(\u001b[38;5;124m'\u001b[39m\u001b[38;5;124mtime\u001b[39m\u001b[38;5;124m'\u001b[39m, \u001b[38;5;124m'\u001b[39m\u001b[38;5;124m'\u001b[39m)\n\u001b[1;32m----> 2\u001b[0m xgb\u001b[38;5;241m.\u001b[39mtrain(x\u001b[38;5;241m=\u001b[39mfeatures_name, y\u001b[38;5;241m=\u001b[39mtarget, training_frame\u001b[38;5;241m=\u001b[39mh2o_train, validation_frame\u001b[38;5;241m=\u001b[39mh2o_test)\n",
      "File \u001b[1;32m~\\anaconda3\\Lib\\site-packages\\h2o\\estimators\\estimator_base.py:107\u001b[0m, in \u001b[0;36mH2OEstimator.train\u001b[1;34m(self, x, y, training_frame, offset_column, fold_column, weights_column, validation_frame, max_runtime_secs, ignored_columns, model_id, verbose)\u001b[0m\n\u001b[0;32m     88\u001b[0m \u001b[38;5;250m\u001b[39m\u001b[38;5;124;03m\"\"\"\u001b[39;00m\n\u001b[0;32m     89\u001b[0m \u001b[38;5;124;03mTrain the H2O model.\u001b[39;00m\n\u001b[0;32m     90\u001b[0m \n\u001b[1;32m   (...)\u001b[0m\n\u001b[0;32m    101\u001b[0m \u001b[38;5;124;03m:param bool verbose: Print scoring history to stdout. Defaults to False.\u001b[39;00m\n\u001b[0;32m    102\u001b[0m \u001b[38;5;124;03m\"\"\"\u001b[39;00m\n\u001b[0;32m    103\u001b[0m parms \u001b[38;5;241m=\u001b[39m \u001b[38;5;28mself\u001b[39m\u001b[38;5;241m.\u001b[39m_make_parms(x\u001b[38;5;241m=\u001b[39mx, y\u001b[38;5;241m=\u001b[39my, training_frame\u001b[38;5;241m=\u001b[39mtraining_frame, offset_column\u001b[38;5;241m=\u001b[39moffset_column, \n\u001b[0;32m    104\u001b[0m                          fold_column\u001b[38;5;241m=\u001b[39mfold_column, weights_column\u001b[38;5;241m=\u001b[39mweights_column, \n\u001b[0;32m    105\u001b[0m                          validation_frame\u001b[38;5;241m=\u001b[39mvalidation_frame, max_runtime_secs\u001b[38;5;241m=\u001b[39mmax_runtime_secs, \n\u001b[0;32m    106\u001b[0m                          ignored_columns\u001b[38;5;241m=\u001b[39mignored_columns, model_id\u001b[38;5;241m=\u001b[39mmodel_id, verbose\u001b[38;5;241m=\u001b[39mverbose)\n\u001b[1;32m--> 107\u001b[0m \u001b[38;5;28mself\u001b[39m\u001b[38;5;241m.\u001b[39m_train(parms, verbose\u001b[38;5;241m=\u001b[39mverbose)\n\u001b[0;32m    108\u001b[0m \u001b[38;5;28;01mreturn\u001b[39;00m \u001b[38;5;28mself\u001b[39m\n",
      "File \u001b[1;32m~\\anaconda3\\Lib\\site-packages\\h2o\\estimators\\estimator_base.py:186\u001b[0m, in \u001b[0;36mH2OEstimator._train\u001b[1;34m(self, parms, verbose)\u001b[0m\n\u001b[0;32m    183\u001b[0m assert_is_type(verbose, \u001b[38;5;28mbool\u001b[39m)\n\u001b[0;32m    185\u001b[0m rest_ver \u001b[38;5;241m=\u001b[39m \u001b[38;5;28mself\u001b[39m\u001b[38;5;241m.\u001b[39m_get_rest_version(parms)\n\u001b[1;32m--> 186\u001b[0m model_builder_json \u001b[38;5;241m=\u001b[39m h2o\u001b[38;5;241m.\u001b[39mapi(\u001b[38;5;124m\"\u001b[39m\u001b[38;5;124mPOST /\u001b[39m\u001b[38;5;132;01m%d\u001b[39;00m\u001b[38;5;124m/ModelBuilders/\u001b[39m\u001b[38;5;132;01m%s\u001b[39;00m\u001b[38;5;124m\"\u001b[39m \u001b[38;5;241m%\u001b[39m (rest_ver, \u001b[38;5;28mself\u001b[39m\u001b[38;5;241m.\u001b[39malgo), data\u001b[38;5;241m=\u001b[39mparms)\n\u001b[0;32m    187\u001b[0m job \u001b[38;5;241m=\u001b[39m H2OJob(model_builder_json, job_type\u001b[38;5;241m=\u001b[39m(\u001b[38;5;28mself\u001b[39m\u001b[38;5;241m.\u001b[39malgo \u001b[38;5;241m+\u001b[39m \u001b[38;5;124m\"\u001b[39m\u001b[38;5;124m Model Build\u001b[39m\u001b[38;5;124m\"\u001b[39m))\n\u001b[0;32m    189\u001b[0m \u001b[38;5;28;01mif\u001b[39;00m model_builder_json[\u001b[38;5;124m\"\u001b[39m\u001b[38;5;124mmessages\u001b[39m\u001b[38;5;124m\"\u001b[39m] \u001b[38;5;129;01mis\u001b[39;00m \u001b[38;5;129;01mnot\u001b[39;00m \u001b[38;5;28;01mNone\u001b[39;00m:\n",
      "File \u001b[1;32m~\\anaconda3\\Lib\\site-packages\\h2o\\h2o.py:122\u001b[0m, in \u001b[0;36mapi\u001b[1;34m(endpoint, data, json, filename, save_to)\u001b[0m\n\u001b[0;32m    120\u001b[0m \u001b[38;5;66;03m# type checks are performed in H2OConnection class\u001b[39;00m\n\u001b[0;32m    121\u001b[0m _check_connection()\n\u001b[1;32m--> 122\u001b[0m \u001b[38;5;28;01mreturn\u001b[39;00m h2oconn\u001b[38;5;241m.\u001b[39mrequest(endpoint, data\u001b[38;5;241m=\u001b[39mdata, json\u001b[38;5;241m=\u001b[39mjson, filename\u001b[38;5;241m=\u001b[39mfilename, save_to\u001b[38;5;241m=\u001b[39msave_to)\n",
      "File \u001b[1;32m~\\anaconda3\\Lib\\site-packages\\h2o\\backend\\connection.py:499\u001b[0m, in \u001b[0;36mH2OConnection.request\u001b[1;34m(self, endpoint, data, json, filename, save_to)\u001b[0m\n\u001b[0;32m    497\u001b[0m         save_to \u001b[38;5;241m=\u001b[39m save_to(resp)\n\u001b[0;32m    498\u001b[0m     \u001b[38;5;28mself\u001b[39m\u001b[38;5;241m.\u001b[39m_log_end_transaction(start_time, resp)\n\u001b[1;32m--> 499\u001b[0m     \u001b[38;5;28;01mreturn\u001b[39;00m \u001b[38;5;28mself\u001b[39m\u001b[38;5;241m.\u001b[39m_process_response(resp, save_to)\n\u001b[0;32m    501\u001b[0m \u001b[38;5;28;01mexcept\u001b[39;00m (requests\u001b[38;5;241m.\u001b[39mexceptions\u001b[38;5;241m.\u001b[39mConnectionError, requests\u001b[38;5;241m.\u001b[39mexceptions\u001b[38;5;241m.\u001b[39mHTTPError) \u001b[38;5;28;01mas\u001b[39;00m e:\n\u001b[0;32m    502\u001b[0m     \u001b[38;5;28;01mif\u001b[39;00m \u001b[38;5;28mself\u001b[39m\u001b[38;5;241m.\u001b[39m_local_server \u001b[38;5;129;01mand\u001b[39;00m \u001b[38;5;129;01mnot\u001b[39;00m \u001b[38;5;28mself\u001b[39m\u001b[38;5;241m.\u001b[39m_local_server\u001b[38;5;241m.\u001b[39mis_running():\n",
      "File \u001b[1;32m~\\anaconda3\\Lib\\site-packages\\h2o\\backend\\connection.py:853\u001b[0m, in \u001b[0;36mH2OConnection._process_response\u001b[1;34m(response, save_to)\u001b[0m\n\u001b[0;32m    851\u001b[0m \u001b[38;5;28;01mif\u001b[39;00m status_code \u001b[38;5;129;01min\u001b[39;00m {\u001b[38;5;241m400\u001b[39m, \u001b[38;5;241m404\u001b[39m, \u001b[38;5;241m412\u001b[39m} \u001b[38;5;129;01mand\u001b[39;00m \u001b[38;5;28misinstance\u001b[39m(data, H2OErrorV3):\n\u001b[0;32m    852\u001b[0m     data\u001b[38;5;241m.\u001b[39mshow_stacktrace \u001b[38;5;241m=\u001b[39m \u001b[38;5;28;01mFalse\u001b[39;00m\n\u001b[1;32m--> 853\u001b[0m     \u001b[38;5;28;01mraise\u001b[39;00m H2OResponseError(data)\n\u001b[0;32m    855\u001b[0m \u001b[38;5;66;03m# Server errors (notably 500 = \"Server Error\")\u001b[39;00m\n\u001b[0;32m    856\u001b[0m \u001b[38;5;66;03m# Note that it is possible to receive valid H2OErrorV3 object in this case, however it merely means the server\u001b[39;00m\n\u001b[0;32m    857\u001b[0m \u001b[38;5;66;03m# did not provide the correct status code.\u001b[39;00m\n\u001b[0;32m    858\u001b[0m \u001b[38;5;28;01mraise\u001b[39;00m H2OServerError(\u001b[38;5;124m\"\u001b[39m\u001b[38;5;124mHTTP \u001b[39m\u001b[38;5;132;01m%d\u001b[39;00m\u001b[38;5;124m \u001b[39m\u001b[38;5;132;01m%s\u001b[39;00m\u001b[38;5;124m:\u001b[39m\u001b[38;5;130;01m\\n\u001b[39;00m\u001b[38;5;132;01m%s\u001b[39;00m\u001b[38;5;124m\"\u001b[39m \u001b[38;5;241m%\u001b[39m (status_code, response\u001b[38;5;241m.\u001b[39mreason, data))\n",
      "\u001b[1;31mH2OResponseError\u001b[0m: Server error water.exceptions.H2ONotFoundArgumentException:\n  Error: POST /3/ModelBuilders/xgboost not found\n  Request: POST /3/ModelBuilders/xgboost\n    data: {'model_id': 'XGBoost', 'training_frame': 'Key_Frame__upload_995d9a490004fe108247fc5ca55148d4.hex', 'validation_frame': 'Key_Frame__upload_9229420c9f8e8e1551f7a897771945a1.hex', 'nfolds': '0', 'keep_cross_validation_models': 'True', 'keep_cross_validation_predictions': 'False', 'keep_cross_validation_fold_assignment': 'False', 'score_each_iteration': 'False', 'fold_assignment': 'auto', 'response_column': 'pv_measurement', 'ignore_const_cols': 'True', 'stopping_rounds': '0', 'stopping_metric': 'auto', 'stopping_tolerance': '0.001', 'max_runtime_secs': '0.0', 'seed': '42', 'distribution': 'auto', 'tweedie_power': '1.5', 'categorical_encoding': 'auto', 'quiet_mode': 'True', 'ntrees': '50', 'max_depth': '6', 'min_rows': '1.0', 'min_child_weight': '1.0', 'learn_rate': '0.3', 'eta': '0.3', 'sample_rate': '1.0', 'subsample': '1.0', 'col_sample_rate': '1.0', 'colsample_bylevel': '1.0', 'col_sample_rate_per_tree': '1.0', 'colsample_bytree': '1.0', 'colsample_bynode': '1.0', 'max_abs_leafnode_pred': '0.0', 'max_delta_step': '0.0', 'score_tree_interval': '0', 'min_split_improvement': '0.0', 'gamma': '0.0', 'nthread': '-1', 'build_tree_one_node': 'False', 'parallelize_cross_validation': 'True', 'calibrate_model': 'False', 'calibration_method': 'auto', 'max_bins': '256', 'max_leaves': '0', 'sample_type': 'uniform', 'normalize_type': 'tree', 'rate_drop': '0.0', 'one_drop': 'False', 'skip_drop': '0.0', 'tree_method': 'auto', 'grow_policy': 'depthwise', 'booster': 'gbtree', 'reg_lambda': '1.0', 'reg_alpha': '0.0', 'dmatrix_type': 'auto', 'backend': 'auto', 'gainslift_bins': '-1', 'auc_type': 'auto', 'scale_pos_weight': '1.0', 'score_eval_metric_only': 'False'}\n"
     ]
    }
   ],
   "source": [
    "%time \n",
    "xgb.train(x=features_name, y=target, training_frame=h2o_train, validation_frame=h2o_test)\n"
   ]
  },
  {
   "cell_type": "code",
   "execution_count": null,
   "id": "9fb2fa44",
   "metadata": {},
   "outputs": [],
   "source": []
  }
 ],
 "metadata": {
  "kernelspec": {
   "display_name": "Python 3 (ipykernel)",
   "language": "python",
   "name": "python3"
  },
  "language_info": {
   "codemirror_mode": {
    "name": "ipython",
    "version": 3
   },
   "file_extension": ".py",
   "mimetype": "text/x-python",
   "name": "python",
   "nbconvert_exporter": "python",
   "pygments_lexer": "ipython3",
   "version": "3.11.4"
  }
 },
 "nbformat": 4,
 "nbformat_minor": 5
}
